{
 "cells": [
  {
   "cell_type": "markdown",
   "id": "36913b62",
   "metadata": {},
   "source": [
    "## G. Побег\n",
    "У Тони осталось лишь 10 часов до экзамена в ШАД. У него есть 3 задачника: по матану, линейной алгебре и теорверу. \n",
    "\n",
    "Он ещё не притрагивался к теорверу, но верит, что разберётся, попадись ему задачник. Он придумал, как ему казалось, идеальную стратегию на ночь: выбрать задачник, решать задачи из него 1 час, затем случайным образом выбрать один из 3 задачников и решать час из него. И так до упора.\n",
    "\n",
    "Тони желает понять, успеет ли он добраться до задачника по теорверу в среднем, следуя данной стратегии.\n",
    "Найдите матожидание случайной величины: 10 - количество часов до первой встречи с задачником по теорверу, если известно, что Тони начал с задачника по матану.\n",
    "Введите ответ (одно вещественное число, разделитель — точка), округлённый до десяти знаков после запятой.\n",
    "Введенное вами число должно отличаться от правильного ответа не более чем на \n",
    "1\n",
    "0\n",
    "−\n",
    "9\n",
    "."
   ]
  },
  {
   "cell_type": "code",
   "execution_count": 1,
   "id": "d70594c4",
   "metadata": {},
   "outputs": [],
   "source": [
    "from math import factorial"
   ]
  },
  {
   "cell_type": "code",
   "execution_count": null,
   "id": "9df74ea9",
   "metadata": {},
   "outputs": [],
   "source": [
    "def combinations(n1, k1):\n",
    "    return factorial(n1) // (factorial(k1) * factorial(n1 - k1))"
   ]
  },
  {
   "cell_type": "code",
   "execution_count": 5,
   "id": "8f965620",
   "metadata": {},
   "outputs": [
    {
     "data": {
      "text/plain": [
       "0.9739877051262511"
      ]
     },
     "execution_count": 5,
     "metadata": {},
     "output_type": "execute_result"
    }
   ],
   "source": [
    "p = 1/3\n",
    "1 - (1-p)**9"
   ]
  }
 ],
 "metadata": {
  "kernelspec": {
   "display_name": "Python 3 (ipykernel)",
   "language": "python",
   "name": "python3"
  },
  "language_info": {
   "codemirror_mode": {
    "name": "ipython",
    "version": 3
   },
   "file_extension": ".py",
   "mimetype": "text/x-python",
   "name": "python",
   "nbconvert_exporter": "python",
   "pygments_lexer": "ipython3",
   "version": "3.9.13"
  }
 },
 "nbformat": 4,
 "nbformat_minor": 5
}
