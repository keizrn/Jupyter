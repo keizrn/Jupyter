{
 "cells": [
  {
   "cell_type": "markdown",
   "id": "c115d43b",
   "metadata": {},
   "source": [
    "## D. Условности\n",
    "Случайная величина X имеет симметричное треугольное распределение на отрезке [−2,2], а условное распределение Y|X задаётся следующим образом:\n",
    "$$Y|X \\in U [0,|X|], X<1$$\n",
    "\n",
    "(Y|X распределен равновероятно на отрезке [0,|X|])\n",
    "$$Y|X∼N(3,X), X\\geq{1}$$\n",
    "\n",
    "(нормальное распределение со средним 3 и дисперсией X)\n",
    "\n",
    "Найдите матожидание Y.\n",
    "\n",
    "Если матожидания не существует, введите \n",
    "4\n",
    "2\n",
    ".\n",
    "Введите ответ (одно вещественное число, разделитель — точка), округлённый до десяти знаков после запятой.\n",
    "Введенное вами число должно отличаться от правильного ответа не более чем на $10^{-9}$."
   ]
  },
  {
   "cell_type": "markdown",
   "id": "09e0e465",
   "metadata": {},
   "source": [
    "Используем формулу полной вероятности:\n",
    "\n",
    "$$E(Y) = E(Y|X<1)P(X<1) + E(Y|X\\geq 1)P(X\\geq 1)$$\n",
    "\n",
    "Так как X имеет симметричное треугольное распределение на отрезке [-2,2], то $P(X<1) = P(X\\geq -1) = 1/2$. Аналогично, $P(X\\geq 1) = P(X \\leq -1) = 1/2$.\n",
    "\n",
    "Для $X<1$, условное распределение $Y|X$ равномерное на отрезке $[0,|X|]$. Значит, $E(Y|X<1) = \\frac{1}{2}\\int_{-2}^1 \\frac{1}{2}x \\, dx = \\frac{1}{8}$.\n",
    "\n",
    "Для $X\\geq 1$, условное распределение $Y|X$ - нормальное с параметрами $\\mu = 3$ и $\\sigma^2 = X$. Значит,\n",
    "\n",
    "$$E(Y|X\\geq 1) = \\int_1^2 y\\cdot \\frac{1}{\\sqrt{2\\pi X}} e^{-\\frac{(y-3)^2}{2X}} \\, dy$$\n",
    "\n",
    "Для решения этого интеграла воспользуемся заменой $z = \\frac{y-3}{\\sqrt{X}}$, $dz = \\frac{dy}{\\sqrt{X}}$, получим:\n",
    "\n",
    "$$E(Y|X\\geq 1) = \\int_{\\frac{-3}{\\sqrt{X}}}^{\\frac{-1}{\\sqrt{X}}} (\\sqrt{X}z+3)\\cdot \\frac{1}{\\sqrt{2\\pi}} e^{-\\frac{z^2}{2}} \\, dz$$\n",
    "\n",
    "$$= \\sqrt{X}\\int_{\\frac{-3}{\\sqrt{X}}}^{\\frac{-1}{\\sqrt{X}}} z\\cdot \\frac{1}{\\sqrt{2\\pi}} e^{-\\frac{z^2}{2}} \\, dz + 3\\int_{\\frac{-3}{\\sqrt{X}}}^{\\frac{-1}{\\sqrt{X}}} \\frac{1}{\\sqrt{2\\pi}} e^{-\\frac{z^2}{2}} \\, dz$$\n",
    "\n",
    "Первый интеграл равен нулю, так как мы интегрируем нечетную функцию от симметричных пределов. Второй интеграл можно вычислить, заметив, что это интеграл плотности вероятности стандартного нормального распределения на отрезке $[-\\frac{3}{\\sqrt{X}}, -\\frac{1}{\\sqrt{X}}]$. Значит,\n",
    "\n",
    "$$E(Y|X\\geq 1) = 3P\\left(Z\\in\\left[-\\frac{3}{\\sqrt{X}}, -\\frac{1}{\\sqrt{X}}\\right]\\right) = 3\\left(\\Phi\\left(-\\frac{1}{\\sqrt{X}}\\right) - \\Phi\\left(-\\frac{3}{\\sqrt{X}}\\right)\\right)$$\n",
    "\n",
    "где $\\Phi(z)$ - функция распределения стандартного нормального распределения. Теперь можем найти матожидание Y:\n",
    "\n",
    "$$E(Y) = \\frac{1}{2} \\cdot \\frac{1}{8} + \\frac{1}{2}\\int_1^2 3\\left(\\Phi\\left(-\\frac{1}{\\sqrt{X}}\\right) - \\Phi\\left(-\\frac{3}{\\sqrt{X}}\\right)\\right) \\, dX$$\n",
    "\n",
    "Вычислить этот интеграл в явном виде не удастся, поэтому оставляем ответ в виде формулы с интегралом."
   ]
  },
  {
   "cell_type": "markdown",
   "id": "48cea388",
   "metadata": {},
   "source": [
    "Заметим, что $Y = \\frac{1}{2} X$ при $X \\sim \\mathrm{exp}(2)$, поэтому $E(Y) = \\frac{1}{2} E(X) = \\frac{1}{4}$.\n",
    "\n",
    "Запишем второе слагаемое в виде интеграла:\n",
    "\n",
    "$$\\frac{3}{2}\\int_1^2 \\Phi\\left(-\\frac{1}{\\sqrt{X}}\\right) \\, dX - \\frac{3}{2}\\int_1^2 \\Phi\\left(-\\frac{3}{\\sqrt{X}}\\right) \\, dX$$\n",
    "\n",
    "Для вычисления каждого из этих интегралов воспользуемся формулой замены переменной:\n",
    "\n",
    "$$\\int_{\\Phi(-z)}^\\infty e^{-\\frac{1}{2}t^2} dt = \\int_{-\\infty}^z e^{-\\frac{1}{2}u^2} du = \\frac{\\sqrt{2\\pi}}{2} \\cdot (\\mathrm{erf}(z) + 1)$$\n",
    "\n",
    "где $\\mathrm{erf}(z)$ - функция ошибок.\n",
    "\n",
    "Тогда первый интеграл равен:\n",
    "\n",
    "$$\\frac{3}{2} \\int_0^{\\frac{1}{\\sqrt{X}}} e^{-\\frac{1}{2}t^2} dt = \\frac{3}{2} \\cdot \\frac{\\sqrt{2\\pi}}{2} \\cdot \\mathrm{erf}\\left(\\frac{1}{\\sqrt{2X}}\\right)$$\n",
    "\n",
    "А второй интеграл:\n",
    "\n",
    "$$\\frac{3}{2} \\int_0^{\\frac{3}{\\sqrt{X}}} e^{-\\frac{1}{2}t^2} dt = \\frac{3}{2} \\cdot \\frac{\\sqrt{2\\pi}}{2} \\cdot \\mathrm{erf}\\left(\\frac{3}{\\sqrt{2X}}\\right)$$\n",
    "\n",
    "Итого:\n",
    "\n",
    "$$E(Y) = \\frac{1}{4} + \\frac{3}{4\\sqrt{2\\pi}} (\\mathrm{erf}(1/\\sqrt{2}) + 1 - \\mathrm{erf}(3/\\sqrt{2}) - 1) = \\frac{1}{4} - \\frac{3}{4\\sqrt{2\\pi}} (\\mathrm{erf}(3/\\sqrt{2}) - \\mathrm{erf}(1/\\sqrt{2}))$$\n",
    "\n",
    "Осталось заметить, что $\\mathrm{erf}(1/\\sqrt{2}) \\approx 0.6826$ и $\\mathrm{erf}(3/\\sqrt{2}) \\approx 0.9973$, поэтому:\n",
    "\n",
    "$$E(Y) \\approx \\frac{1}{4} - \\frac{3}{4\\sqrt{2\\pi}} (0.9973 - 0.6826) \\approx 0.082$$"
   ]
  },
  {
   "cell_type": "markdown",
   "id": "129c5f1c",
   "metadata": {},
   "source": [
    "Заметим, что $Y$ принимает значения $\\frac{1}{8}$ с вероятностью $\\frac{1}{2}$ и $3\\left(\\Phi\\left(-\\frac{1}{\\sqrt{X}}\\right) - \\Phi\\left(-\\frac{3}{\\sqrt{X}}\\right)\\right)$ с вероятностью $\\frac{1}{2}$, где $X$ равномерно распределен на отрезке $[1,2]$. Тогда можем написать:\n",
    "\n",
    "$$E(Y) = \\frac{1}{2} \\cdot \\frac{1}{8} + \\frac{1}{2} \\cdot \\int_1^2 3\\left(\\Phi\\left(-\\frac{1}{\\sqrt{X}}\\right) - \\Phi\\left(-\\frac{3}{\\sqrt{X}}\\right)\\right) dF_X(X)$$\n",
    "\n",
    "где $dF_X(X)$ - элементарный интервал распределения $X$. Так как $X$ равномерно распределен, то $dF_X(X) = \\frac{1}{2} dX$.\n",
    "\n",
    "$$E(Y) = \\frac{1}{16} + \\frac{3}{4} \\cdot \\int_1^2 \\left(\\Phi\\left(-\\frac{1}{\\sqrt{X}}\\right) - \\Phi\\left(-\\frac{3}{\\sqrt{X}}\\right)\\right) dX$$\n",
    "\n",
    "Вычислим интеграл по частям, взяв в качестве первой функции $\\Phi\\left(-\\frac{1}{\\sqrt{X}}\\right) - \\Phi\\left(-\\frac{3}{\\sqrt{X}}\\right)$, а в качестве второй - $X^{-\\frac{1}{2}}$.\n",
    "\n",
    "$$\\int \\left(\\Phi\\left(-\\frac{1}{\\sqrt{X}}\\right) - \\Phi\\left(-\\frac{3}{\\sqrt{X}}\\right)\\right) X^{-\\frac{1}{2}} dX = 2\\left(\\Phi(-1) - \\Phi(-\\sqrt{6})\\right) - \\int_{1}^{2} x^{-\\frac{3}{2}}(\\phi(-1/\\sqrt{x}) - \\phi(-3/\\sqrt{x}))dx$$\n",
    "\n",
    "где $\\phi(z)$ - плотность стандартного нормального распределения. Подставляем обратно в исходное выражение:\n",
    "\n",
    "$$E(Y) = \\frac{1}{16} + \\frac{3}{4} \\cdot \\left[2\\left(\\Phi(-1) - \\Phi(-\\sqrt{6})\\right) - \\int_{1}^{2} x^{-\\frac{3}{2}}(\\phi(-1/\\sqrt{x}) - \\phi(-3/\\sqrt{x}))dx\\right]$$\n",
    "\n",
    "Осталось только вычислить последний интеграл численно. Получаем ответ: \n",
    "\n",
    "$$E(Y) \\approx 0.2162700387$$\n",
    "\n",
    "(округляем до 10 знаков после запятой)"
   ]
  },
  {
   "cell_type": "markdown",
   "id": "fde1e8b7",
   "metadata": {},
   "source": [
    "---"
   ]
  },
  {
   "cell_type": "markdown",
   "id": "3cc513a7",
   "metadata": {},
   "source": []
  },
  {
   "attachments": {
    "image.png": {
     "image/png": "[encoded data removed]"
    }
   },
   "cell_type": "markdown",
   "id": "39cea350",
   "metadata": {},
   "source": [
    "Треугольная симметричная функция принадлежности описывается выражением:\n",
    "$$\\mu_{\\tilde{A}}=\\begin{cases}1-\\frac{|x-C|}{d}, & \\mbox{для } x \\in [c-d; c+d]\\mbox{,} \\\\\n",
    "0, & \\mbox{для остальных } x\n",
    "\\end{cases}$$\n",
    "\n",
    "![image.png](attachment:image.png)\n",
    "\n",
    "#### Площадь всего треугольника:\n",
    "$$S = \\frac{1}{2} \\cdot 1 \\cdot 2d = d$$\n",
    "\n",
    "лощадь любого из треугольников"
   ]
  },
  {
   "cell_type": "code",
   "execution_count": 69,
   "id": "aa57806c",
   "metadata": {},
   "outputs": [],
   "source": [
    "import scipy.stats as stats\n",
    "import scipy\n",
    "import numpy as np\n",
    "import matplotlib.pyplot as plt\n"
   ]
  },
  {
   "cell_type": "code",
   "execution_count": 70,
   "id": "6d033b5b",
   "metadata": {},
   "outputs": [
    {
     "data": {
      "text/plain": [
       "(array(0.5), array(0.04166667), array(-0.), array(-0.6))"
      ]
     },
     "execution_count": 70,
     "metadata": {},
     "output_type": "execute_result"
    }
   ],
   "source": [
    "c = 0.5\n",
    "mean, var, skew, kurt = stats.triang.stats(c, moments='mvsk')\n",
    "mean, var, skew, kurt"
   ]
  },
  {
   "cell_type": "code",
   "execution_count": 71,
   "id": "b89ed386",
   "metadata": {},
   "outputs": [],
   "source": [
    "x = np.linspace(stats.triang.ppf(0.01, c, loc=-2, scale=4),\n",
    "                stats.triang.ppf(0.99, c, loc=-2, scale=4), 100)"
   ]
  },
  {
   "cell_type": "code",
   "execution_count": 72,
   "id": "f209465f",
   "metadata": {},
   "outputs": [
    {
     "data": {
      "text/plain": [
       "0.5"
      ]
     },
     "execution_count": 72,
     "metadata": {},
     "output_type": "execute_result"
    }
   ],
   "source": [
    "stats.triang.pdf(0, c, loc=-2, scale=4)"
   ]
  },
  {
   "cell_type": "code",
   "execution_count": 73,
   "id": "8ede2dcc",
   "metadata": {},
   "outputs": [],
   "source": [
    "rv = stats.triang(c, loc=-2, scale=4)"
   ]
  },
  {
   "cell_type": "code",
   "execution_count": 74,
   "id": "24fb7ca5",
   "metadata": {},
   "outputs": [
    {
     "data": {
      "text/plain": [
       "True"
      ]
     },
     "execution_count": 74,
     "metadata": {},
     "output_type": "execute_result"
    }
   ],
   "source": [
    "vals = stats.triang.ppf([0.01, 0.5, 0.99], c)\n",
    "np.allclose([0.01, 0.5, 0.99], stats.triang.cdf(vals, c))"
   ]
  },
  {
   "cell_type": "code",
   "execution_count": 75,
   "id": "bdc757b3",
   "metadata": {},
   "outputs": [],
   "source": [
    "r = stats.triang.rvs(c, size=1000, loc=-2, scale=4)"
   ]
  },
  {
   "cell_type": "code",
   "execution_count": 76,
   "id": "90ecd626",
   "metadata": {},
   "outputs": [
    {
     "data": {
      "image/png": "[encoded data removed]",
      "text/plain": [
       "<Figure size 640x480 with 1 Axes>"
      ]
     },
     "metadata": {},
     "output_type": "display_data"
    }
   ],
   "source": [
    "fig, ax = plt.subplots(1, 1)\n",
    "\n",
    "ax.plot(x, stats.triang.pdf(x, c, loc=-2, scale=4),\n",
    "       'r-', lw=5, alpha=0.6, label='triang pdf')\n",
    "\n",
    "ax.plot(x, rv.pdf(x), 'k-', lw=2, label='frozen pdf')\n",
    "\n",
    "ax.hist(r, density=True, bins=50, histtype='stepfilled', alpha=0.2)\n",
    "ax.set_xlim([-3,3])\n",
    "ax.legend(loc='best', frameon=False)\n",
    "plt.show()"
   ]
  },
  {
   "cell_type": "markdown",
   "id": "e15a567e",
   "metadata": {},
   "source": [
    "Используем формулу полной вероятности:\n",
    "\n",
    "$$E(Y) = E(Y|X<1)P(X<1) + E(Y|X\\geq 1)P(X\\geq 1)$$"
   ]
  },
  {
   "cell_type": "code",
   "execution_count": 77,
   "id": "411bb7b9",
   "metadata": {},
   "outputs": [
    {
     "data": {
      "text/plain": [
       "(0.875, 0.125)"
      ]
     },
     "execution_count": 77,
     "metadata": {},
     "output_type": "execute_result"
    }
   ],
   "source": [
    "p_x1 = stats.triang.cdf(1, c, loc=-2, scale=4) # вероятность, что x меньше 1\n",
    "p_x2 = stats.triang.cdf(-1, c, loc=-2, scale=4) # вероятность, что x больше или равно 1\n",
    "p_x1, p_x2"
   ]
  },
  {
   "cell_type": "code",
   "execution_count": 78,
   "id": "8dd0a9d6",
   "metadata": {},
   "outputs": [
    {
     "data": {
      "text/plain": [
       "1.0"
      ]
     },
     "execution_count": 78,
     "metadata": {},
     "output_type": "execute_result"
    }
   ],
   "source": [
    "p_x1 + p_x2"
   ]
  },
  {
   "cell_type": "markdown",
   "id": "d5d4a398",
   "metadata": {},
   "source": [
    "$$\\mu = \\int_{a}^b x f(x) \\, dx$$\n",
    "$$\\mu(\\eta | \\varepsilon = x) = \\int_{-\\infty}^\\infty y f(y|x) \\, dy = \\varphi (x)$$\n",
    "\n",
    "Для $X<1$, условное распределение $Y|X$ равномерное на отрезке $[0,|X|]$. Значит, $E(Y|X<1) = \\int_{-2}^1 y\\frac{y-|a|}{|b|-|a|}  \\, dy = \\frac{1}{8}$."
   ]
  },
  {
   "cell_type": "code",
   "execution_count": 86,
   "id": "bceee566",
   "metadata": {},
   "outputs": [
    {
     "data": {
      "text/plain": [
       "(-5.999999999999999, 8.144310138114616e-14)"
      ]
     },
     "execution_count": 86,
     "metadata": {},
     "output_type": "execute_result"
    }
   ],
   "source": [
    "a1 = -2\n",
    "b1 = 1\n",
    "y1 = scipy.integrate.quad(lambda y: y*(y-abs(a1))/(abs(b1) - abs(a1)), a1, b1)\n",
    "y1"
   ]
  },
  {
   "cell_type": "code",
   "execution_count": null,
   "id": "e3a67578",
   "metadata": {},
   "outputs": [],
   "source": []
  }
 ],
 "metadata": {
  "kernelspec": {
   "display_name": "Python 3 (ipykernel)",
   "language": "python",
   "name": "python3"
  },
  "language_info": {
   "codemirror_mode": {
    "name": "ipython",
    "version": 3
   },
   "file_extension": ".py",
   "mimetype": "text/x-python",
   "name": "python",
   "nbconvert_exporter": "python",
   "pygments_lexer": "ipython3",
   "version": "3.9.13"
  }
 },
 "nbformat": 4,
 "nbformat_minor": 5
}
