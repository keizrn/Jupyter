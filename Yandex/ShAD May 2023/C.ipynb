{
 "cells": [
  {
   "cell_type": "markdown",
   "id": "29833d3b",
   "metadata": {},
   "source": [
    "## C. Прямой мир\n",
    "Известно, что плоскость задана точкой, лежащей на ней, с координатами (A,5,0) и линейной оболочкой векторов\n",
    "\n",
    "$$\\begin{Bmatrix} \\begin{pmatrix} 1\\\\ 1\\\\ 1 \\end{pmatrix},\n",
    "\\begin{pmatrix} b\\\\ 1\\\\ b \\end{pmatrix},\n",
    "\\begin{pmatrix} 1\\\\ 0\\\\ 1 \\end{pmatrix},\n",
    "\\begin{pmatrix} a+2\\\\ a+1\\\\ b+a+2 \\end{pmatrix} \\end{Bmatrix}$$\n",
    "\n",
    "Прямая, заданная параметрически\n",
    "\n",
    "$$\\begin{cases} x(t)=1+(2+B−2C)t \\\\\n",
    "y(t)=Bt \\\\\n",
    "z(t)=−1+(1−B+2C)t \\end{cases} t\\in \\mathbb{R}$$\n",
    "\n",
    "лежит в этой плоскости.\n",
    "Найдите искомые коэффициенты, если известно, что длина вектора (A,B,C) равна 2.\n",
    "\n",
    "В качестве ответа введите следующую сумму искомых коэффициентов: \n",
    "a\n",
    "+\n",
    "b\n",
    "+\n",
    "A\n",
    "+\n",
    "B\n",
    "+\n",
    "C\n",
    ".\n",
    "Если ответа не существует или он неоднозначен, введите \n",
    "4\n",
    "2\n",
    ".\n",
    "Введите ответ (одно вещественное число, разделитель — точка), округлённый до десяти знаков после запятой.\n",
    "Введенное вами число должно отличаться от правильного ответа не более чем на \n",
    "$10^{−9}$."
   ]
  },
  {
   "cell_type": "markdown",
   "id": "0b1645fa",
   "metadata": {},
   "source": [
    "Прямая лежит в плоскости, если ее направляющий вектор коллинеарен нормали к плоскости. Найдем нормаль к плоскости, для этого найдем два вектора лежащих в плоскости:\n",
    "\n",
    "$$\\vec{v_1} = \\begin{pmatrix} 1\\\\ 1\\\\ 1 \\end{pmatrix} - \\begin{pmatrix} A\\\\ 5\\\\ 0 \\end{pmatrix} = \\begin{pmatrix} 1-A\\\\ -4\\\\ 1 \\end{pmatrix}$$\n",
    "\n",
    "$$\\vec{v_2} = \\begin{pmatrix} b\\\\ 1\\\\ b \\end{pmatrix} - \\begin{pmatrix} A\\\\ 5\\\\ 0 \\end{pmatrix} = \\begin{pmatrix} b-A\\\\ -4\\\\ b \\end{pmatrix}$$\n",
    "\n",
    "Их векторное произведение будет нормалью к плоскости:\n",
    "\n",
    "$$\\vec{n} = \\vec{v_1} \\times \\vec{v_2} = \\begin{pmatrix} -b-A\\\\ b^2-A-1\\\\ A+b-5 \\end{pmatrix}$$\n",
    "\n",
    "Приведем направляющий вектор прямой к единичной длине:\n",
    "\n",
    "$$\\vec{d} = \\frac{1}{\\sqrt{(2+B-2C)^2+B^2+(1-B+2C)^2}} \\begin{pmatrix} 2+B-2C\\\\ B\\\\ 1-B+2C \\end{pmatrix}$$\n",
    "\n",
    "Теперь найдем коэффициенты (A, B, C) из условия, что длина вектора (A, B, C) равна 2 и вектор $\\vec{d}$ коллинеарен вектору $\\vec{n}$:\n",
    "\n",
    "$$\\begin{cases} \\frac{-b-A}{\\sqrt{(2+B-2C)^2+B^2+(1-B+2C)^2}} = \\pm \\frac{2}{\\sqrt{4+1+1}} \\\\ \\frac{b^2-A-1}{\\sqrt{(2+B-2C)^2+B^2+(1-B+2C)^2}} = \\pm \\frac{2}{\\sqrt{4+1+1}} \\\\ \\frac{A+b-5}{\\sqrt{(2+B-2C)^2+B^2+(1-B+2C)^2}} = \\pm \\frac{2}{\\sqrt{4+1+1}} \\end{cases}$$\n",
    "\n",
    "Решим первое уравнение относительно A:\n",
    "\n",
    "$$A = -b \\mp 4\\sqrt{3}-2C$$\n",
    "\n",
    "Подставим это выражение в оставшиеся уравнения и решим систему:\n",
    "\n",
    "$$\\begin{cases} -C \\pm 2\\sqrt{3}=-\\frac{1}{3} \\\\ b^2 + (b-3\\pm 4\\sqrt{3})^2 = 4 \\\\ b+b-5\\pm 2\\sqrt{3}=\\frac{25}{3} \\end{cases}$$\n",
    "\n",
    "Решением этой системы являются:\n",
    "\n",
    "$$\\begin{cases} A = -\\frac{11}{2} \\pm \\frac{5\\sqrt{3}}{2} \\\\ B = \\frac{3\\pm \\sqrt{6}}{2} \\\\ C = \\mp 2\\sqrt{3}+\\frac{1}{3} \\end{cases}$$\n",
    "\n",
    "Убедимся, что прямая действительно лежит в найденной плоскости. Для этого подставим координаты ее точек в уравнение плоскости и убедимся, что они удовлетворяют ему. Например, для точки $(1,0,-1)$:\n",
    "\n",
    "$$(-b-A) + (b^2-A-1) + (A+b-5) = (-\\frac{11}{2} \\pm \\frac{5\\sqrt{3}}{2} - b) + (\\frac{3\\pm \\sqrt{6}}{2})^2 -\\frac{14}{3} + 2b + 2\\sqrt{3}-10=0$$\n",
    "\n",
    "Таким образом, искомые коэффициенты:\n",
    "\n",
    "$$\\begin{cases} A = -\\frac{11}{2} \\pm \\frac{5\\sqrt{3}}{2} \\\\ B = \\frac{3\\pm \\sqrt{6}}{2} \\\\ C = \\mp 2\\sqrt{3}+\\frac{1}{3} \\end{cases}$$"
   ]
  },
  {
   "cell_type": "code",
   "execution_count": 2,
   "id": "8e5b8ec7",
   "metadata": {},
   "outputs": [],
   "source": [
    "import math"
   ]
  },
  {
   "cell_type": "code",
   "execution_count": 6,
   "id": "5096bd7f",
   "metadata": {},
   "outputs": [
    {
     "data": {
      "text/plain": [
       "(-1.1698729810778072,\n",
       " -9.830127018922193,\n",
       " 2.724744871391589,\n",
       " 0.27525512860841106,\n",
       " -3.130768281804421,\n",
       " 3.797434948471088)"
      ]
     },
     "execution_count": 6,
     "metadata": {},
     "output_type": "execute_result"
    }
   ],
   "source": [
    "A1 = -11/2 + 5*math.sqrt(3)/2\n",
    "A2 = -11/2 - 5*math.sqrt(3)/2\n",
    "B1 = (3+math.sqrt(6))/2\n",
    "B2 = (3-math.sqrt(6))/2\n",
    "C1 = -2*math.sqrt(3) + 1/3\n",
    "C2 = 2*math.sqrt(3) + 1/3\n",
    "A1, A2, B1, B2, C1, C2"
   ]
  },
  {
   "cell_type": "code",
   "execution_count": 11,
   "id": "c6174960",
   "metadata": {},
   "outputs": [
    {
     "data": {
      "text/plain": [
       "(1.0, 0.0, -1.0)"
      ]
     },
     "execution_count": 11,
     "metadata": {},
     "output_type": "execute_result"
    }
   ],
   "source": [
    "t = 0\n",
    "x = 1+(2+B1 - 2*C1)*t\n",
    "y = B1*t\n",
    "z = -1+(1 -B1+2*C1)*t\n",
    "x, y, z"
   ]
  },
  {
   "cell_type": "markdown",
   "id": "7cb4e4f5",
   "metadata": {},
   "source": [
    "Найдем нормаль к плоскости, для этого найдем два вектора лежащих в плоскости:\n",
    "\n",
    "$$\\vec{v_1} = \\begin{pmatrix} 1\\\\ 1\\\\ 1 \\end{pmatrix} - \\begin{pmatrix} A\\\\ 5\\\\ 0 \\end{pmatrix} = \\begin{pmatrix} 1-A\\\\ -4\\\\ 1 \\end{pmatrix}$$\n",
    "\n",
    "$$\\vec{v_2} = \\begin{pmatrix} f\\\\ 1\\\\ f \\end{pmatrix} - \\begin{pmatrix} A\\\\ 5\\\\ 0 \\end{pmatrix} = \\begin{pmatrix} f-A\\\\ -4\\\\ f \\end{pmatrix}$$\n",
    "\n",
    "Их векторное произведение будет нормалью к плоскости:\n",
    "\n",
    "$$\\vec{n} = \\vec{v_1} \\times \\vec{v_2} = \\begin{pmatrix} -f+A\\\\ f^2-A-1\\\\ A+f-5 \\end{pmatrix}$$\n",
    "\n",
    "Приведем направляющий вектор прямой к единичной длине:\n",
    "\n",
    "$$\\vec{d} = \\frac{1}{\\sqrt{(2+B-2C)^2+B^2+(1-B+2C)^2}} \\begin{pmatrix} 2+B-2C\\\\ B\\\\ 1-B+2C \\end{pmatrix}$$\n",
    "\n",
    "Теперь найдем коэффициенты (A, B, C) из условия, что длина вектора (A, B, C) равна 2 и вектор $\\vec{d}$ коллинеарен вектору $\\vec{n}$:\n",
    "\n",
    "$$\\begin{cases} \\frac{f-A}{\\sqrt{(2+B-2C)^2+B^2+(1-B+2C)^2}} = \\pm \\frac{2}{\\sqrt{4+1+1}} \\\\ \\frac{f^2-A-1}{\\sqrt{(2+B-2C)^2+B^2+(1-B+2C)^2}} = \\pm \\frac{2}{\\sqrt{4+1+1}} \\\\ \\frac{A+f-5}{\\sqrt{(2+B-2C)^2+B^2+(1-B+2C)^2}} = \\pm \\frac{2}{\\sqrt{4+1+1}} \\end{cases}$$\n",
    "\n",
    "Решим первое уравнение относительно A:\n",
    "\n",
    "$$A = f \\pm 4\\sqrt{3}-2C$$\n",
    "\n",
    "Подставим это выражение в оставшиеся уравнения и решим систему:\n",
    "\n",
    "$$\\begin{cases} 2C \\pm 2\\sqrt{3}=f+\\frac{1}{3} \\\\ f^2 + (f-3\\pm 4\\sqrt{3})^2 = 4 \\\\ f+A-5\\pm 2\\sqrt{3}=0 \\end{cases}$$\n",
    "\n",
    "Решением этой системы являются:\n",
    "\n",
    "$$\\begin{cases} A = -3f \\pm 2\\sqrt{3}f+11\\pm 2\\sqrt{3} \\\\ B = \\frac{3\\pm \\sqrt{6}}{2} \\\\ C = \\mp 2\\sqrt{3}+\\frac{1}{3}+ \\frac{f}{2} \\end{cases}$$\n",
    "\n",
    "Убедимся, что прямая действительно лежит в найденной плоскости. Для этого подставим координаты ее точек в уравнение плоскости и убедимся, что они удовлетворяют ему. Например, для точки $(1,0,-1)$:\n",
    "\n",
    "$$(f-A) + (f^2-A-1) + (A+f-5) = (f-(-3f \\pm 2\\sqrt{3}f+11\\pm 2\\sqrt{3})) + (f^2-(-3f \\pm 2\\sqrt{3}f+11\\pm 2\\sqrt{3})^2) + (-\\frac{8}{3}+f+\\frac{f}{2})=0$$\n",
    "\n",
    "Таким образом, искомые коэффициенты:\n",
    "\n",
    "$$\\begin{cases} A = -3f \\pm 2\\sqrt{3}f+11\\pm 2\\sqrt{3} \\\\ B = \\frac{3\\pm \\sqrt{6}}{2} \\\\ C = \\mp 2\\sqrt{3}+\\frac{1}{3}+ \\frac{f}{2} \\end{cases}$$"
   ]
  },
  {
   "cell_type": "markdown",
   "id": "238f36b9",
   "metadata": {},
   "source": [
    "Ответ: 42 (вариантов множество)"
   ]
  },
  {
   "cell_type": "code",
   "execution_count": null,
   "id": "c5d734e5",
   "metadata": {},
   "outputs": [],
   "source": []
  }
 ],
 "metadata": {
  "kernelspec": {
   "display_name": "Python 3 (ipykernel)",
   "language": "python",
   "name": "python3"
  },
  "language_info": {
   "codemirror_mode": {
    "name": "ipython",
    "version": 3
   },
   "file_extension": ".py",
   "mimetype": "text/x-python",
   "name": "python",
   "nbconvert_exporter": "python",
   "pygments_lexer": "ipython3",
   "version": "3.9.13"
  }
 },
 "nbformat": 4,
 "nbformat_minor": 5
}
