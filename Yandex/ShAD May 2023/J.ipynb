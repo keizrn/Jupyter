{
 "cells": [
  {
   "cell_type": "markdown",
   "id": "0dc82afd",
   "metadata": {},
   "source": [
    "## J. Аквариумы\n",
    "\n",
    "В аквазоне требуется заселить n последовательно пронумерованных аквариумов. «Расстояние» между аквариумами определяется как разность их номеров.\n",
    "\n",
    "Продаются k видов рыб, привлекательность для посетителей рыбки i-го вида — $c_i$.\n",
    "\n",
    "Рыбы одного вида конфликтуют настолько, что они должны находится в аквариумах на расстоянии как минимум k друг от друга. \n",
    "\n",
    "Требуется заселить все аквариумы так, чтобы избежать конфликтов между рыбками, при этом суммарная привлекательность аквазоны должны быть наибольшей."
   ]
  },
  {
   "cell_type": "markdown",
   "id": "6ebff5ae",
   "metadata": {},
   "source": [
    "Для решения данной задачи можно использовать динамическое программирование.\n",
    "\n",
    "Создадим таблицу dp размером (n+1)*(k+1), где dp[i][j] будет хранить максимальную суммарную привлекательность, которую можно получить, заселив первые i аквариумов, при условии, что последний заселенный аквариум содержит рыбок j-го вида.\n",
    "\n",
    "Начальное значение dp[0][j] будет равно 0, т.к. пустой аквариум не содержит рыбок.\n",
    "\n",
    "Заполним таблицу по формуле: dp[i][j] = max(dp[i-1][x] + c[j], где x < i и расстояние между аквариумами i и x больше или равно k.\n",
    "\n",
    "Таким образом, для каждого аквариума мы рассчитываем максимальную суммарную привлекательность, которую можно получить, заселив его конкретным видом рыбы, и выбираем максимальную из этих значений.\n",
    "\n",
    "Итоговый ответ будет находиться в dp[n][j], где j - номер самой привлекательной рыбки, заселенной в последнем аквариуме.\n",
    "\n",
    "Вот код решения на Python:\n",
    "\n"
   ]
  },
  {
   "cell_type": "code",
   "execution_count": 15,
   "id": "84b57b5b",
   "metadata": {},
   "outputs": [
    {
     "name": "stdout",
     "output_type": "stream",
     "text": [
      "5 1\n",
      "10 8 1 2 30\n",
      "[[0]]\n"
     ]
    },
    {
     "ename": "IndexError",
     "evalue": "list assignment index out of range",
     "output_type": "error",
     "traceback": [
      "\u001b[1;31m---------------------------------------------------------------------------\u001b[0m",
      "\u001b[1;31mIndexError\u001b[0m                                Traceback (most recent call last)",
      "\u001b[1;32m~\\AppData\\Local\\Temp\\ipykernel_8000\\794544552.py\u001b[0m in \u001b[0;36m<module>\u001b[1;34m\u001b[0m\n\u001b[0;32m      7\u001b[0m \u001b[1;32mfor\u001b[0m \u001b[0mi\u001b[0m \u001b[1;32min\u001b[0m \u001b[0mrange\u001b[0m\u001b[1;33m(\u001b[0m\u001b[1;36m0\u001b[0m\u001b[1;33m,\u001b[0m \u001b[0mn\u001b[0m\u001b[1;33m)\u001b[0m\u001b[1;33m:\u001b[0m\u001b[1;33m\u001b[0m\u001b[1;33m\u001b[0m\u001b[0m\n\u001b[0;32m      8\u001b[0m     \u001b[1;32mfor\u001b[0m \u001b[0mj\u001b[0m \u001b[1;32min\u001b[0m \u001b[0mrange\u001b[0m\u001b[1;33m(\u001b[0m\u001b[1;36m0\u001b[0m\u001b[1;33m,\u001b[0m \u001b[0mk\u001b[0m\u001b[1;33m)\u001b[0m\u001b[1;33m:\u001b[0m\u001b[1;33m\u001b[0m\u001b[1;33m\u001b[0m\u001b[0m\n\u001b[1;32m----> 9\u001b[1;33m         \u001b[0mdp\u001b[0m\u001b[1;33m[\u001b[0m\u001b[0mi\u001b[0m\u001b[1;33m]\u001b[0m\u001b[1;33m[\u001b[0m\u001b[0mj\u001b[0m\u001b[1;33m]\u001b[0m \u001b[1;33m=\u001b[0m \u001b[1;33m-\u001b[0m\u001b[1;36m1\u001b[0m\u001b[1;33m\u001b[0m\u001b[1;33m\u001b[0m\u001b[0m\n\u001b[0m\u001b[0;32m     10\u001b[0m         \u001b[1;32mfor\u001b[0m \u001b[0mx\u001b[0m \u001b[1;32min\u001b[0m \u001b[0mrange\u001b[0m\u001b[1;33m(\u001b[0m\u001b[1;36m0\u001b[0m\u001b[1;33m,\u001b[0m \u001b[0mi\u001b[0m\u001b[1;33m)\u001b[0m\u001b[1;33m:\u001b[0m\u001b[1;33m\u001b[0m\u001b[1;33m\u001b[0m\u001b[0m\n\u001b[0;32m     11\u001b[0m \u001b[1;33m\u001b[0m\u001b[0m\n",
      "\u001b[1;31mIndexError\u001b[0m: list assignment index out of range"
     ]
    }
   ],
   "source": [
    "k, n = map(int, input().split()) # n - количество аквариумов, k - минимальное расстояние между рыбками одного вида = количество видов рыб\n",
    "\n",
    "c = list(map(int, input().split())) # массив привлекательности рыб\n",
    "\n",
    "dp = [[0 for j in range(n)] for i in range(n)] # таблица динамического программирования\n",
    "print(dp)\n",
    "for i in range(0, n):\n",
    "    for j in range(0, k):\n",
    "        dp[i][j] = -1\n",
    "        for x in range(0, i):\n",
    "\n",
    "            if i - x >= k and dp[i-1][x] >= 0:\n",
    "                dp[i][j] = max(dp[i][j], dp[i-1][x] + c[j-1])\n",
    "\n",
    "ans = -1\n",
    "print(dp)\n",
    "for j in range(0, k):\n",
    "    ans = max(ans, dp[n-1][j])\n",
    "\n",
    "print(ans)"
   ]
  },
  {
   "cell_type": "code",
   "execution_count": null,
   "id": "f18db716",
   "metadata": {},
   "outputs": [],
   "source": []
  },
  {
   "cell_type": "code",
   "execution_count": null,
   "id": "61239ed2",
   "metadata": {},
   "outputs": [],
   "source": []
  },
  {
   "cell_type": "code",
   "execution_count": null,
   "id": "a421cfbc",
   "metadata": {},
   "outputs": [],
   "source": []
  }
 ],
 "metadata": {
  "kernelspec": {
   "display_name": "Python 3 (ipykernel)",
   "language": "python",
   "name": "python3"
  },
  "language_info": {
   "codemirror_mode": {
    "name": "ipython",
    "version": 3
   },
   "file_extension": ".py",
   "mimetype": "text/x-python",
   "name": "python",
   "nbconvert_exporter": "python",
   "pygments_lexer": "ipython3",
   "version": "3.9.13"
  }
 },
 "nbformat": 4,
 "nbformat_minor": 5
}
