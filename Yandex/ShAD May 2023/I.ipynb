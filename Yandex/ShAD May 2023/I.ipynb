{
 "cells": [
  {
   "cell_type": "markdown",
   "id": "cba8bde8",
   "metadata": {},
   "source": [
    "## I. Корни\n",
    "Найдите $\\lim_{n\\to\\infty} g(n)$, где\n",
    "\n",
    "$$g(n) = \\int_{1/2}^{|sin(n)|} \\sqrt{\\frac{x}{1-x \\sqrt{x}}} \\,dx$$\n",
    "\n",
    "n ∈ N\n",
    "\n",
    "Введите искомое значение. Если предела не существует, введите \n",
    "4\n",
    "2\n",
    ".\n",
    "Введите ответ (одно вещественное число, разделитель — точка), округлённый до десяти знаков после запятой.\n",
    "Введенное вами число должно отличаться от правильного ответа не более чем на \n",
    "1\n",
    "0\n",
    "−\n",
    "9\n",
    "."
   ]
  },
  {
   "cell_type": "markdown",
   "id": "b0d0feec",
   "metadata": {},
   "source": [
    "Заметим, что $0\\le|sin(n)|\\le1$ для любого $n \\in \\mathbb{N}$. Также заметим, что подынтегральная функция имеет особенности только в точках $x=0$ и $x=1$. Проверим, что они не входят в область интегрирования:\n",
    "\n",
    "$$\\sqrt{\\frac{x}{1-x\\sqrt{x}}} \\sim \\sqrt{x}, x \\to 0$$\n",
    "\n",
    "Следовательно, $\\int_{1/2}^0 \\sqrt{\\frac{x}{1-x\\sqrt{x}}} \\,dx$ сходится как интеграл от функции, эквивалентной $\\sqrt{x}$ в нуле, и не вносит неопределенности в предельное значение. Аналогично,\n",
    "\n",
    "$$\\sqrt{\\frac{x}{1-x\\sqrt{x}}} \\sim \\sqrt{\\frac{1}{1-x}}, x \\to 1$$\n",
    "\n",
    "откуда $\\int_{1/2}^1 \\sqrt{\\frac{x}{1-x\\sqrt{x}}} \\,dx$ сходится как интеграл от функции, эквивалентной $\\frac{1}{\\sqrt{1-x}}$ при $x\\to1$. Таким образом, область интегрирования не содержит особенностей и интеграл действительно существует.\n",
    "\n",
    "Заметим, что подынтегральная функция является непрерывной в области интегрирования, и поэтому $\\lim_{n\\to\\infty} g(n) = \\int_{1/2}^0 \\sqrt{\\frac{x}{1-x\\sqrt{x}}} \\,dx = \\int_0^{1/2}\\sqrt{\\frac{x}{1-x\\sqrt{x}}} \\,dx$.\n",
    "\n",
    "Для вычисления этого интеграла сделаем замену $y=1-x\\sqrt{x}$:\n",
    "\n",
    "$$ \\int_0^{1/2}\\sqrt{\\frac{x}{1-x\\sqrt{x}}} \\,dx = \\int_{\\frac{1}{2}}^0 \\frac{\\sqrt{2}}{2\\sqrt{x}}\\sqrt{\\frac{1}{1-\\sqrt{2}y}} \\,dy =\\sqrt{2}\\int_{0}^{\\frac{1}{2}\\sqrt{2}}\\frac{1}{\\sqrt{1-y^2}}\\,dy = \\frac{\\pi}{2} $$\n",
    "\n",
    "где мы использовали замену $\\sqrt{2}y=\\sin t$, а затем формулу для интеграла $\\int_{0}^{\\frac{\\pi}{4}}\\frac{1}{\\cos t}\\,dt = \\ln(\\cos t + \\sin t)|_0^{\\frac{\\pi}{4}} = \\ln(\\sqrt{2}+1)-\\ln 1 = \\ln(\\sqrt{2}+1)$.\n",
    "\n",
    "Таким образом, $\\lim_{n\\to\\infty} g(n) = \\frac{\\pi}{2}$."
   ]
  },
  {
   "cell_type": "code",
   "execution_count": 3,
   "id": "e9f2f45e",
   "metadata": {},
   "outputs": [
    {
     "data": {
      "text/plain": [
       "1.5707963267948966"
      ]
     },
     "execution_count": 3,
     "metadata": {},
     "output_type": "execute_result"
    }
   ],
   "source": [
    "import math\n",
    "math.pi/2"
   ]
  },
  {
   "cell_type": "code",
   "execution_count": null,
   "id": "e057abba",
   "metadata": {},
   "outputs": [],
   "source": []
  }
 ],
 "metadata": {
  "kernelspec": {
   "display_name": "Python 3 (ipykernel)",
   "language": "python",
   "name": "python3"
  },
  "language_info": {
   "codemirror_mode": {
    "name": "ipython",
    "version": 3
   },
   "file_extension": ".py",
   "mimetype": "text/x-python",
   "name": "python",
   "nbconvert_exporter": "python",
   "pygments_lexer": "ipython3",
   "version": "3.9.13"
  }
 },
 "nbformat": 4,
 "nbformat_minor": 5
}
