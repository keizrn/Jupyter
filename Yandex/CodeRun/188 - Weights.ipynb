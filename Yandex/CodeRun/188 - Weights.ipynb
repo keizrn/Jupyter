{
 "cells": [
  {
   "cell_type": "markdown",
   "id": "99df9aac",
   "metadata": {},
   "source": [
    "## 188. Весы и гири\n",
    "аналитика данных - легкая\n",
    "\n",
    "Есть чашечные весы и набор гирь. Будем говорить, что с помощью набора гирь возможно взвесить массу $m$, если можно поставить гири на весы так (не обязательно все), чтобы разница в весе чаш равнялась $m$.\n",
    "\n",
    "Задается число $n$. Можно с помощью предложенного набора гирь взвесить все целые величины масс от $1 \\text{ до } n$?\n",
    "\n",
    "Например: пусть набор [1,3,4] и n=5. То разница весов 1, 3 и 4 достигается соответствующими гирями, 2 можно получить как \n",
    "3 на одной чаше и 1 на другой, а 5 как 4+1.\n",
    "\n",
    "##### Формат ввода\n",
    "В первой строке вводится число $n (1 \\leq n \\leq 10^8)$.\n",
    "\n",
    "Во второй строке вводится набор чисел $w_i$ через пробел $(1 \\leq w_i \\leq 10^8)$. Количество чисел в наборе не превосходит 13.\n",
    "\n",
    "##### Формат вывода\n",
    "Вывести Yes, если можно взвесить любую массу от 1 до n, иначе выведите No.\n",
    "\n",
    "||Пример 1|Пример 2|Пример 3|\n",
    "|---|---|---|---|\n",
    "|Ввод|5<br>1 3 4|9<br>1 3 4|94<br>34 7 4 25 30 27 39|\n",
    "|Вывод|Yes|No|Yes|\n"
   ]
  },
  {
   "cell_type": "code",
   "execution_count": 1,
   "id": "2caea27c",
   "metadata": {},
   "outputs": [
    {
     "name": "stdout",
     "output_type": "stream",
     "text": [
      "Hello, world\n"
     ]
    }
   ],
   "source": [
    "def main():\n",
    "    \n",
    "    pass\n",
    "\n",
    "\n",
    "if __name__ == '__main__':\n",
    "    main()"
   ]
  },
  {
   "cell_type": "code",
   "execution_count": null,
   "id": "98c384e9",
   "metadata": {},
   "outputs": [],
   "source": []
  }
 ],
 "metadata": {
  "kernelspec": {
   "display_name": "Python 3 (ipykernel)",
   "language": "python",
   "name": "python3"
  },
  "language_info": {
   "codemirror_mode": {
    "name": "ipython",
    "version": 3
   },
   "file_extension": ".py",
   "mimetype": "text/x-python",
   "name": "python",
   "nbconvert_exporter": "python",
   "pygments_lexer": "ipython3",
   "version": "3.9.13"
  }
 },
 "nbformat": 4,
 "nbformat_minor": 5
}
