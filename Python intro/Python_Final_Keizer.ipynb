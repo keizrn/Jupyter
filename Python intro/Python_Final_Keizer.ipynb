{
 "cells": [
  {
   "cell_type": "markdown",
   "id": "b31b779c-6e0e-4358-94d9-190fa1cdefd7",
   "metadata": {},
   "source": [
    "## Задание:"
   ]
  },
  {
   "cell_type": "markdown",
   "id": "6ff88fa3-602c-4a61-972f-19009c8878ff",
   "metadata": {},
   "source": [
    "**f(x) = x^3 - 6x^2 + 4x + 12 ~~(или 5x^3 - x^2 - 20x + 4)~~**\n",
    "\n",
    "**\\*\\*f(x) = -12x^4*sin(cos(x)) - 18x^3+5x^2 + 10x - 30**\n",
    "\n",
    "- Определить корни\n",
    "\n",
    "- Найти интервалы, на которых функция возрастает\n",
    "\n",
    "- Найти интервалы, на которых функция убывает\n",
    "\n",
    "- Построить график\n",
    "\n",
    "- Вычислить вершину\n",
    "\n",
    "- Определить промежутки, на котором f > 0\n",
    "\n",
    "- Определить промежутки, на котором f < 0\n",
    "\n",
    "Оформить работу с заголовками в Markdown."
   ]
  },
  {
   "cell_type": "markdown",
   "id": "050b6a64-1b19-4c29-9338-fe354d694ccd",
   "metadata": {},
   "source": [
    "# Решение"
   ]
  },
  {
   "cell_type": "markdown",
   "id": "aba79f5c-c5e1-4557-ad63-53ad46bef42b",
   "metadata": {},
   "source": [
    "## Функция 1"
   ]
  },
  {
   "cell_type": "code",
   "execution_count": 1,
   "id": "dfd641e3-770d-4d42-a80c-8e1ad69010a6",
   "metadata": {},
   "outputs": [],
   "source": [
    "from sympy import *\n",
    "from sympy.plotting import plot"
   ]
  },
  {
   "cell_type": "code",
   "execution_count": 2,
   "id": "7d1237c3-a3a0-47f2-8918-2d8db993df1c",
   "metadata": {},
   "outputs": [],
   "source": [
    "x = Symbol('x')\n",
    "fx = x**3 - 6 * x**2 + 4 * x + 12"
   ]
  },
  {
   "cell_type": "markdown",
   "id": "e55fecfe-73d4-45a6-a9c9-9aaabccf9337",
   "metadata": {},
   "source": [
    "### Корни уравнения:"
   ]
  },
  {
   "cell_type": "code",
   "execution_count": 3,
   "id": "520a1675-be80-4869-94d3-6ae749d3928a",
   "metadata": {},
   "outputs": [
    {
     "name": "stdout",
     "output_type": "stream",
     "text": [
      "x1 = 2.52\n",
      "x2 = 4.53\n",
      "x3 = -1.05\n"
     ]
    }
   ],
   "source": [
    "x_1 = [N(i, chop=True) for i in solve(fx, x)]\n",
    "count_1 = 0\n",
    "for x_1i in x_1:\n",
    "    count_1+=1\n",
    "    print(f'x{count_1} = {x_1i.round(2)}')"
   ]
  },
  {
   "cell_type": "markdown",
   "id": "48f5889f-1426-4a88-8730-426c67900ceb",
   "metadata": {},
   "source": [
    "### Интервалы, на которых функция убывает, возрастает:"
   ]
  },
  {
   "cell_type": "code",
   "execution_count": 4,
   "id": "ce09ffe6-d4e9-4629-a5f9-5bae6789798d",
   "metadata": {},
   "outputs": [],
   "source": [
    "d_1 = diff(fx)"
   ]
  },
  {
   "cell_type": "code",
   "execution_count": 5,
   "id": "1817bfbe-54ed-4be0-b49b-75ebc146c107",
   "metadata": {},
   "outputs": [],
   "source": [
    "xd = [N(i, chop=True) for i in solve(d_1, x)]"
   ]
  },
  {
   "cell_type": "markdown",
   "id": "05162db2-1844-4a5f-8152-d89eb2df1925",
   "metadata": {},
   "source": [
    "#### Интервалы, на которых функция возрастает:"
   ]
  },
  {
   "cell_type": "code",
   "execution_count": 6,
   "id": "4dca0865-3898-43fc-a500-c8a7cd72f337",
   "metadata": {},
   "outputs": [
    {
     "data": {
      "text/latex": [
       "$\\displaystyle \\left(-\\infty < x \\wedge x < 2 - \\frac{2 \\sqrt{6}}{3}\\right) \\vee \\left(x < \\infty \\wedge \\frac{2 \\sqrt{6}}{3} + 2 < x\\right)$"
      ],
      "text/plain": [
       "((-oo < x) & (x < 2 - 2*sqrt(6)/3)) | ((x < oo) & (2*sqrt(6)/3 + 2 < x))"
      ]
     },
     "execution_count": 6,
     "metadata": {},
     "output_type": "execute_result"
    }
   ],
   "source": [
    "xd2 = solve(d_1 > 0)\n",
    "xd2"
   ]
  },
  {
   "cell_type": "code",
   "execution_count": 7,
   "id": "39dcb56d-dceb-4a06-80d5-6abaf57b56ee",
   "metadata": {},
   "outputs": [
    {
     "name": "stdout",
     "output_type": "stream",
     "text": [
      "Интервалы, на которых функция возрастает: (-inf ∧ 0.37) ∨ (3.63 ∧ +inf)\n"
     ]
    }
   ],
   "source": [
    "xds = sorted(xd)\n",
    "print(f'Интервалы, на которых функция возрастает: (-inf ∧ {xds[0].round(2)}) ∨ ({xds[1].round(2)} ∧ +inf)')"
   ]
  },
  {
   "cell_type": "markdown",
   "id": "07f1bba6-4c0e-4eff-85ee-969a8cb78ade",
   "metadata": {},
   "source": [
    "#### Интервалы, на которых функция убывает:"
   ]
  },
  {
   "cell_type": "code",
   "execution_count": 8,
   "id": "0dddd434-00d6-45df-94c5-d35f6cafed7b",
   "metadata": {},
   "outputs": [
    {
     "data": {
      "text/latex": [
       "$\\displaystyle x < \\frac{2 \\sqrt{6}}{3} + 2 \\wedge 2 - \\frac{2 \\sqrt{6}}{3} < x$"
      ],
      "text/plain": [
       "(x < 2*sqrt(6)/3 + 2) & (2 - 2*sqrt(6)/3 < x)"
      ]
     },
     "execution_count": 8,
     "metadata": {},
     "output_type": "execute_result"
    }
   ],
   "source": [
    "xd1 = solve(d_1 < 0)\n",
    "xd1"
   ]
  },
  {
   "cell_type": "code",
   "execution_count": 9,
   "id": "3e4aad5a-76ab-4327-8209-5aa07ed6b895",
   "metadata": {},
   "outputs": [
    {
     "name": "stdout",
     "output_type": "stream",
     "text": [
      "Интервалы, на которых функция убывает: (0.37 ∧ 3.63)\n"
     ]
    }
   ],
   "source": [
    "print(f'Интервалы, на которых функция убывает: ({xds[0].round(2)} ∧ {xds[1].round(2)})')"
   ]
  },
  {
   "cell_type": "markdown",
   "id": "6a1d3472-3ce8-4c1c-97e5-1ab83c7cf7a2",
   "metadata": {},
   "source": [
    "### График функции"
   ]
  },
  {
   "cell_type": "code",
   "execution_count": 10,
   "id": "a4361c61-4ef5-4d23-b9e3-4f63577a554a",
   "metadata": {},
   "outputs": [
    {
     "data": {
      "image/png": "[encoded data removed]",
      "text/plain": [
       "<Figure size 640x480 with 1 Axes>"
      ]
     },
     "metadata": {},
     "output_type": "display_data"
    }
   ],
   "source": [
    "p1 = plot(fx, xlabel='x', ylabel='f(x) = x³ - 6x² + 4x + 12', xlim=[-7, 7], ylim=[-200, 200], axis_center='auto')\n"
   ]
  },
  {
   "cell_type": "markdown",
   "id": "85ccdad0-59b2-4b75-a576-65e98f8361ec",
   "metadata": {},
   "source": [
    "### Вершины функции"
   ]
  },
  {
   "cell_type": "code",
   "execution_count": 11,
   "id": "92231db3-e9ab-4046-a72e-a3d0e23d9b6b",
   "metadata": {},
   "outputs": [
    {
     "name": "stdout",
     "output_type": "stream",
     "text": [
      "x1 = 0.37, y1 = 12.71\n",
      "x2 = 3.63, y2 = -4.71\n"
     ]
    }
   ],
   "source": [
    "xt_1 = [N(i, chop=True) for i in solve(d_1, x)]\n",
    "count_2 = 0\n",
    "for xti in xt_1:\n",
    "    count_2 += 1\n",
    "    yti = fx.subs(x, xti)\n",
    "    print(f'x{count_2} = {xti.round(2)}, y{count_2} = {yti.round(2)}')"
   ]
  },
  {
   "cell_type": "markdown",
   "id": "54ab64c5-e2e2-46ef-a3f8-8aa4a8a75c41",
   "metadata": {},
   "source": [
    "### Функция > 0"
   ]
  },
  {
   "cell_type": "code",
   "execution_count": 12,
   "id": "7c107846-6176-4671-8ccf-a13937649d7c",
   "metadata": {},
   "outputs": [
    {
     "data": {
      "text/latex": [
       "$\\displaystyle \\left(x < \\infty \\wedge \\operatorname{CRootOf} {\\left(x^{3} - 6 x^{2} + 4 x + 12, 2\\right)} < x\\right) \\vee \\left(x < \\operatorname{CRootOf} {\\left(x^{3} - 6 x^{2} + 4 x + 12, 1\\right)} \\wedge \\operatorname{CRootOf} {\\left(x^{3} - 6 x^{2} + 4 x + 12, 0\\right)} < x\\right)$"
      ],
      "text/plain": [
       "((x < oo) & (CRootOf(x**3 - 6*x**2 + 4*x + 12, 2) < x)) | ((x < CRootOf(x**3 - 6*x**2 + 4*x + 12, 1)) & (CRootOf(x**3 - 6*x**2 + 4*x + 12, 0) < x))"
      ]
     },
     "execution_count": 12,
     "metadata": {},
     "output_type": "execute_result"
    }
   ],
   "source": [
    "xp1 = solve(fx > 0, x)\n",
    "xp1"
   ]
  },
  {
   "cell_type": "code",
   "execution_count": 13,
   "id": "228cfe3e-3895-40a8-b838-53953e30d64c",
   "metadata": {},
   "outputs": [
    {
     "name": "stdout",
     "output_type": "stream",
     "text": [
      "Интервалы, где функция > 0: (-1.05 ∧ 2.52) ∨ (4.53 ∧ +inf)\n"
     ]
    }
   ],
   "source": [
    "x_1s = sorted(x_1)\n",
    "print(f'Интервалы, где функция > 0: ({x_1s[0].round(2)} ∧ {x_1s[1].round(2)}) ∨ ({x_1s[-1].round(2)} ∧ +inf)')"
   ]
  },
  {
   "cell_type": "markdown",
   "id": "752056d5-904d-48b6-aa57-c452ba57680d",
   "metadata": {},
   "source": [
    "### Функция < 0"
   ]
  },
  {
   "cell_type": "code",
   "execution_count": 14,
   "id": "8a77983e-5e59-45da-814b-beef88b515f0",
   "metadata": {},
   "outputs": [
    {
     "data": {
      "text/latex": [
       "$\\displaystyle \\left(-\\infty < x \\wedge x < \\operatorname{CRootOf} {\\left(x^{3} - 6 x^{2} + 4 x + 12, 0\\right)}\\right) \\vee \\left(x < \\operatorname{CRootOf} {\\left(x^{3} - 6 x^{2} + 4 x + 12, 2\\right)} \\wedge \\operatorname{CRootOf} {\\left(x^{3} - 6 x^{2} + 4 x + 12, 1\\right)} < x\\right)$"
      ],
      "text/plain": [
       "((-oo < x) & (x < CRootOf(x**3 - 6*x**2 + 4*x + 12, 0))) | ((x < CRootOf(x**3 - 6*x**2 + 4*x + 12, 2)) & (CRootOf(x**3 - 6*x**2 + 4*x + 12, 1) < x))"
      ]
     },
     "execution_count": 14,
     "metadata": {},
     "output_type": "execute_result"
    }
   ],
   "source": [
    "xp1 = solve(fx < 0)\n",
    "xp1"
   ]
  },
  {
   "cell_type": "code",
   "execution_count": 15,
   "id": "dfed0f5a-a5f7-4fc5-a6d0-23da5a45598b",
   "metadata": {},
   "outputs": [
    {
     "name": "stdout",
     "output_type": "stream",
     "text": [
      "Интервалы, где функция < 0: (-inf ∧ -1.05) ∨ (2.52 ∧ 4.53 )\n"
     ]
    }
   ],
   "source": [
    "print(f'Интервалы, где функция < 0: (-inf ∧ {x_1s[0].round(2)}) ∨ ({x_1s[1].round(2)} ∧ {x_1s[-1].round(2)} )')"
   ]
  },
  {
   "cell_type": "markdown",
   "id": "46eded59-ff29-4990-b01a-93490ce20ae3",
   "metadata": {},
   "source": [
    "## Функция 2 **"
   ]
  },
  {
   "cell_type": "code",
   "execution_count": 16,
   "id": "4261e6c1-b29c-4948-9ff1-4b4279603552",
   "metadata": {},
   "outputs": [],
   "source": [
    "import numpy as np\n",
    "import scipy.optimize\n",
    "import sympy\n",
    "import matplotlib.pyplot as plt"
   ]
  },
  {
   "cell_type": "code",
   "execution_count": 17,
   "id": "a27ec102-e356-44d8-bd51-342ec0a4fa16",
   "metadata": {},
   "outputs": [],
   "source": [
    "x = symbols('x')"
   ]
  },
  {
   "cell_type": "markdown",
   "id": "a144946a-c8bd-4e16-9bb6-3be1b1d80ecf",
   "metadata": {},
   "source": [
    "### Корни уравнения:"
   ]
  },
  {
   "cell_type": "code",
   "execution_count": 18,
   "id": "a230e46d-577f-4a51-84ed-b43df25a30c7",
   "metadata": {},
   "outputs": [
    {
     "data": {
      "text/latex": [
       "$\\displaystyle \\left\\{x\\; \\middle|\\; x \\in \\mathbb{C} \\wedge - 12 x^{4} \\sin{\\left(\\cos{\\left(x \\right)} \\right)} - 18 x^{3} + 5 x^{2} + 10 x - 30 = 0 \\right\\}$"
      ],
      "text/plain": [
       "ConditionSet(x, Eq(-12*x**4*sin(cos(x)) - 18*x**3 + 5*x**2 + 10*x - 30, 0), Complexes)"
      ]
     },
     "execution_count": 18,
     "metadata": {},
     "output_type": "execute_result"
    }
   ],
   "source": [
    "y = (-12)*sin(cos(x))*x**4 - 18 * (x**3)+5*(x**2) + 10*x - 30\n",
    "solveset(y, x)"
   ]
  },
  {
   "cell_type": "markdown",
   "id": "0fd7ac58-4984-49aa-85f3-4ff720774035",
   "metadata": {},
   "source": [
    "### Интервалы, на которых функция убывает, возрастает:"
   ]
  },
  {
   "cell_type": "code",
   "execution_count": 19,
   "id": "23ff5b53-5d4c-4a28-bb8b-57f7f5082e95",
   "metadata": {},
   "outputs": [
    {
     "name": "stdout",
     "output_type": "stream",
     "text": [
      "Производная функции:\n"
     ]
    },
    {
     "data": {
      "text/latex": [
       "$\\displaystyle 12 x^{4} \\sin{\\left(x \\right)} \\cos{\\left(\\cos{\\left(x \\right)} \\right)} - 48 x^{3} \\sin{\\left(\\cos{\\left(x \\right)} \\right)} - 54 x^{2} + 10 x + 10$"
      ],
      "text/plain": [
       "12*x**4*sin(x)*cos(cos(x)) - 48*x**3*sin(cos(x)) - 54*x**2 + 10*x + 10"
      ]
     },
     "execution_count": 19,
     "metadata": {},
     "output_type": "execute_result"
    }
   ],
   "source": [
    "d_2 = diff(y)\n",
    "print('Производная функции:')\n",
    "d_2"
   ]
  },
  {
   "cell_type": "code",
   "execution_count": 20,
   "id": "4c79cd33-da32-4e1e-9053-f9e066dfa251",
   "metadata": {},
   "outputs": [
    {
     "name": "stdout",
     "output_type": "stream",
     "text": [
      "Экстремумы:\n"
     ]
    },
    {
     "data": {
      "text/latex": [
       "$\\displaystyle \\left\\{x\\; \\middle|\\; x \\in \\mathbb{C} \\wedge 12 x^{4} \\sin{\\left(x \\right)} \\cos{\\left(\\cos{\\left(x \\right)} \\right)} - 48 x^{3} \\sin{\\left(\\cos{\\left(x \\right)} \\right)} - 54 x^{2} + 10 x + 10 = 0 \\right\\}$"
      ],
      "text/plain": [
       "ConditionSet(x, Eq(12*x**4*sin(x)*cos(cos(x)) - 48*x**3*sin(cos(x)) - 54*x**2 + 10*x + 10, 0), Complexes)"
      ]
     },
     "execution_count": 20,
     "metadata": {},
     "output_type": "execute_result"
    }
   ],
   "source": [
    "print('Экстремумы:')\n",
    "solveset(d_2, x)"
   ]
  },
  {
   "cell_type": "code",
   "execution_count": 21,
   "id": "ac9e73bc-4015-4ae8-ac54-56f5181068ba",
   "metadata": {},
   "outputs": [
    {
     "name": "stdout",
     "output_type": "stream",
     "text": [
      "Интервалы, на которых функция возрастает:\n"
     ]
    },
    {
     "data": {
      "text/latex": [
       "$\\displaystyle \\left\\{x\\; \\middle|\\; x \\in \\mathbb{C} \\wedge 12 x^{4} \\sin{\\left(x \\right)} \\cos{\\left(\\cos{\\left(x \\right)} \\right)} - 48 x^{3} \\sin{\\left(\\cos{\\left(x \\right)} \\right)} - 54 x^{2} + 10 x + 10 > 0 \\right\\}$"
      ],
      "text/plain": [
       "ConditionSet(x, 12*x**4*sin(x)*cos(cos(x)) - 48*x**3*sin(cos(x)) - 54*x**2 + 10*x + 10 > 0, Complexes)"
      ]
     },
     "execution_count": 21,
     "metadata": {},
     "output_type": "execute_result"
    }
   ],
   "source": [
    "print('Интервалы, на которых функция возрастает:')\n",
    "solveset(d_2 > 0, x)"
   ]
  },
  {
   "cell_type": "code",
   "execution_count": 22,
   "id": "a01bdd7e-a6d6-40d1-9ded-9262b4a16d76",
   "metadata": {},
   "outputs": [
    {
     "name": "stdout",
     "output_type": "stream",
     "text": [
      "Интервалы, на которых функция убывает:\n"
     ]
    },
    {
     "data": {
      "text/latex": [
       "$\\displaystyle \\left\\{x\\; \\middle|\\; x \\in \\mathbb{C} \\wedge 12 x^{4} \\sin{\\left(x \\right)} \\cos{\\left(\\cos{\\left(x \\right)} \\right)} - 48 x^{3} \\sin{\\left(\\cos{\\left(x \\right)} \\right)} - 54 x^{2} + 10 x + 10 < 0 \\right\\}$"
      ],
      "text/plain": [
       "ConditionSet(x, 12*x**4*sin(x)*cos(cos(x)) - 48*x**3*sin(cos(x)) - 54*x**2 + 10*x + 10 < 0, Complexes)"
      ]
     },
     "execution_count": 22,
     "metadata": {},
     "output_type": "execute_result"
    }
   ],
   "source": [
    "print('Интервалы, на которых функция убывает:')\n",
    "solveset(d_2 < 0, x)"
   ]
  },
  {
   "cell_type": "markdown",
   "id": "d806a04d-bc5a-4dea-9602-26e91eaae90a",
   "metadata": {},
   "source": [
    "### График функции"
   ]
  },
  {
   "cell_type": "code",
   "execution_count": 23,
   "id": "6f48e18d-8198-46b9-b1ec-f88299ac94c6",
   "metadata": {},
   "outputs": [
    {
     "data": {
      "image/png": "[encoded data removed]",
      "text/plain": [
       "<Figure size 640x480 with 1 Axes>"
      ]
     },
     "metadata": {},
     "output_type": "display_data"
    }
   ],
   "source": [
    "p_2 = plot(((-12)*sympy.sin(sympy.cos(x))*x**4 - 18 * (x**3)+5*(x**2) + 10*x - 30),(x, -50, 50))"
   ]
  },
  {
   "cell_type": "markdown",
   "id": "46ab7867-962a-4229-8f3e-5f417601b4ef",
   "metadata": {},
   "source": [
    "### Вершины функции"
   ]
  },
  {
   "cell_type": "code",
   "execution_count": 24,
   "id": "cdd4b619-7ddb-4866-b729-cb70cf60e20c",
   "metadata": {},
   "outputs": [
    {
     "name": "stdout",
     "output_type": "stream",
     "text": [
      "Экстремумы функции:\n"
     ]
    },
    {
     "data": {
      "text/latex": [
       "$\\displaystyle \\left\\{x\\; \\middle|\\; x \\in \\mathbb{C} \\wedge 12 x^{4} \\sin{\\left(x \\right)} \\cos{\\left(\\cos{\\left(x \\right)} \\right)} - 48 x^{3} \\sin{\\left(\\cos{\\left(x \\right)} \\right)} - 54 x^{2} + 10 x + 10 = 0 \\right\\}$"
      ],
      "text/plain": [
       "ConditionSet(x, Eq(12*x**4*sin(x)*cos(cos(x)) - 48*x**3*sin(cos(x)) - 54*x**2 + 10*x + 10, 0), Complexes)"
      ]
     },
     "execution_count": 24,
     "metadata": {},
     "output_type": "execute_result"
    }
   ],
   "source": [
    "print('Экстремумы функции:')\n",
    "solveset(d_2, x)"
   ]
  },
  {
   "cell_type": "markdown",
   "id": "f3ed764f-b91a-4212-a7c4-d6e02265d21c",
   "metadata": {},
   "source": [
    "### Функция > 0"
   ]
  },
  {
   "cell_type": "code",
   "execution_count": 25,
   "id": "77632ea1-fd8c-4fbb-9afc-7c93b921a08d",
   "metadata": {},
   "outputs": [
    {
     "name": "stdout",
     "output_type": "stream",
     "text": [
      "Функция положительна на следующих интервалах:\n"
     ]
    },
    {
     "data": {
      "text/latex": [
       "$\\displaystyle \\left\\{x\\; \\middle|\\; x \\in \\mathbb{C} \\wedge - 12 x^{4} \\sin{\\left(\\cos{\\left(x \\right)} \\right)} - 18 x^{3} + 5 x^{2} + 10 x - 30 > 0 \\right\\}$"
      ],
      "text/plain": [
       "ConditionSet(x, -12*x**4*sin(cos(x)) - 18*x**3 + 5*x**2 + 10*x - 30 > 0, Complexes)"
      ]
     },
     "execution_count": 25,
     "metadata": {},
     "output_type": "execute_result"
    }
   ],
   "source": [
    "print('Функция положительна на следующих интервалах:')\n",
    "xp2 = solveset(y > 0, x)\n",
    "xp2"
   ]
  },
  {
   "cell_type": "markdown",
   "id": "8799cfca-ec90-4ce6-aeee-d553b2cff186",
   "metadata": {},
   "source": [
    "### Функция < 0"
   ]
  },
  {
   "cell_type": "code",
   "execution_count": 26,
   "id": "a941188b-bf9e-4524-b835-5baca1e5c5aa",
   "metadata": {},
   "outputs": [
    {
     "name": "stdout",
     "output_type": "stream",
     "text": [
      "Функция отрицательна на следующих интервалах:\n"
     ]
    },
    {
     "data": {
      "text/latex": [
       "$\\displaystyle \\left\\{x\\; \\middle|\\; x \\in \\mathbb{C} \\wedge - 12 x^{4} \\sin{\\left(\\cos{\\left(x \\right)} \\right)} - 18 x^{3} + 5 x^{2} + 10 x - 30 < 0 \\right\\}$"
      ],
      "text/plain": [
       "ConditionSet(x, -12*x**4*sin(cos(x)) - 18*x**3 + 5*x**2 + 10*x - 30 < 0, Complexes)"
      ]
     },
     "execution_count": 26,
     "metadata": {},
     "output_type": "execute_result"
    }
   ],
   "source": [
    "print('Функция отрицательна на следующих интервалах:')\n",
    "xp2 = solveset(y < 0, x)\n",
    "xp2"
   ]
  }
 ],
 "metadata": {
  "kernelspec": {
   "display_name": "Python 3 (ipykernel)",
   "language": "python",
   "name": "python3"
  },
  "language_info": {
   "codemirror_mode": {
    "name": "ipython",
    "version": 3
   },
   "file_extension": ".py",
   "mimetype": "text/x-python",
   "name": "python",
   "nbconvert_exporter": "python",
   "pygments_lexer": "ipython3",
   "version": "3.9.13"
  }
 },
 "nbformat": 4,
 "nbformat_minor": 5
}
