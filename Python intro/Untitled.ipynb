{
 "cells": [
  {
   "cell_type": "markdown",
   "id": "ef1393d5-4d3f-4dab-8bc7-e770cd2cd731",
   "metadata": {},
   "source": [
    "## Синусоида"
   ]
  },
  {
   "cell_type": "code",
   "execution_count": 2,
   "id": "0ef28d51-15c1-4c0a-b597-6b6ff71cfb38",
   "metadata": {},
   "outputs": [
    {
     "data": {
      "image/png": "[encoded data removed]",
      "text/latex": [
       "$\\displaystyle x + 2022$"
      ],
      "text/plain": [
       "x + 2022"
      ]
     },
     "execution_count": 2,
     "metadata": {},
     "output_type": "execute_result"
    }
   ],
   "source": [
    "from sympy import*\n",
    "from sympy.plotting import plot\n",
    "init_printing()\n",
    "x = Symbol('x')\n",
    "f = x + 2022\n",
    "f\n"
   ]
  },
  {
   "cell_type": "code",
   "execution_count": 3,
   "id": "636363ca-cdd4-4500-9651-1a6c41bd012e",
   "metadata": {},
   "outputs": [
    {
     "data": {
      "image/png": "[encoded data removed]",
      "text/latex": [
       "$\\displaystyle x + 2022$"
      ],
      "text/plain": [
       "x + 2022"
      ]
     },
     "execution_count": 3,
     "metadata": {},
     "output_type": "execute_result"
    }
   ],
   "source": [
    "f = x + 2022\n",
    "f\n"
   ]
  },
  {
   "cell_type": "code",
   "execution_count": null,
   "id": "fe024a0a-74b5-48f2-8acd-15ce553781ec",
   "metadata": {},
   "outputs": [],
   "source": []
  }
 ],
 "metadata": {
  "kernelspec": {
   "display_name": "Python 3 (ipykernel)",
   "language": "python",
   "name": "python3"
  },
  "language_info": {
   "codemirror_mode": {
    "name": "ipython",
    "version": 3
   },
   "file_extension": ".py",
   "mimetype": "text/x-python",
   "name": "python",
   "nbconvert_exporter": "python",
   "pygments_lexer": "ipython3",
   "version": "3.9.13"
  }
 },
 "nbformat": 4,
 "nbformat_minor": 5
}
