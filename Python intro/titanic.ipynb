{
 "cells": [
  {
   "cell_type": "markdown",
   "id": "e317fe30",
   "metadata": {},
   "source": [
    "# 1. Импорт библиотек и загрузка данных"
   ]
  },
  {
   "cell_type": "code",
   "execution_count": 1,
   "id": "e71153af",
   "metadata": {
    "_cell_guid": "b1076dfc-b9ad-4769-8c92-a6c4dae69d19",
    "_uuid": "8f2839f25d086af736a60e9eeb907d3b93b6e0e5",
    "execution": {
     "iopub.execute_input": "2022-07-04T01:37:37.110054Z",
     "iopub.status.busy": "2022-07-04T01:37:37.109091Z",
     "iopub.status.idle": "2022-07-04T01:37:39.862783Z",
     "shell.execute_reply": "2022-07-04T01:37:39.861638Z"
    },
    "papermill": {
     "duration": 2.778524,
     "end_time": "2022-07-04T01:37:39.865503",
     "exception": false,
     "start_time": "2022-07-04T01:37:37.086979",
     "status": "completed"
    },
    "tags": []
   },
   "outputs": [],
   "source": [
    "import numpy as np\n",
    "import pandas as pd\n",
    "import matplotlib.pyplot as plt\n",
    "import seaborn as sns\n",
    "sns.set_style(\"whitegrid\")\n",
    "\n",
    "from sklearn.preprocessing import StandardScaler\n",
    "from sklearn.model_selection import cross_validate, GridSearchCV\n",
    "from sklearn.neighbors import KNeighborsClassifier\n",
    "from sklearn.linear_model import LogisticRegression\n",
    "from sklearn.tree import DecisionTreeClassifier\n",
    "from sklearn.ensemble import RandomForestClassifier\n",
    "from sklearn.svm import SVC\n",
    "from sklearn.neural_network import MLPClassifier\n",
    "from xgboost import XGBClassifier\n",
    "from lightgbm import LGBMClassifier\n",
    "from sklearn.metrics import classification_report, accuracy_score, f1_score, confusion_matrix\n",
    "\n",
    "import warnings\n",
    "warnings.filterwarnings(\"ignore\")"
   ]
  },
  {
   "cell_type": "markdown",
   "id": "cf2438e7",
   "metadata": {},
   "source": [
    "Краткая информация о каждом из стобцов датасета:\n",
    "\n",
    "* PassengerId: Уникальный индекс/номер строки. Начинается с 1 (для первой строки) и увеличивается на 1 для каждой следующей. Рассматриваем его как индентификатор строки и, что логично, идентификатор пассжира (т.к. для каждого пассажира в датасете представлена только одна строка).\n",
    "* Survived: Признак, показывающий был ли спасен данный пассажир или нет. 1 означает, что удалось выжить, и 0 - не удалось спастись.\n",
    "* Pclass: Класс билета. 1 - означает Первый класс билета. 2 - означает Второй класс билета. 3 - означает Третий класс билета.\n",
    "* Name: Имя пассажира. Имя также может содержать титулы и обращения. \"Mr\" для мужчин. \"Mrs\" для женщин. \"Miss\" для девушек (тут имеется в виду что для тех, кто не замужем, так было принято, да и сейчас тоже, говорить в западном обществе). \"Master\" для юношей.\n",
    "* Sex: Пол пассажира. Либо мужчины (=Male) оибо женщины (=Female).\n",
    "* Age: Возраст пассажира. \"NaN\" значения в этой колонке означают, что возраст данного пассажира отсутствует/неизвестен/или не был записанv в датасет.\n",
    "* SibSp: Количество братьев/сестер или супругов, путешествующих с каждым пассажиром.\n",
    "* Parch: Количество родителей детей (Number of parents of children travelling with each passenger).\n",
    "* Ticket: Номер билета.\n",
    "* Fare: Сумма, которую заплатил пассажир за путешествие.\n",
    "* Cabin: Номер каюты пассажира. \"NaN\" значения в этой колонке указавает на то, что номер каюты данного пассажира не был записан.\n",
    "* Embarked: Порт отправления данного пассажира"
   ]
  },
  {
   "cell_type": "markdown",
   "id": "790ed7c0",
   "metadata": {
    "papermill": {
     "duration": 0.020234,
     "end_time": "2022-07-04T01:37:39.906671",
     "exception": false,
     "start_time": "2022-07-04T01:37:39.886437",
     "status": "completed"
    },
    "tags": []
   },
   "source": [
    "## Загрузка данных"
   ]
  },
  {
   "cell_type": "code",
   "execution_count": 2,
   "id": "217ca75c",
   "metadata": {
    "execution": {
     "iopub.execute_input": "2022-07-04T01:37:39.949666Z",
     "iopub.status.busy": "2022-07-04T01:37:39.949251Z",
     "iopub.status.idle": "2022-07-04T01:37:40.007658Z",
     "shell.execute_reply": "2022-07-04T01:37:40.006570Z"
    },
    "papermill": {
     "duration": 0.08247,
     "end_time": "2022-07-04T01:37:40.010076",
     "exception": false,
     "start_time": "2022-07-04T01:37:39.927606",
     "status": "completed"
    },
    "tags": []
   },
   "outputs": [
    {
     "data": {
      "text/html": [
       "<div>\n",
       "<style scoped>\n",
       "    .dataframe tbody tr th:only-of-type {\n",
       "        vertical-align: middle;\n",
       "    }\n",
       "\n",
       "    .dataframe tbody tr th {\n",
       "        vertical-align: top;\n",
       "    }\n",
       "\n",
       "    .dataframe thead th {\n",
       "        text-align: right;\n",
       "    }\n",
       "</style>\n",
       "<table border=\"1\" class=\"dataframe\">\n",
       "  <thead>\n",
       "    <tr style=\"text-align: right;\">\n",
       "      <th></th>\n",
       "      <th>PassengerId</th>\n",
       "      <th>Survived</th>\n",
       "      <th>Pclass</th>\n",
       "      <th>Name</th>\n",
       "      <th>Sex</th>\n",
       "      <th>Age</th>\n",
       "      <th>SibSp</th>\n",
       "      <th>Parch</th>\n",
       "      <th>Ticket</th>\n",
       "      <th>Fare</th>\n",
       "      <th>Cabin</th>\n",
       "      <th>Embarked</th>\n",
       "    </tr>\n",
       "  </thead>\n",
       "  <tbody>\n",
       "    <tr>\n",
       "      <th>0</th>\n",
       "      <td>1</td>\n",
       "      <td>0</td>\n",
       "      <td>3</td>\n",
       "      <td>Braund, Mr. Owen Harris</td>\n",
       "      <td>male</td>\n",
       "      <td>22.0</td>\n",
       "      <td>1</td>\n",
       "      <td>0</td>\n",
       "      <td>A/5 21171</td>\n",
       "      <td>7.2500</td>\n",
       "      <td>NaN</td>\n",
       "      <td>S</td>\n",
       "    </tr>\n",
       "    <tr>\n",
       "      <th>1</th>\n",
       "      <td>2</td>\n",
       "      <td>1</td>\n",
       "      <td>1</td>\n",
       "      <td>Cumings, Mrs. John Bradley (Florence Briggs Th...</td>\n",
       "      <td>female</td>\n",
       "      <td>38.0</td>\n",
       "      <td>1</td>\n",
       "      <td>0</td>\n",
       "      <td>PC 17599</td>\n",
       "      <td>71.2833</td>\n",
       "      <td>C85</td>\n",
       "      <td>C</td>\n",
       "    </tr>\n",
       "    <tr>\n",
       "      <th>2</th>\n",
       "      <td>3</td>\n",
       "      <td>1</td>\n",
       "      <td>3</td>\n",
       "      <td>Heikkinen, Miss. Laina</td>\n",
       "      <td>female</td>\n",
       "      <td>26.0</td>\n",
       "      <td>0</td>\n",
       "      <td>0</td>\n",
       "      <td>STON/O2. 3101282</td>\n",
       "      <td>7.9250</td>\n",
       "      <td>NaN</td>\n",
       "      <td>S</td>\n",
       "    </tr>\n",
       "    <tr>\n",
       "      <th>3</th>\n",
       "      <td>4</td>\n",
       "      <td>1</td>\n",
       "      <td>1</td>\n",
       "      <td>Futrelle, Mrs. Jacques Heath (Lily May Peel)</td>\n",
       "      <td>female</td>\n",
       "      <td>35.0</td>\n",
       "      <td>1</td>\n",
       "      <td>0</td>\n",
       "      <td>113803</td>\n",
       "      <td>53.1000</td>\n",
       "      <td>C123</td>\n",
       "      <td>S</td>\n",
       "    </tr>\n",
       "    <tr>\n",
       "      <th>4</th>\n",
       "      <td>5</td>\n",
       "      <td>0</td>\n",
       "      <td>3</td>\n",
       "      <td>Allen, Mr. William Henry</td>\n",
       "      <td>male</td>\n",
       "      <td>35.0</td>\n",
       "      <td>0</td>\n",
       "      <td>0</td>\n",
       "      <td>373450</td>\n",
       "      <td>8.0500</td>\n",
       "      <td>NaN</td>\n",
       "      <td>S</td>\n",
       "    </tr>\n",
       "  </tbody>\n",
       "</table>\n",
       "</div>"
      ],
      "text/plain": [
       "   PassengerId  Survived  Pclass  \\\n",
       "0            1         0       3   \n",
       "1            2         1       1   \n",
       "2            3         1       3   \n",
       "3            4         1       1   \n",
       "4            5         0       3   \n",
       "\n",
       "                                                Name     Sex   Age  SibSp  \\\n",
       "0                            Braund, Mr. Owen Harris    male  22.0      1   \n",
       "1  Cumings, Mrs. John Bradley (Florence Briggs Th...  female  38.0      1   \n",
       "2                             Heikkinen, Miss. Laina  female  26.0      0   \n",
       "3       Futrelle, Mrs. Jacques Heath (Lily May Peel)  female  35.0      1   \n",
       "4                           Allen, Mr. William Henry    male  35.0      0   \n",
       "\n",
       "   Parch            Ticket     Fare Cabin Embarked  \n",
       "0      0         A/5 21171   7.2500   NaN        S  \n",
       "1      0          PC 17599  71.2833   C85        C  \n",
       "2      0  STON/O2. 3101282   7.9250   NaN        S  \n",
       "3      0            113803  53.1000  C123        S  \n",
       "4      0            373450   8.0500   NaN        S  "
      ]
     },
     "metadata": {},
     "output_type": "display_data"
    },
    {
     "data": {
      "text/html": [
       "<div>\n",
       "<style scoped>\n",
       "    .dataframe tbody tr th:only-of-type {\n",
       "        vertical-align: middle;\n",
       "    }\n",
       "\n",
       "    .dataframe tbody tr th {\n",
       "        vertical-align: top;\n",
       "    }\n",
       "\n",
       "    .dataframe thead th {\n",
       "        text-align: right;\n",
       "    }\n",
       "</style>\n",
       "<table border=\"1\" class=\"dataframe\">\n",
       "  <thead>\n",
       "    <tr style=\"text-align: right;\">\n",
       "      <th></th>\n",
       "      <th>PassengerId</th>\n",
       "      <th>Pclass</th>\n",
       "      <th>Name</th>\n",
       "      <th>Sex</th>\n",
       "      <th>Age</th>\n",
       "      <th>SibSp</th>\n",
       "      <th>Parch</th>\n",
       "      <th>Ticket</th>\n",
       "      <th>Fare</th>\n",
       "      <th>Cabin</th>\n",
       "      <th>Embarked</th>\n",
       "    </tr>\n",
       "  </thead>\n",
       "  <tbody>\n",
       "    <tr>\n",
       "      <th>0</th>\n",
       "      <td>892</td>\n",
       "      <td>3</td>\n",
       "      <td>Kelly, Mr. James</td>\n",
       "      <td>male</td>\n",
       "      <td>34.5</td>\n",
       "      <td>0</td>\n",
       "      <td>0</td>\n",
       "      <td>330911</td>\n",
       "      <td>7.8292</td>\n",
       "      <td>NaN</td>\n",
       "      <td>Q</td>\n",
       "    </tr>\n",
       "    <tr>\n",
       "      <th>1</th>\n",
       "      <td>893</td>\n",
       "      <td>3</td>\n",
       "      <td>Wilkes, Mrs. James (Ellen Needs)</td>\n",
       "      <td>female</td>\n",
       "      <td>47.0</td>\n",
       "      <td>1</td>\n",
       "      <td>0</td>\n",
       "      <td>363272</td>\n",
       "      <td>7.0000</td>\n",
       "      <td>NaN</td>\n",
       "      <td>S</td>\n",
       "    </tr>\n",
       "    <tr>\n",
       "      <th>2</th>\n",
       "      <td>894</td>\n",
       "      <td>2</td>\n",
       "      <td>Myles, Mr. Thomas Francis</td>\n",
       "      <td>male</td>\n",
       "      <td>62.0</td>\n",
       "      <td>0</td>\n",
       "      <td>0</td>\n",
       "      <td>240276</td>\n",
       "      <td>9.6875</td>\n",
       "      <td>NaN</td>\n",
       "      <td>Q</td>\n",
       "    </tr>\n",
       "    <tr>\n",
       "      <th>3</th>\n",
       "      <td>895</td>\n",
       "      <td>3</td>\n",
       "      <td>Wirz, Mr. Albert</td>\n",
       "      <td>male</td>\n",
       "      <td>27.0</td>\n",
       "      <td>0</td>\n",
       "      <td>0</td>\n",
       "      <td>315154</td>\n",
       "      <td>8.6625</td>\n",
       "      <td>NaN</td>\n",
       "      <td>S</td>\n",
       "    </tr>\n",
       "    <tr>\n",
       "      <th>4</th>\n",
       "      <td>896</td>\n",
       "      <td>3</td>\n",
       "      <td>Hirvonen, Mrs. Alexander (Helga E Lindqvist)</td>\n",
       "      <td>female</td>\n",
       "      <td>22.0</td>\n",
       "      <td>1</td>\n",
       "      <td>1</td>\n",
       "      <td>3101298</td>\n",
       "      <td>12.2875</td>\n",
       "      <td>NaN</td>\n",
       "      <td>S</td>\n",
       "    </tr>\n",
       "  </tbody>\n",
       "</table>\n",
       "</div>"
      ],
      "text/plain": [
       "   PassengerId  Pclass                                          Name     Sex  \\\n",
       "0          892       3                              Kelly, Mr. James    male   \n",
       "1          893       3              Wilkes, Mrs. James (Ellen Needs)  female   \n",
       "2          894       2                     Myles, Mr. Thomas Francis    male   \n",
       "3          895       3                              Wirz, Mr. Albert    male   \n",
       "4          896       3  Hirvonen, Mrs. Alexander (Helga E Lindqvist)  female   \n",
       "\n",
       "    Age  SibSp  Parch   Ticket     Fare Cabin Embarked  \n",
       "0  34.5      0      0   330911   7.8292   NaN        Q  \n",
       "1  47.0      1      0   363272   7.0000   NaN        S  \n",
       "2  62.0      0      0   240276   9.6875   NaN        Q  \n",
       "3  27.0      0      0   315154   8.6625   NaN        S  \n",
       "4  22.0      1      1  3101298  12.2875   NaN        S  "
      ]
     },
     "metadata": {},
     "output_type": "display_data"
    }
   ],
   "source": [
    "df_train = pd.read_csv(\"train.csv\")\n",
    "df_test = pd.read_csv(\"test.csv\")\n",
    "\n",
    "display(df_train.head())\n",
    "display(df_test.head())"
   ]
  },
  {
   "cell_type": "markdown",
   "id": "87338d4c",
   "metadata": {
    "papermill": {
     "duration": 0.020947,
     "end_time": "2022-07-04T01:37:40.052218",
     "exception": false,
     "start_time": "2022-07-04T01:37:40.031271",
     "status": "completed"
    },
    "tags": []
   },
   "source": [
    "## Смотрим пропуски"
   ]
  },
  {
   "cell_type": "code",
   "execution_count": 3,
   "id": "b12cf2c8",
   "metadata": {
    "execution": {
     "iopub.execute_input": "2022-07-04T01:37:40.096565Z",
     "iopub.status.busy": "2022-07-04T01:37:40.096148Z",
     "iopub.status.idle": "2022-07-04T01:37:40.195839Z",
     "shell.execute_reply": "2022-07-04T01:37:40.194824Z"
    },
    "papermill": {
     "duration": 0.12515,
     "end_time": "2022-07-04T01:37:40.198363",
     "exception": false,
     "start_time": "2022-07-04T01:37:40.073213",
     "status": "completed"
    },
    "tags": []
   },
   "outputs": [
    {
     "data": {
      "text/html": [
       "<style type=\"text/css\">\n",
       "#T_e7545_row0_col0, #T_e7545_row0_col1, #T_e7545_row1_col0, #T_e7545_row2_col0, #T_e7545_row2_col1, #T_e7545_row3_col0, #T_e7545_row3_col1, #T_e7545_row4_col0, #T_e7545_row4_col1, #T_e7545_row6_col0, #T_e7545_row6_col1, #T_e7545_row7_col0, #T_e7545_row7_col1, #T_e7545_row8_col0, #T_e7545_row8_col1, #T_e7545_row9_col0, #T_e7545_row9_col1, #T_e7545_row11_col0, #T_e7545_row11_col1 {\n",
       "  background-color: #ffff66;\n",
       "  color: #000000;\n",
       "}\n",
       "#T_e7545_row1_col1 {\n",
       "  background-color: #000000;\n",
       "  color: #f1f1f1;\n",
       "}\n",
       "#T_e7545_row5_col0 {\n",
       "  background-color: #bede66;\n",
       "  color: #000000;\n",
       "}\n",
       "#T_e7545_row5_col1 {\n",
       "  background-color: #bcde66;\n",
       "  color: #000000;\n",
       "}\n",
       "#T_e7545_row10_col0, #T_e7545_row10_col1 {\n",
       "  background-color: #008066;\n",
       "  color: #f1f1f1;\n",
       "}\n",
       "</style>\n",
       "<table id=\"T_e7545\">\n",
       "  <thead>\n",
       "    <tr>\n",
       "      <th class=\"blank level0\" >&nbsp;</th>\n",
       "      <th id=\"T_e7545_level0_col0\" class=\"col_heading level0 col0\" >Train Null (%)</th>\n",
       "      <th id=\"T_e7545_level0_col1\" class=\"col_heading level0 col1\" >Test Null (%)</th>\n",
       "    </tr>\n",
       "  </thead>\n",
       "  <tbody>\n",
       "    <tr>\n",
       "      <th id=\"T_e7545_level0_row0\" class=\"row_heading level0 row0\" >PassengerId</th>\n",
       "      <td id=\"T_e7545_row0_col0\" class=\"data row0 col0\" >0.000000</td>\n",
       "      <td id=\"T_e7545_row0_col1\" class=\"data row0 col1\" >0.000000</td>\n",
       "    </tr>\n",
       "    <tr>\n",
       "      <th id=\"T_e7545_level0_row1\" class=\"row_heading level0 row1\" >Survived</th>\n",
       "      <td id=\"T_e7545_row1_col0\" class=\"data row1 col0\" >0.000000</td>\n",
       "      <td id=\"T_e7545_row1_col1\" class=\"data row1 col1\" >nan</td>\n",
       "    </tr>\n",
       "    <tr>\n",
       "      <th id=\"T_e7545_level0_row2\" class=\"row_heading level0 row2\" >Pclass</th>\n",
       "      <td id=\"T_e7545_row2_col0\" class=\"data row2 col0\" >0.000000</td>\n",
       "      <td id=\"T_e7545_row2_col1\" class=\"data row2 col1\" >0.000000</td>\n",
       "    </tr>\n",
       "    <tr>\n",
       "      <th id=\"T_e7545_level0_row3\" class=\"row_heading level0 row3\" >Name</th>\n",
       "      <td id=\"T_e7545_row3_col0\" class=\"data row3 col0\" >0.000000</td>\n",
       "      <td id=\"T_e7545_row3_col1\" class=\"data row3 col1\" >0.000000</td>\n",
       "    </tr>\n",
       "    <tr>\n",
       "      <th id=\"T_e7545_level0_row4\" class=\"row_heading level0 row4\" >Sex</th>\n",
       "      <td id=\"T_e7545_row4_col0\" class=\"data row4 col0\" >0.000000</td>\n",
       "      <td id=\"T_e7545_row4_col1\" class=\"data row4 col1\" >0.000000</td>\n",
       "    </tr>\n",
       "    <tr>\n",
       "      <th id=\"T_e7545_level0_row5\" class=\"row_heading level0 row5\" >Age</th>\n",
       "      <td id=\"T_e7545_row5_col0\" class=\"data row5 col0\" >19.865320</td>\n",
       "      <td id=\"T_e7545_row5_col1\" class=\"data row5 col1\" >20.574163</td>\n",
       "    </tr>\n",
       "    <tr>\n",
       "      <th id=\"T_e7545_level0_row6\" class=\"row_heading level0 row6\" >SibSp</th>\n",
       "      <td id=\"T_e7545_row6_col0\" class=\"data row6 col0\" >0.000000</td>\n",
       "      <td id=\"T_e7545_row6_col1\" class=\"data row6 col1\" >0.000000</td>\n",
       "    </tr>\n",
       "    <tr>\n",
       "      <th id=\"T_e7545_level0_row7\" class=\"row_heading level0 row7\" >Parch</th>\n",
       "      <td id=\"T_e7545_row7_col0\" class=\"data row7 col0\" >0.000000</td>\n",
       "      <td id=\"T_e7545_row7_col1\" class=\"data row7 col1\" >0.000000</td>\n",
       "    </tr>\n",
       "    <tr>\n",
       "      <th id=\"T_e7545_level0_row8\" class=\"row_heading level0 row8\" >Ticket</th>\n",
       "      <td id=\"T_e7545_row8_col0\" class=\"data row8 col0\" >0.000000</td>\n",
       "      <td id=\"T_e7545_row8_col1\" class=\"data row8 col1\" >0.000000</td>\n",
       "    </tr>\n",
       "    <tr>\n",
       "      <th id=\"T_e7545_level0_row9\" class=\"row_heading level0 row9\" >Fare</th>\n",
       "      <td id=\"T_e7545_row9_col0\" class=\"data row9 col0\" >0.000000</td>\n",
       "      <td id=\"T_e7545_row9_col1\" class=\"data row9 col1\" >0.239234</td>\n",
       "    </tr>\n",
       "    <tr>\n",
       "      <th id=\"T_e7545_level0_row10\" class=\"row_heading level0 row10\" >Cabin</th>\n",
       "      <td id=\"T_e7545_row10_col0\" class=\"data row10 col0\" >77.104377</td>\n",
       "      <td id=\"T_e7545_row10_col1\" class=\"data row10 col1\" >78.229665</td>\n",
       "    </tr>\n",
       "    <tr>\n",
       "      <th id=\"T_e7545_level0_row11\" class=\"row_heading level0 row11\" >Embarked</th>\n",
       "      <td id=\"T_e7545_row11_col0\" class=\"data row11 col0\" >0.224467</td>\n",
       "      <td id=\"T_e7545_row11_col1\" class=\"data row11 col1\" >0.000000</td>\n",
       "    </tr>\n",
       "  </tbody>\n",
       "</table>\n"
      ],
      "text/plain": [
       "<pandas.io.formats.style.Styler at 0x1e5b5988b50>"
      ]
     },
     "execution_count": 3,
     "metadata": {},
     "output_type": "execute_result"
    }
   ],
   "source": [
    "pd.DataFrame(data = [df_train.isna().sum()/df_train.shape[0]*100, df_test.isna().sum()/df_test.shape[0]*100], index=[\"Train Null (%)\", \"Test Null (%)\"]).T.style.background_gradient(cmap='summer_r')"
   ]
  },
  {
   "cell_type": "markdown",
   "id": "8232c63c",
   "metadata": {
    "papermill": {
     "duration": 0.021094,
     "end_time": "2022-07-04T01:37:40.241034",
     "exception": false,
     "start_time": "2022-07-04T01:37:40.219940",
     "status": "completed"
    },
    "tags": []
   },
   "source": [
    "Возраст и каюта имеют большое количество пропусков. Переменная Embarked в тренировочных данных имеет 2 нулевых значения, а переменная Fare в тестовых данных имеет 1 нулевое значение. Сначала нам нужно будет проанализировать эти данные, чтобы решить, удалить ли этот столбец или выполнить какое-либо изменение."
   ]
  },
  {
   "cell_type": "markdown",
   "id": "89a5a958",
   "metadata": {
    "papermill": {
     "duration": 0.020885,
     "end_time": "2022-07-04T01:37:40.283326",
     "exception": false,
     "start_time": "2022-07-04T01:37:40.262441",
     "status": "completed"
    },
    "tags": []
   },
   "source": [
    "## Проверяем данные на дубли"
   ]
  },
  {
   "cell_type": "code",
   "execution_count": 4,
   "id": "a03f2e16",
   "metadata": {
    "execution": {
     "iopub.execute_input": "2022-07-04T01:37:40.327954Z",
     "iopub.status.busy": "2022-07-04T01:37:40.327483Z",
     "iopub.status.idle": "2022-07-04T01:37:40.342664Z",
     "shell.execute_reply": "2022-07-04T01:37:40.340652Z"
    },
    "papermill": {
     "duration": 0.041665,
     "end_time": "2022-07-04T01:37:40.346322",
     "exception": false,
     "start_time": "2022-07-04T01:37:40.304657",
     "status": "completed"
    },
    "tags": []
   },
   "outputs": [
    {
     "name": "stdout",
     "output_type": "stream",
     "text": [
      "Train data has 0 duplicated data\n",
      "Test data has 0 duplicated data\n"
     ]
    }
   ],
   "source": [
    "print(f\"Train data has {df_train.duplicated().sum()} duplicated data\")\n",
    "print(f\"Test data has {df_test.duplicated().sum()} duplicated data\")"
   ]
  },
  {
   "cell_type": "markdown",
   "id": "ff367fae",
   "metadata": {
    "papermill": {
     "duration": 0.021713,
     "end_time": "2022-07-04T01:37:40.389996",
     "exception": false,
     "start_time": "2022-07-04T01:37:40.368283",
     "status": "completed"
    },
    "tags": []
   },
   "source": [
    "No duplicated data in both train and test data. Looks good."
   ]
  },
  {
   "cell_type": "markdown",
   "id": "91d32e4d",
   "metadata": {
    "papermill": {
     "duration": 0.021068,
     "end_time": "2022-07-04T01:37:40.432539",
     "exception": false,
     "start_time": "2022-07-04T01:37:40.411471",
     "status": "completed"
    },
    "tags": []
   },
   "source": [
    "## Смотрим информацию о датасете"
   ]
  },
  {
   "cell_type": "code",
   "execution_count": 5,
   "id": "d98aaad5",
   "metadata": {
    "execution": {
     "iopub.execute_input": "2022-07-04T01:37:40.478483Z",
     "iopub.status.busy": "2022-07-04T01:37:40.477856Z",
     "iopub.status.idle": "2022-07-04T01:37:40.495723Z",
     "shell.execute_reply": "2022-07-04T01:37:40.494370Z"
    },
    "papermill": {
     "duration": 0.043838,
     "end_time": "2022-07-04T01:37:40.498094",
     "exception": false,
     "start_time": "2022-07-04T01:37:40.454256",
     "status": "completed"
    },
    "tags": []
   },
   "outputs": [
    {
     "name": "stdout",
     "output_type": "stream",
     "text": [
      "<class 'pandas.core.frame.DataFrame'>\n",
      "RangeIndex: 891 entries, 0 to 890\n",
      "Data columns (total 12 columns):\n",
      " #   Column       Non-Null Count  Dtype  \n",
      "---  ------       --------------  -----  \n",
      " 0   PassengerId  891 non-null    int64  \n",
      " 1   Survived     891 non-null    int64  \n",
      " 2   Pclass       891 non-null    int64  \n",
      " 3   Name         891 non-null    object \n",
      " 4   Sex          891 non-null    object \n",
      " 5   Age          714 non-null    float64\n",
      " 6   SibSp        891 non-null    int64  \n",
      " 7   Parch        891 non-null    int64  \n",
      " 8   Ticket       891 non-null    object \n",
      " 9   Fare         891 non-null    float64\n",
      " 10  Cabin        204 non-null    object \n",
      " 11  Embarked     889 non-null    object \n",
      "dtypes: float64(2), int64(5), object(5)\n",
      "memory usage: 83.7+ KB\n"
     ]
    }
   ],
   "source": [
    "df_train.info()"
   ]
  },
  {
   "cell_type": "markdown",
   "id": "20062a53",
   "metadata": {
    "papermill": {
     "duration": 0.021347,
     "end_time": "2022-07-04T01:37:40.541232",
     "exception": false,
     "start_time": "2022-07-04T01:37:40.519885",
     "status": "completed"
    },
    "tags": []
   },
   "source": [
    "У нас 12 переменных по 891 записей. Типы переменных:\n",
    "\n",
    "**Numerical:**\n",
    "- **Discrete:**\n",
    "    1. SibSp\n",
    "    2. Parch\n",
    "    <br><br>\n",
    "    \n",
    "- **Continous:**\n",
    "    1. Age\n",
    "    2. Fare\n",
    "    <br>\n",
    "    \n",
    "**Categorical:**\n",
    "- **Nominal:**\n",
    "    1. Sex\n",
    "    2. Embarked\n",
    "    3. Survived (Target Variable)\n",
    "    <br><br>\n",
    "    \n",
    "- **Ordinal:**\n",
    "    1. Pclass\n",
    "    \n",
    "**Others:**\n",
    "- **Text**\n",
    "    1. Ticket\n",
    "    2. Name\n",
    "    <br><br>\n",
    "    \n",
    "- **ID:**\n",
    "    1. PassengerId"
   ]
  },
  {
   "cell_type": "markdown",
   "id": "7c4e9000",
   "metadata": {
    "papermill": {
     "duration": 0.021919,
     "end_time": "2022-07-04T01:37:40.585149",
     "exception": false,
     "start_time": "2022-07-04T01:37:40.563230",
     "status": "completed"
    },
    "tags": []
   },
   "source": [
    "# 2. Exploratory Data Analysis"
   ]
  },
  {
   "cell_type": "markdown",
   "id": "d57626b8",
   "metadata": {
    "papermill": {
     "duration": 0.022077,
     "end_time": "2022-07-04T01:37:40.629055",
     "exception": false,
     "start_time": "2022-07-04T01:37:40.606978",
     "status": "completed"
    },
    "tags": []
   },
   "source": [
    "Давайте сгруппируем наши типы переменных и создадим две функции для визуализации наших числовых и категориальных данных."
   ]
  },
  {
   "cell_type": "code",
   "execution_count": 6,
   "id": "fdcabc4f",
   "metadata": {
    "execution": {
     "iopub.execute_input": "2022-07-04T01:37:40.676497Z",
     "iopub.status.busy": "2022-07-04T01:37:40.675667Z",
     "iopub.status.idle": "2022-07-04T01:37:40.681792Z",
     "shell.execute_reply": "2022-07-04T01:37:40.680593Z"
    },
    "papermill": {
     "duration": 0.032005,
     "end_time": "2022-07-04T01:37:40.684140",
     "exception": false,
     "start_time": "2022-07-04T01:37:40.652135",
     "status": "completed"
    },
    "tags": []
   },
   "outputs": [],
   "source": [
    "num_var = [\"SibSp\", \"Parch\", \"Age\", \"Fare\"]\n",
    "cat_var = [\"Sex\", \"Embarked\", \"Pclass\"]\n",
    "target = \"Survived\""
   ]
  },
  {
   "cell_type": "code",
   "execution_count": 7,
   "id": "30919c47",
   "metadata": {
    "execution": {
     "iopub.execute_input": "2022-07-04T01:37:40.730271Z",
     "iopub.status.busy": "2022-07-04T01:37:40.729857Z",
     "iopub.status.idle": "2022-07-04T01:37:40.745360Z",
     "shell.execute_reply": "2022-07-04T01:37:40.743635Z"
    },
    "papermill": {
     "duration": 0.041469,
     "end_time": "2022-07-04T01:37:40.748038",
     "exception": false,
     "start_time": "2022-07-04T01:37:40.706569",
     "status": "completed"
    },
    "tags": []
   },
   "outputs": [],
   "source": [
    "def num_dist(data, var):\n",
    "    fig, ax = plt.subplots(1, 2, figsize=(12, 4))\n",
    "\n",
    "    sns.histplot(data=data, x=var, kde=True, ax=ax[0])\n",
    "    sns.boxplot(data=data, x=var, ax=ax[1])\n",
    "    ax[0].set_title(f\"{var} Distribution Histogram\")\n",
    "    ax[1].set_title(f\"{var} Distribution Boxplot\")\n",
    "\n",
    "    plt.show()\n",
    "    \n",
    "def cat_dist(data, var):\n",
    "    fig, ax = plt.subplots(1, 2, figsize=(12, 4))\n",
    "\n",
    "    df_train[var].value_counts().plot(kind=\"pie\", explode=[0.05 for x in data[var].dropna().unique()], autopct='%1.1f%%', ax=ax[0], shadow=True)\n",
    "    ax[0].set_title(f\"{var} Pie Chart\")\n",
    "    ax[0].set_ylabel('')\n",
    "\n",
    "    count = sns.countplot(x=var, data=df_train, ax=ax[1])\n",
    "    for bar in count.patches:\n",
    "        count.annotate(format(bar.get_height()),\n",
    "            (bar.get_x() + bar.get_width() / 2,\n",
    "            bar.get_height()), ha='center', va='center',\n",
    "            size=11, xytext=(0, 8),\n",
    "            textcoords='offset points')\n",
    "    ax[1].set_title(f\"{var} Bar Chart\")\n",
    "    plt.show()"
   ]
  },
  {
   "cell_type": "markdown",
   "id": "035dc39f",
   "metadata": {
    "papermill": {
     "duration": 0.022144,
     "end_time": "2022-07-04T01:37:40.791991",
     "exception": false,
     "start_time": "2022-07-04T01:37:40.769847",
     "status": "completed"
    },
    "tags": []
   },
   "source": [
    "## Распределение целевой переменной"
   ]
  },
  {
   "cell_type": "code",
   "execution_count": 8,
   "id": "c4a63170",
   "metadata": {
    "execution": {
     "iopub.execute_input": "2022-07-04T01:37:40.836944Z",
     "iopub.status.busy": "2022-07-04T01:37:40.836427Z",
     "iopub.status.idle": "2022-07-04T01:37:41.171510Z",
     "shell.execute_reply": "2022-07-04T01:37:41.170289Z"
    },
    "papermill": {
     "duration": 0.360437,
     "end_time": "2022-07-04T01:37:41.174121",
     "exception": false,
     "start_time": "2022-07-04T01:37:40.813684",
     "status": "completed"
    },
    "tags": []
   },
   "outputs": [
    {
     "data": {
      "image/png": "[encoded data removed]",
      "text/plain": [
       "<Figure size 864x288 with 2 Axes>"
      ]
     },
     "metadata": {},
     "output_type": "display_data"
    }
   ],
   "source": [
    "cat_dist(df_train, \"Survived\")"
   ]
  },
  {
   "cell_type": "markdown",
   "id": "ef424acf",
   "metadata": {
    "papermill": {
     "duration": 0.021934,
     "end_time": "2022-07-04T01:37:41.219022",
     "exception": false,
     "start_time": "2022-07-04T01:37:41.197088",
     "status": "completed"
    },
    "tags": []
   },
   "source": [
    "К сожалению, 61,6% пассажиров не выжили в смертельной аварии. Только 342 пассажира выжили из 891 пассажира в данных обучения. Итак, что заставило их пережить аварию. Мы попытаемся проанализировать функции в этом наборе данных, которые могли бы ответить на этот вопрос."
   ]
  },
  {
   "cell_type": "markdown",
   "id": "5a9ca48c",
   "metadata": {
    "papermill": {
     "duration": 0.021835,
     "end_time": "2022-07-04T01:37:41.307158",
     "exception": false,
     "start_time": "2022-07-04T01:37:41.285323",
     "status": "completed"
    },
    "tags": []
   },
   "source": [
    "### Числовые"
   ]
  },
  {
   "cell_type": "code",
   "execution_count": 9,
   "id": "3e7c8f43",
   "metadata": {
    "execution": {
     "iopub.execute_input": "2022-07-04T01:37:41.353647Z",
     "iopub.status.busy": "2022-07-04T01:37:41.353193Z",
     "iopub.status.idle": "2022-07-04T01:37:41.380440Z",
     "shell.execute_reply": "2022-07-04T01:37:41.379202Z"
    },
    "papermill": {
     "duration": 0.053487,
     "end_time": "2022-07-04T01:37:41.382845",
     "exception": false,
     "start_time": "2022-07-04T01:37:41.329358",
     "status": "completed"
    },
    "tags": []
   },
   "outputs": [
    {
     "data": {
      "text/html": [
       "<div>\n",
       "<style scoped>\n",
       "    .dataframe tbody tr th:only-of-type {\n",
       "        vertical-align: middle;\n",
       "    }\n",
       "\n",
       "    .dataframe tbody tr th {\n",
       "        vertical-align: top;\n",
       "    }\n",
       "\n",
       "    .dataframe thead th {\n",
       "        text-align: right;\n",
       "    }\n",
       "</style>\n",
       "<table border=\"1\" class=\"dataframe\">\n",
       "  <thead>\n",
       "    <tr style=\"text-align: right;\">\n",
       "      <th></th>\n",
       "      <th>SibSp</th>\n",
       "      <th>Parch</th>\n",
       "      <th>Age</th>\n",
       "      <th>Fare</th>\n",
       "    </tr>\n",
       "  </thead>\n",
       "  <tbody>\n",
       "    <tr>\n",
       "      <th>count</th>\n",
       "      <td>891.000000</td>\n",
       "      <td>891.000000</td>\n",
       "      <td>714.000000</td>\n",
       "      <td>891.000000</td>\n",
       "    </tr>\n",
       "    <tr>\n",
       "      <th>mean</th>\n",
       "      <td>0.523008</td>\n",
       "      <td>0.381594</td>\n",
       "      <td>29.699118</td>\n",
       "      <td>32.204208</td>\n",
       "    </tr>\n",
       "    <tr>\n",
       "      <th>std</th>\n",
       "      <td>1.102743</td>\n",
       "      <td>0.806057</td>\n",
       "      <td>14.526497</td>\n",
       "      <td>49.693429</td>\n",
       "    </tr>\n",
       "    <tr>\n",
       "      <th>min</th>\n",
       "      <td>0.000000</td>\n",
       "      <td>0.000000</td>\n",
       "      <td>0.420000</td>\n",
       "      <td>0.000000</td>\n",
       "    </tr>\n",
       "    <tr>\n",
       "      <th>25%</th>\n",
       "      <td>0.000000</td>\n",
       "      <td>0.000000</td>\n",
       "      <td>20.125000</td>\n",
       "      <td>7.910400</td>\n",
       "    </tr>\n",
       "    <tr>\n",
       "      <th>50%</th>\n",
       "      <td>0.000000</td>\n",
       "      <td>0.000000</td>\n",
       "      <td>28.000000</td>\n",
       "      <td>14.454200</td>\n",
       "    </tr>\n",
       "    <tr>\n",
       "      <th>75%</th>\n",
       "      <td>1.000000</td>\n",
       "      <td>0.000000</td>\n",
       "      <td>38.000000</td>\n",
       "      <td>31.000000</td>\n",
       "    </tr>\n",
       "    <tr>\n",
       "      <th>max</th>\n",
       "      <td>8.000000</td>\n",
       "      <td>6.000000</td>\n",
       "      <td>80.000000</td>\n",
       "      <td>512.329200</td>\n",
       "    </tr>\n",
       "  </tbody>\n",
       "</table>\n",
       "</div>"
      ],
      "text/plain": [
       "            SibSp       Parch         Age        Fare\n",
       "count  891.000000  891.000000  714.000000  891.000000\n",
       "mean     0.523008    0.381594   29.699118   32.204208\n",
       "std      1.102743    0.806057   14.526497   49.693429\n",
       "min      0.000000    0.000000    0.420000    0.000000\n",
       "25%      0.000000    0.000000   20.125000    7.910400\n",
       "50%      0.000000    0.000000   28.000000   14.454200\n",
       "75%      1.000000    0.000000   38.000000   31.000000\n",
       "max      8.000000    6.000000   80.000000  512.329200"
      ]
     },
     "execution_count": 9,
     "metadata": {},
     "output_type": "execute_result"
    }
   ],
   "source": [
    "df_train[num_var].describe()"
   ]
  },
  {
   "cell_type": "code",
   "execution_count": 10,
   "id": "90b5da48",
   "metadata": {
    "execution": {
     "iopub.execute_input": "2022-07-04T01:37:41.430246Z",
     "iopub.status.busy": "2022-07-04T01:37:41.429030Z",
     "iopub.status.idle": "2022-07-04T01:37:43.480999Z",
     "shell.execute_reply": "2022-07-04T01:37:43.479747Z"
    },
    "papermill": {
     "duration": 2.078356,
     "end_time": "2022-07-04T01:37:43.483609",
     "exception": false,
     "start_time": "2022-07-04T01:37:41.405253",
     "status": "completed"
    },
    "tags": []
   },
   "outputs": [
    {
     "data": {
      "image/png": "[encoded data removed]",
      "text/plain": [
       "<Figure size 864x288 with 2 Axes>"
      ]
     },
     "metadata": {},
     "output_type": "display_data"
    },
    {
     "data": {
      "image/png": "[encoded data removed]",
      "text/plain": [
       "<Figure size 864x288 with 2 Axes>"
      ]
     },
     "metadata": {},
     "output_type": "display_data"
    },
    {
     "data": {
      "image/png": "[encoded data removed]",
      "text/plain": [
       "<Figure size 864x288 with 2 Axes>"
      ]
     },
     "metadata": {},
     "output_type": "display_data"
    },
    {
     "data": {
      "image/png": "[encoded data removed]",
      "text/plain": [
       "<Figure size 864x288 with 2 Axes>"
      ]
     },
     "metadata": {},
     "output_type": "display_data"
    }
   ],
   "source": [
    "for var in num_var:\n",
    "    num_dist(df_train, var)"
   ]
  },
  {
   "cell_type": "markdown",
   "id": "24e4382f",
   "metadata": {
    "papermill": {
     "duration": 0.02392,
     "end_time": "2022-07-04T01:37:43.531760",
     "exception": false,
     "start_time": "2022-07-04T01:37:43.507840",
     "status": "completed"
    },
    "tags": []
   },
   "source": [
    "Большинство пассажиров в то время путешествовали в одиночку без своих семей. Возраст пассажиров также варьируется от 0,42 до 80 лет, в среднем 29,7 года. Тарифы для этих пассажиров также различаются, но что интересно, есть пассажиры, которым не нужно платить за этот круиз.\n",
    "\n",
    "Как мы видим, все вышеперечисленные переменные имеют выбросы. Переменная возраста, по-видимому, имеет почти нормальное распределение, но есть некоторые выбросы, из-за которых распределение смещается вправо. Из-за этого другие переменные, по-видимому, имеют правое асимметричное распределение."
   ]
  },
  {
   "cell_type": "markdown",
   "id": "afa5b8a2",
   "metadata": {
    "papermill": {
     "duration": 0.023413,
     "end_time": "2022-07-04T01:37:43.579140",
     "exception": false,
     "start_time": "2022-07-04T01:37:43.555727",
     "status": "completed"
    },
    "tags": []
   },
   "source": [
    "### Категорийные"
   ]
  },
  {
   "cell_type": "code",
   "execution_count": 11,
   "id": "8709032b",
   "metadata": {
    "execution": {
     "iopub.execute_input": "2022-07-04T01:37:43.628619Z",
     "iopub.status.busy": "2022-07-04T01:37:43.628206Z",
     "iopub.status.idle": "2022-07-04T01:37:44.459606Z",
     "shell.execute_reply": "2022-07-04T01:37:44.458314Z"
    },
    "papermill": {
     "duration": 0.85924,
     "end_time": "2022-07-04T01:37:44.462184",
     "exception": false,
     "start_time": "2022-07-04T01:37:43.602944",
     "status": "completed"
    },
    "tags": []
   },
   "outputs": [
    {
     "data": {
      "image/png": "[encoded data removed]",
      "text/plain": [
       "<Figure size 864x288 with 2 Axes>"
      ]
     },
     "metadata": {},
     "output_type": "display_data"
    },
    {
     "data": {
      "image/png": "[encoded data removed]",
      "text/plain": [
       "<Figure size 864x288 with 2 Axes>"
      ]
     },
     "metadata": {},
     "output_type": "display_data"
    },
    {
     "data": {
      "image/png": "[encoded data removed]",
      "text/plain": [
       "<Figure size 864x288 with 2 Axes>"
      ]
     },
     "metadata": {},
     "output_type": "display_data"
    }
   ],
   "source": [
    "for var in cat_var:\n",
    "    cat_dist(df_train, var)"
   ]
  },
  {
   "cell_type": "markdown",
   "id": "332befed",
   "metadata": {
    "papermill": {
     "duration": 0.024933,
     "end_time": "2022-07-04T01:37:44.514308",
     "exception": false,
     "start_time": "2022-07-04T01:37:44.489375",
     "status": "completed"
    },
    "tags": []
   },
   "source": [
    "64,8% пассажиров в этой обучающей выборке — мужчины, а остальные 35,2% — женщины. Более 70% этих пассажиров высадились из порта S (Саутгемптон). Очень мало пассажиров высадились из порта Q (Квинстаун), что составляет всего 8,7%, а остальные отправились из порта C (Шербур). Большинство пассажиров имеют билеты 3-го класса, а пассажиров 1-го и 2-го класса почти поровну."
   ]
  },
  {
   "cell_type": "markdown",
   "id": "da01bba9",
   "metadata": {
    "papermill": {
     "duration": 0.024866,
     "end_time": "2022-07-04T01:37:44.564351",
     "exception": false,
     "start_time": "2022-07-04T01:37:44.539485",
     "status": "completed"
    },
    "tags": []
   },
   "source": [
    "## Выжившие против погибших"
   ]
  },
  {
   "cell_type": "code",
   "execution_count": 12,
   "id": "813dcac8",
   "metadata": {
    "execution": {
     "iopub.execute_input": "2022-07-04T01:37:44.615788Z",
     "iopub.status.busy": "2022-07-04T01:37:44.615382Z",
     "iopub.status.idle": "2022-07-04T01:37:47.203278Z",
     "shell.execute_reply": "2022-07-04T01:37:47.201995Z"
    },
    "papermill": {
     "duration": 2.61633,
     "end_time": "2022-07-04T01:37:47.205691",
     "exception": false,
     "start_time": "2022-07-04T01:37:44.589361",
     "status": "completed"
    },
    "tags": []
   },
   "outputs": [
    {
     "data": {
      "image/png": "[encoded data removed]",
      "text/plain": [
       "<Figure size 1440x576 with 8 Axes>"
      ]
     },
     "metadata": {},
     "output_type": "display_data"
    }
   ],
   "source": [
    "fig, ax = plt.subplots(2, 4, figsize=(20, 8))\n",
    "ax = ax.flatten()\n",
    "\n",
    "for i, var in enumerate(num_var+cat_var):\n",
    "    if i < 4:\n",
    "        sns.histplot(data=df_train, x=var, hue=target, kde=True, ax=ax[i])\n",
    "    else:\n",
    "        sns.countplot(data=df_train, x=var, hue=target, ax=ax[i])\n",
    "    \n",
    "    ax[i].set_title(f\"{var}: Survived vs Not Survived\")\n",
    "    \n",
    "plt.subplots_adjust(hspace=0.5)\n",
    "plt.show()"
   ]
  },
  {
   "cell_type": "markdown",
   "id": "9afde651",
   "metadata": {
    "papermill": {
     "duration": 0.026539,
     "end_time": "2022-07-04T01:37:47.259005",
     "exception": false,
     "start_time": "2022-07-04T01:37:47.232466",
     "status": "completed"
    },
    "tags": []
   },
   "source": [
    "Судя по всему, у пассажиров, путешествующих с небольшим количеством членов семьи, больше шансов на выживание. Кроме того, в этой трагедии выжило большое количество детей (возраст <= 10 лет), а пассажиры старше их, как правило, не выживают. Мы также можем видеть, что количество выживших женщин было намного больше, чем мужчин (первый код женщин и детей). Пассажирам, высадившимся из порта C, повезло больше, поскольку многие из них выжили. P-класс также играет здесь значительную роль, потому что большинству пассажиров из P-класса 1 удалось выжить или иметь больший приоритет для спасения, в то время как пассажиры с P-классом 3, как правило, не выживают."
   ]
  },
  {
   "cell_type": "code",
   "execution_count": 13,
   "id": "cc6a993e",
   "metadata": {
    "execution": {
     "iopub.execute_input": "2022-07-04T01:37:47.314462Z",
     "iopub.status.busy": "2022-07-04T01:37:47.314034Z",
     "iopub.status.idle": "2022-07-04T01:37:47.503793Z",
     "shell.execute_reply": "2022-07-04T01:37:47.502487Z"
    },
    "papermill": {
     "duration": 0.220701,
     "end_time": "2022-07-04T01:37:47.506458",
     "exception": false,
     "start_time": "2022-07-04T01:37:47.285757",
     "status": "completed"
    },
    "tags": []
   },
   "outputs": [
    {
     "data": {
      "image/png": "[encoded data removed]",
      "text/plain": [
       "<Figure size 432x288 with 1 Axes>"
      ]
     },
     "metadata": {},
     "output_type": "display_data"
    }
   ],
   "source": [
    "sns.violinplot(data=df_train, x=\"Sex\", y=\"Age\", hue=\"Survived\", split=True)\n",
    "plt.show()"
   ]
  },
  {
   "cell_type": "markdown",
   "id": "30bb203d",
   "metadata": {
    "papermill": {
     "duration": 0.027559,
     "end_time": "2022-07-04T01:37:47.562068",
     "exception": false,
     "start_time": "2022-07-04T01:37:47.534509",
     "status": "completed"
    },
    "tags": []
   },
   "source": [
    "Показатели выживаемости детей обоих полов кажутся хорошими, хотя коэффициент выживаемости мальчиков выше. Для пожилых людей (возраст > 60 лет) коэффициент выживаемости пожилых мужчин, как правило, ниже, в отличие от коэффициента выживаемости пожилых женщин, который, как правило, выше."
   ]
  },
  {
   "cell_type": "code",
   "execution_count": 14,
   "id": "5bf24bfd",
   "metadata": {
    "execution": {
     "iopub.execute_input": "2022-07-04T01:37:47.618325Z",
     "iopub.status.busy": "2022-07-04T01:37:47.617619Z",
     "iopub.status.idle": "2022-07-04T01:37:47.980473Z",
     "shell.execute_reply": "2022-07-04T01:37:47.979171Z"
    },
    "papermill": {
     "duration": 0.394113,
     "end_time": "2022-07-04T01:37:47.983135",
     "exception": false,
     "start_time": "2022-07-04T01:37:47.589022",
     "status": "completed"
    },
    "tags": []
   },
   "outputs": [
    {
     "data": {
      "image/png": "[encoded data removed]",
      "text/plain": [
       "<Figure size 864x288 with 2 Axes>"
      ]
     },
     "metadata": {},
     "output_type": "display_data"
    }
   ],
   "source": [
    "fig, ax = plt.subplots(1, 2, figsize=(12, 4))\n",
    "\n",
    "for i, var in enumerate([\"SibSp\", \"Parch\"]):\n",
    "    surv = sns.barplot(data=df_train, x=var, y=target, ax=ax[i], ci=None)\n",
    "    for bar in surv.patches:\n",
    "        surv.annotate(format(\"{:.3f}\".format(bar.get_height())),\n",
    "            (bar.get_x() + bar.get_width() / 2,\n",
    "            bar.get_height()), ha='center', va='center',\n",
    "            size=11, xytext=(0, 8),\n",
    "            textcoords='offset points')\n",
    "        \n",
    "    ax[i].set_title(f\"{var} Survival Rate\")"
   ]
  },
  {
   "cell_type": "markdown",
   "id": "95a8fdbd",
   "metadata": {
    "papermill": {
     "duration": 0.026882,
     "end_time": "2022-07-04T01:37:48.037333",
     "exception": false,
     "start_time": "2022-07-04T01:37:48.010451",
     "status": "completed"
    },
    "tags": []
   },
   "source": [
    "График выше показывает, что пассажиры с небольшим количеством членов семьи, как правило, выживают. Между тем, выжили только ~34% одиноких пассажиров (SibSpb и Parch = 0). К сожалению, выжило 0% пассажиров с SibSp > 4, а пассажиров с Parch > 3 почти не осталось."
   ]
  },
  {
   "cell_type": "code",
   "execution_count": 15,
   "id": "e9fe8b61",
   "metadata": {
    "execution": {
     "iopub.execute_input": "2022-07-04T01:37:48.094946Z",
     "iopub.status.busy": "2022-07-04T01:37:48.093713Z",
     "iopub.status.idle": "2022-07-04T01:37:49.122791Z",
     "shell.execute_reply": "2022-07-04T01:37:49.121643Z"
    },
    "papermill": {
     "duration": 1.060734,
     "end_time": "2022-07-04T01:37:49.125400",
     "exception": false,
     "start_time": "2022-07-04T01:37:48.064666",
     "status": "completed"
    },
    "tags": []
   },
   "outputs": [
    {
     "data": {
      "image/png": "[encoded data removed]",
      "text/plain": [
       "<Figure size 1440x432 with 3 Axes>"
      ]
     },
     "metadata": {},
     "output_type": "display_data"
    }
   ],
   "source": [
    "fig, ax = plt.subplots(1, 3, figsize=(20, 6))\n",
    "\n",
    "for i, pc in enumerate(sorted(df_train[\"Pclass\"].unique())):\n",
    "    sns.histplot(data=df_train[df_train[\"Pclass\"]==pc], x=\"Fare\", hue=target, kde=True, ax=ax[i])\n",
    "    ax[i].set_title(f\"Fare in Pclass {pc} Survival Rate\")"
   ]
  },
  {
   "cell_type": "markdown",
   "id": "aa887592",
   "metadata": {
    "papermill": {
     "duration": 0.028272,
     "end_time": "2022-07-04T01:37:49.182333",
     "exception": false,
     "start_time": "2022-07-04T01:37:49.154061",
     "status": "completed"
    },
    "tags": []
   },
   "source": [
    "Пассажиры с более высокими тарифами с большей вероятностью выживут в этих авариях, хотя некоторые из пассажиров с самыми высокими тарифами на P-класс 2 не выжили. Несмотря на то, что большинство пассажиров, которые не выжили, были пассажирами P-класса 3, но P-классы 1 и 2 также не гарантировали безопасность пассажиров, особенно для пассажиров с меньшими тарифами."
   ]
  },
  {
   "cell_type": "markdown",
   "id": "53dd471b",
   "metadata": {
    "papermill": {
     "duration": 0.02783,
     "end_time": "2022-07-04T01:37:49.238685",
     "exception": false,
     "start_time": "2022-07-04T01:37:49.210855",
     "status": "completed"
    },
    "tags": []
   },
   "source": [
    "# 3. Feature Engineering"
   ]
  },
  {
   "cell_type": "markdown",
   "id": "ad9f9f72",
   "metadata": {
    "papermill": {
     "duration": 0.027897,
     "end_time": "2022-07-04T01:37:49.294846",
     "exception": false,
     "start_time": "2022-07-04T01:37:49.266949",
     "status": "completed"
    },
    "tags": []
   },
   "source": [
    "## PassengerId"
   ]
  },
  {
   "cell_type": "code",
   "execution_count": 16,
   "id": "bfbefedb",
   "metadata": {
    "execution": {
     "iopub.execute_input": "2022-07-04T01:37:49.352821Z",
     "iopub.status.busy": "2022-07-04T01:37:49.352371Z",
     "iopub.status.idle": "2022-07-04T01:37:49.361143Z",
     "shell.execute_reply": "2022-07-04T01:37:49.360287Z"
    },
    "papermill": {
     "duration": 0.040586,
     "end_time": "2022-07-04T01:37:49.363434",
     "exception": false,
     "start_time": "2022-07-04T01:37:49.322848",
     "status": "completed"
    },
    "tags": []
   },
   "outputs": [
    {
     "data": {
      "text/plain": [
       "0        1\n",
       "1        2\n",
       "2        3\n",
       "3        4\n",
       "4        5\n",
       "      ... \n",
       "886    887\n",
       "887    888\n",
       "888    889\n",
       "889    890\n",
       "890    891\n",
       "Name: PassengerId, Length: 891, dtype: int64"
      ]
     },
     "execution_count": 16,
     "metadata": {},
     "output_type": "execute_result"
    }
   ],
   "source": [
    "df_train[\"PassengerId\"]"
   ]
  },
  {
   "cell_type": "markdown",
   "id": "42c26c84",
   "metadata": {
    "papermill": {
     "duration": 0.028021,
     "end_time": "2022-07-04T01:37:49.419741",
     "exception": false,
     "start_time": "2022-07-04T01:37:49.391720",
     "status": "completed"
    },
    "tags": []
   },
   "source": [
    "Эта переменная содержит только уникальный идентификационный номер каждого пассажира и не может быть классифицирована, поэтому мы можем просто удалить эту переменную."
   ]
  },
  {
   "cell_type": "code",
   "execution_count": 17,
   "id": "a682db9b",
   "metadata": {
    "execution": {
     "iopub.execute_input": "2022-07-04T01:37:49.478544Z",
     "iopub.status.busy": "2022-07-04T01:37:49.477495Z",
     "iopub.status.idle": "2022-07-04T01:37:49.485283Z",
     "shell.execute_reply": "2022-07-04T01:37:49.483751Z"
    },
    "papermill": {
     "duration": 0.039773,
     "end_time": "2022-07-04T01:37:49.487708",
     "exception": false,
     "start_time": "2022-07-04T01:37:49.447935",
     "status": "completed"
    },
    "tags": []
   },
   "outputs": [],
   "source": [
    "df_train.drop(\"PassengerId\", axis=1, inplace=True)\n",
    "df_test.drop(\"PassengerId\", axis=1, inplace=True)"
   ]
  },
  {
   "cell_type": "markdown",
   "id": "442f059e",
   "metadata": {
    "papermill": {
     "duration": 0.027908,
     "end_time": "2022-07-04T01:37:49.544024",
     "exception": false,
     "start_time": "2022-07-04T01:37:49.516116",
     "status": "completed"
    },
    "tags": []
   },
   "source": [
    "## Name"
   ]
  },
  {
   "cell_type": "code",
   "execution_count": 18,
   "id": "d31f9408",
   "metadata": {
    "execution": {
     "iopub.execute_input": "2022-07-04T01:37:49.602672Z",
     "iopub.status.busy": "2022-07-04T01:37:49.601890Z",
     "iopub.status.idle": "2022-07-04T01:37:49.610523Z",
     "shell.execute_reply": "2022-07-04T01:37:49.609411Z"
    },
    "papermill": {
     "duration": 0.040625,
     "end_time": "2022-07-04T01:37:49.612753",
     "exception": false,
     "start_time": "2022-07-04T01:37:49.572128",
     "status": "completed"
    },
    "tags": []
   },
   "outputs": [
    {
     "data": {
      "text/plain": [
       "0                                Braund, Mr. Owen Harris\n",
       "1      Cumings, Mrs. John Bradley (Florence Briggs Th...\n",
       "2                                 Heikkinen, Miss. Laina\n",
       "3           Futrelle, Mrs. Jacques Heath (Lily May Peel)\n",
       "4                               Allen, Mr. William Henry\n",
       "                             ...                        \n",
       "886                                Montvila, Rev. Juozas\n",
       "887                         Graham, Miss. Margaret Edith\n",
       "888             Johnston, Miss. Catherine Helen \"Carrie\"\n",
       "889                                Behr, Mr. Karl Howell\n",
       "890                                  Dooley, Mr. Patrick\n",
       "Name: Name, Length: 891, dtype: object"
      ]
     },
     "execution_count": 18,
     "metadata": {},
     "output_type": "execute_result"
    }
   ],
   "source": [
    "df_train[\"Name\"]"
   ]
  },
  {
   "cell_type": "markdown",
   "id": "ed102bdb",
   "metadata": {
    "papermill": {
     "duration": 0.028221,
     "end_time": "2022-07-04T01:37:49.669281",
     "exception": false,
     "start_time": "2022-07-04T01:37:49.641060",
     "status": "completed"
    },
    "tags": []
   },
   "source": [
    "Как мы видим, в именах пассажиров есть закономерность, которую мы можем извлечь, а именно их титулы (мистер, миссис, мисс и т. д.). Давайте извлечем строковое значение, за которым следует точка (.)."
   ]
  },
  {
   "cell_type": "code",
   "execution_count": 19,
   "id": "14e567bf",
   "metadata": {
    "execution": {
     "iopub.execute_input": "2022-07-04T01:37:49.728612Z",
     "iopub.status.busy": "2022-07-04T01:37:49.727451Z",
     "iopub.status.idle": "2022-07-04T01:37:49.746095Z",
     "shell.execute_reply": "2022-07-04T01:37:49.744686Z"
    },
    "papermill": {
     "duration": 0.050735,
     "end_time": "2022-07-04T01:37:49.748380",
     "exception": false,
     "start_time": "2022-07-04T01:37:49.697645",
     "status": "completed"
    },
    "tags": []
   },
   "outputs": [
    {
     "data": {
      "text/plain": [
       "Mr          517\n",
       "Miss        182\n",
       "Mrs         125\n",
       "Master       40\n",
       "Dr            7\n",
       "Rev           6\n",
       "Mlle          2\n",
       "Major         2\n",
       "Col           2\n",
       "Countess      1\n",
       "Capt          1\n",
       "Ms            1\n",
       "Sir           1\n",
       "Lady          1\n",
       "Mme           1\n",
       "Don           1\n",
       "Jonkheer      1\n",
       "Name: Title, dtype: int64"
      ]
     },
     "execution_count": 19,
     "metadata": {},
     "output_type": "execute_result"
    }
   ],
   "source": [
    "df_train[\"Title\"] = df_train[\"Name\"].str.extract('([A-Za-z]+)\\.')\n",
    "df_test[\"Title\"] = df_test[\"Name\"].str.extract('([A-Za-z]+)\\.')\n",
    "\n",
    "df_train[\"Title\"].value_counts()"
   ]
  },
  {
   "cell_type": "markdown",
   "id": "b03fae31",
   "metadata": {
    "papermill": {
     "duration": 0.028709,
     "end_time": "2022-07-04T01:37:49.805793",
     "exception": false,
     "start_time": "2022-07-04T01:37:49.777084",
     "status": "completed"
    },
    "tags": []
   },
   "source": [
    "Некоторые инициалы принадлежат очень небольшому количеству людей, а некоторые инициалы имеют то же значение, что и другие. Мы сгруппируем их в соответствии с соответствующей группой."
   ]
  },
  {
   "cell_type": "code",
   "execution_count": 20,
   "id": "87ffbee5",
   "metadata": {
    "execution": {
     "iopub.execute_input": "2022-07-04T01:37:49.865533Z",
     "iopub.status.busy": "2022-07-04T01:37:49.865115Z",
     "iopub.status.idle": "2022-07-04T01:37:49.878852Z",
     "shell.execute_reply": "2022-07-04T01:37:49.877790Z"
    },
    "papermill": {
     "duration": 0.04671,
     "end_time": "2022-07-04T01:37:49.881320",
     "exception": false,
     "start_time": "2022-07-04T01:37:49.834610",
     "status": "completed"
    },
    "tags": []
   },
   "outputs": [
    {
     "data": {
      "text/plain": [
       "Mr        517\n",
       "Miss      183\n",
       "Mrs       126\n",
       "Master     40\n",
       "Other      25\n",
       "Name: Title, dtype: int64"
      ]
     },
     "execution_count": 20,
     "metadata": {},
     "output_type": "execute_result"
    }
   ],
   "source": [
    "def convert_title(title):\n",
    "    if title in [\"Ms\", \"Mile\", \"Miss\"]:\n",
    "        return \"Miss\"\n",
    "    elif title in [\"Mme\", \"Mrs\"]:\n",
    "        return \"Mrs\"\n",
    "    elif title == \"Mr\":\n",
    "        return \"Mr\"\n",
    "    elif title == \"Master\":\n",
    "        return \"Master\"\n",
    "    else:\n",
    "        return \"Other\"\n",
    "        \n",
    "df_train[\"Title\"] = df_train[\"Title\"].map(convert_title)\n",
    "df_test[\"Title\"] = df_test[\"Title\"].map(convert_title)\n",
    "\n",
    "df_train[\"Title\"].value_counts()"
   ]
  },
  {
   "cell_type": "markdown",
   "id": "af843334",
   "metadata": {
    "papermill": {
     "duration": 0.028923,
     "end_time": "2022-07-04T01:37:49.939201",
     "exception": false,
     "start_time": "2022-07-04T01:37:49.910278",
     "status": "completed"
    },
    "tags": []
   },
   "source": [
    "У нас есть инициалы каждого пассажира, так что теперь имя переменной больше не нужно. Теперь мы можем удалить эту переменную."
   ]
  },
  {
   "cell_type": "code",
   "execution_count": 21,
   "id": "6277ea78",
   "metadata": {
    "execution": {
     "iopub.execute_input": "2022-07-04T01:37:49.999800Z",
     "iopub.status.busy": "2022-07-04T01:37:49.999089Z",
     "iopub.status.idle": "2022-07-04T01:37:50.007848Z",
     "shell.execute_reply": "2022-07-04T01:37:50.006700Z"
    },
    "papermill": {
     "duration": 0.041549,
     "end_time": "2022-07-04T01:37:50.010042",
     "exception": false,
     "start_time": "2022-07-04T01:37:49.968493",
     "status": "completed"
    },
    "tags": []
   },
   "outputs": [],
   "source": [
    "df_train.drop(\"Name\", axis=1, inplace=True)\n",
    "df_test.drop(\"Name\", axis=1, inplace=True)"
   ]
  },
  {
   "cell_type": "markdown",
   "id": "23982e3c",
   "metadata": {
    "papermill": {
     "duration": 0.028704,
     "end_time": "2022-07-04T01:37:50.067557",
     "exception": false,
     "start_time": "2022-07-04T01:37:50.038853",
     "status": "completed"
    },
    "tags": []
   },
   "source": [
    "## Ticket"
   ]
  },
  {
   "cell_type": "code",
   "execution_count": 22,
   "id": "a6bc4181",
   "metadata": {
    "execution": {
     "iopub.execute_input": "2022-07-04T01:37:50.127407Z",
     "iopub.status.busy": "2022-07-04T01:37:50.127002Z",
     "iopub.status.idle": "2022-07-04T01:37:50.135926Z",
     "shell.execute_reply": "2022-07-04T01:37:50.135084Z"
    },
    "papermill": {
     "duration": 0.041415,
     "end_time": "2022-07-04T01:37:50.138021",
     "exception": false,
     "start_time": "2022-07-04T01:37:50.096606",
     "status": "completed"
    },
    "tags": []
   },
   "outputs": [
    {
     "data": {
      "text/plain": [
       "0             A/5 21171\n",
       "1              PC 17599\n",
       "2      STON/O2. 3101282\n",
       "3                113803\n",
       "4                373450\n",
       "             ...       \n",
       "886              211536\n",
       "887              112053\n",
       "888          W./C. 6607\n",
       "889              111369\n",
       "890              370376\n",
       "Name: Ticket, Length: 891, dtype: object"
      ]
     },
     "execution_count": 22,
     "metadata": {},
     "output_type": "execute_result"
    }
   ],
   "source": [
    "df_train[\"Ticket\"]"
   ]
  },
  {
   "cell_type": "markdown",
   "id": "de2d9192",
   "metadata": {
    "papermill": {
     "duration": 0.028897,
     "end_time": "2022-07-04T01:37:50.195860",
     "exception": false,
     "start_time": "2022-07-04T01:37:50.166963",
     "status": "completed"
    },
    "tags": []
   },
   "source": [
    "Эта переменная также содержит только уникальное значение билета для каждого пассажира, и мы не можем извлечь шаблон. Итак, мы просто удалим эту переменную."
   ]
  },
  {
   "cell_type": "code",
   "execution_count": 23,
   "id": "64974fb0",
   "metadata": {
    "execution": {
     "iopub.execute_input": "2022-07-04T01:37:50.255856Z",
     "iopub.status.busy": "2022-07-04T01:37:50.255168Z",
     "iopub.status.idle": "2022-07-04T01:37:50.262707Z",
     "shell.execute_reply": "2022-07-04T01:37:50.261609Z"
    },
    "papermill": {
     "duration": 0.039909,
     "end_time": "2022-07-04T01:37:50.264784",
     "exception": false,
     "start_time": "2022-07-04T01:37:50.224875",
     "status": "completed"
    },
    "tags": []
   },
   "outputs": [],
   "source": [
    "df_train.drop(\"Ticket\", axis=1, inplace=True)\n",
    "df_test.drop(\"Ticket\", axis=1, inplace=True)"
   ]
  },
  {
   "cell_type": "markdown",
   "id": "02e8bf23",
   "metadata": {
    "papermill": {
     "duration": 0.028749,
     "end_time": "2022-07-04T01:37:50.322455",
     "exception": false,
     "start_time": "2022-07-04T01:37:50.293706",
     "status": "completed"
    },
    "tags": []
   },
   "source": [
    "## Cabin"
   ]
  },
  {
   "cell_type": "markdown",
   "id": "5398524e",
   "metadata": {
    "papermill": {
     "duration": 0.028799,
     "end_time": "2022-07-04T01:37:50.380306",
     "exception": false,
     "start_time": "2022-07-04T01:37:50.351507",
     "status": "completed"
    },
    "tags": []
   },
   "source": [
    "Эта переменная имеет слишком много пропущенных значений как в обучающих, так и в тестовых данных (более 77%), поэтому в этой переменной отсутствует много информации. Мы также удалим эту переменную."
   ]
  },
  {
   "cell_type": "code",
   "execution_count": 24,
   "id": "5e8c5fef",
   "metadata": {
    "execution": {
     "iopub.execute_input": "2022-07-04T01:37:50.440490Z",
     "iopub.status.busy": "2022-07-04T01:37:50.440083Z",
     "iopub.status.idle": "2022-07-04T01:37:50.447619Z",
     "shell.execute_reply": "2022-07-04T01:37:50.446473Z"
    },
    "papermill": {
     "duration": 0.040601,
     "end_time": "2022-07-04T01:37:50.449873",
     "exception": false,
     "start_time": "2022-07-04T01:37:50.409272",
     "status": "completed"
    },
    "tags": []
   },
   "outputs": [],
   "source": [
    "df_train.drop(\"Cabin\", axis=1, inplace=True)\n",
    "df_test.drop(\"Cabin\", axis=1, inplace=True)"
   ]
  },
  {
   "cell_type": "markdown",
   "id": "1e602e70",
   "metadata": {
    "papermill": {
     "duration": 0.029828,
     "end_time": "2022-07-04T01:37:50.508758",
     "exception": false,
     "start_time": "2022-07-04T01:37:50.478930",
     "status": "completed"
    },
    "tags": []
   },
   "source": [
    "## Age"
   ]
  },
  {
   "cell_type": "markdown",
   "id": "f9be8c42",
   "metadata": {
    "papermill": {
     "duration": 0.028493,
     "end_time": "2022-07-04T01:37:50.565992",
     "exception": false,
     "start_time": "2022-07-04T01:37:50.537499",
     "status": "completed"
    },
    "tags": []
   },
   "source": [
    "Переменная возраста имеет отсутствующее значение 19,87% в обучающих данных и 20,57% в тестовых данных. Это число не очень большое, поэтому мы попытаемся выполнить импутацию данных для этой переменной. Итак, как мы собираемся это сделать?\n",
    "\n",
    "Обычно мы можем просто заполнить пропущенные значения, используя средние или медианные значения. Но проблема в том, что этот набор данных содержит много пассажиров разного возраста. Мы просто не можем назначить 4-летнему ребенку или 60-летнему мужчине средний возраст 29 лет. Во-первых, давайте проверим корреляцию между возрастной переменной с другими переменными."
   ]
  },
  {
   "cell_type": "code",
   "execution_count": 25,
   "id": "f6d97b7b",
   "metadata": {
    "execution": {
     "iopub.execute_input": "2022-07-04T01:37:50.625475Z",
     "iopub.status.busy": "2022-07-04T01:37:50.625074Z",
     "iopub.status.idle": "2022-07-04T01:37:50.634241Z",
     "shell.execute_reply": "2022-07-04T01:37:50.633300Z"
    },
    "papermill": {
     "duration": 0.04153,
     "end_time": "2022-07-04T01:37:50.636164",
     "exception": false,
     "start_time": "2022-07-04T01:37:50.594634",
     "status": "completed"
    },
    "tags": []
   },
   "outputs": [
    {
     "data": {
      "text/plain": [
       "Age         1.000000\n",
       "Fare        0.096067\n",
       "Survived   -0.077221\n",
       "Parch      -0.189119\n",
       "SibSp      -0.308247\n",
       "Pclass     -0.369226\n",
       "Name: Age, dtype: float64"
      ]
     },
     "execution_count": 25,
     "metadata": {},
     "output_type": "execute_result"
    }
   ],
   "source": [
    "df_train.corr()[\"Age\"].sort_values(ascending=False)"
   ]
  },
  {
   "cell_type": "markdown",
   "id": "d088e308",
   "metadata": {
    "papermill": {
     "duration": 0.028754,
     "end_time": "2022-07-04T01:37:50.693748",
     "exception": false,
     "start_time": "2022-07-04T01:37:50.664994",
     "status": "completed"
    },
    "tags": []
   },
   "source": [
    "Их корреляция выглядит не очень хорошо. Теперь давайте попробуем проверить категориальную переменную, которая может классифицировать возраст пассажиров, то есть переменную Title."
   ]
  },
  {
   "cell_type": "code",
   "execution_count": 26,
   "id": "1ab46937",
   "metadata": {
    "execution": {
     "iopub.execute_input": "2022-07-04T01:37:50.753614Z",
     "iopub.status.busy": "2022-07-04T01:37:50.752846Z",
     "iopub.status.idle": "2022-07-04T01:37:50.969895Z",
     "shell.execute_reply": "2022-07-04T01:37:50.968798Z"
    },
    "papermill": {
     "duration": 0.249956,
     "end_time": "2022-07-04T01:37:50.972474",
     "exception": false,
     "start_time": "2022-07-04T01:37:50.722518",
     "status": "completed"
    },
    "tags": []
   },
   "outputs": [
    {
     "data": {
      "image/png": "[encoded data removed]",
      "text/plain": [
       "<Figure size 432x288 with 1 Axes>"
      ]
     },
     "metadata": {},
     "output_type": "display_data"
    }
   ],
   "source": [
    "sns.violinplot(data=df_train, x=\"Title\", y=\"Age\")\n",
    "plt.show()"
   ]
  },
  {
   "cell_type": "markdown",
   "id": "44ff8ea8",
   "metadata": {
    "papermill": {
     "duration": 0.030619,
     "end_time": "2022-07-04T01:37:51.033095",
     "exception": false,
     "start_time": "2022-07-04T01:37:51.002476",
     "status": "completed"
    },
    "tags": []
   },
   "source": [
    "Это выглядит довольно хорошо. Мы можем использовать переменную Title для классификации возраста пассажиров. Давайте проверим средний возраст пассажира на основе его именования."
   ]
  },
  {
   "cell_type": "code",
   "execution_count": 27,
   "id": "bc1a5cac",
   "metadata": {
    "execution": {
     "iopub.execute_input": "2022-07-04T01:37:51.096011Z",
     "iopub.status.busy": "2022-07-04T01:37:51.095119Z",
     "iopub.status.idle": "2022-07-04T01:37:51.106928Z",
     "shell.execute_reply": "2022-07-04T01:37:51.105811Z"
    },
    "papermill": {
     "duration": 0.045229,
     "end_time": "2022-07-04T01:37:51.109066",
     "exception": false,
     "start_time": "2022-07-04T01:37:51.063837",
     "status": "completed"
    },
    "tags": []
   },
   "outputs": [
    {
     "data": {
      "text/plain": [
       "Title\n",
       "Master     4.574167\n",
       "Miss      21.816327\n",
       "Mr        32.368090\n",
       "Mrs       35.788991\n",
       "Other     43.750000\n",
       "Name: Age, dtype: float64"
      ]
     },
     "execution_count": 27,
     "metadata": {},
     "output_type": "execute_result"
    }
   ],
   "source": [
    "df_train.groupby('Title')['Age'].mean()"
   ]
  },
  {
   "cell_type": "markdown",
   "id": "da9f4936",
   "metadata": {
    "papermill": {
     "duration": 0.029415,
     "end_time": "2022-07-04T01:37:51.168517",
     "exception": false,
     "start_time": "2022-07-04T01:37:51.139102",
     "status": "completed"
    },
    "tags": []
   },
   "source": [
    "Заполните отсутствующее значение возраста, используя средний возраст пассажиров для каждого названия."
   ]
  },
  {
   "cell_type": "code",
   "execution_count": 28,
   "id": "ec398f05",
   "metadata": {
    "execution": {
     "iopub.execute_input": "2022-07-04T01:37:51.230253Z",
     "iopub.status.busy": "2022-07-04T01:37:51.229607Z",
     "iopub.status.idle": "2022-07-04T01:37:51.246400Z",
     "shell.execute_reply": "2022-07-04T01:37:51.245534Z"
    },
    "papermill": {
     "duration": 0.050712,
     "end_time": "2022-07-04T01:37:51.248991",
     "exception": false,
     "start_time": "2022-07-04T01:37:51.198279",
     "status": "completed"
    },
    "tags": []
   },
   "outputs": [],
   "source": [
    "data = [df_train, df_test]\n",
    "for df in data:\n",
    "    df.loc[(df[\"Age\"].isnull()) & (df[\"Title\"]=='Master'), 'Age'] = 5\n",
    "    df.loc[(df[\"Age\"].isnull()) & (df[\"Title\"]=='Miss'), 'Age'] = 22\n",
    "    df.loc[(df[\"Age\"].isnull()) & (df[\"Title\"]=='Mr'), 'Age'] = 32\n",
    "    df.loc[(df[\"Age\"].isnull()) & (df[\"Title\"]=='Mrs'), 'Age'] = 36\n",
    "    df.loc[(df[\"Age\"].isnull()) & (df[\"Title\"]=='Other'), 'Age'] = 44"
   ]
  },
  {
   "cell_type": "markdown",
   "id": "74252ed2",
   "metadata": {
    "papermill": {
     "duration": 0.029498,
     "end_time": "2022-07-04T01:37:51.307984",
     "exception": false,
     "start_time": "2022-07-04T01:37:51.278486",
     "status": "completed"
    },
    "tags": []
   },
   "source": [
    "## Fare"
   ]
  },
  {
   "cell_type": "markdown",
   "id": "2ba7add4",
   "metadata": {
    "papermill": {
     "duration": 0.029619,
     "end_time": "2022-07-04T01:37:51.367178",
     "exception": false,
     "start_time": "2022-07-04T01:37:51.337559",
     "status": "completed"
    },
    "tags": []
   },
   "source": [
    "Мы знаем, что переменная Fare в тестовых данных имеет отсутствующее значение, поэтому мы попытаемся вычислить значение этой переменной на основе тренировочных данных. Проверим корреляцию переменной Fare с другими переменными."
   ]
  },
  {
   "cell_type": "code",
   "execution_count": 29,
   "id": "d044b191",
   "metadata": {
    "execution": {
     "iopub.execute_input": "2022-07-04T01:37:51.429187Z",
     "iopub.status.busy": "2022-07-04T01:37:51.428830Z",
     "iopub.status.idle": "2022-07-04T01:37:51.437220Z",
     "shell.execute_reply": "2022-07-04T01:37:51.436503Z"
    },
    "papermill": {
     "duration": 0.041937,
     "end_time": "2022-07-04T01:37:51.439126",
     "exception": false,
     "start_time": "2022-07-04T01:37:51.397189",
     "status": "completed"
    },
    "tags": []
   },
   "outputs": [
    {
     "data": {
      "text/plain": [
       "Fare        1.000000\n",
       "Survived    0.257307\n",
       "Parch       0.216225\n",
       "SibSp       0.159651\n",
       "Age         0.092122\n",
       "Pclass     -0.549500\n",
       "Name: Fare, dtype: float64"
      ]
     },
     "execution_count": 29,
     "metadata": {},
     "output_type": "execute_result"
    }
   ],
   "source": [
    "df_train.corr()[\"Fare\"].sort_values(ascending=False)"
   ]
  },
  {
   "cell_type": "markdown",
   "id": "e1e299a4",
   "metadata": {
    "papermill": {
     "duration": 0.029581,
     "end_time": "2022-07-04T01:37:51.498475",
     "exception": false,
     "start_time": "2022-07-04T01:37:51.468894",
     "status": "completed"
    },
    "tags": []
   },
   "source": [
    "Как мы видим, переменная Pclass имеет относительно сильную отрицательную корреляцию с переменной Fare. Итак, мы будем использовать среднее значение Fare на основе переменной Pclass, чтобы заполнить недостающие значения."
   ]
  },
  {
   "cell_type": "code",
   "execution_count": 30,
   "id": "fa83b0d8",
   "metadata": {
    "execution": {
     "iopub.execute_input": "2022-07-04T01:37:51.562439Z",
     "iopub.status.busy": "2022-07-04T01:37:51.561712Z",
     "iopub.status.idle": "2022-07-04T01:37:51.574752Z",
     "shell.execute_reply": "2022-07-04T01:37:51.573831Z"
    },
    "papermill": {
     "duration": 0.047303,
     "end_time": "2022-07-04T01:37:51.576819",
     "exception": false,
     "start_time": "2022-07-04T01:37:51.529516",
     "status": "completed"
    },
    "tags": []
   },
   "outputs": [
    {
     "data": {
      "text/html": [
       "<div>\n",
       "<style scoped>\n",
       "    .dataframe tbody tr th:only-of-type {\n",
       "        vertical-align: middle;\n",
       "    }\n",
       "\n",
       "    .dataframe tbody tr th {\n",
       "        vertical-align: top;\n",
       "    }\n",
       "\n",
       "    .dataframe thead th {\n",
       "        text-align: right;\n",
       "    }\n",
       "</style>\n",
       "<table border=\"1\" class=\"dataframe\">\n",
       "  <thead>\n",
       "    <tr style=\"text-align: right;\">\n",
       "      <th></th>\n",
       "      <th>Pclass</th>\n",
       "      <th>Sex</th>\n",
       "      <th>Age</th>\n",
       "      <th>SibSp</th>\n",
       "      <th>Parch</th>\n",
       "      <th>Fare</th>\n",
       "      <th>Embarked</th>\n",
       "      <th>Title</th>\n",
       "    </tr>\n",
       "  </thead>\n",
       "  <tbody>\n",
       "    <tr>\n",
       "      <th>152</th>\n",
       "      <td>3</td>\n",
       "      <td>male</td>\n",
       "      <td>60.5</td>\n",
       "      <td>0</td>\n",
       "      <td>0</td>\n",
       "      <td>NaN</td>\n",
       "      <td>S</td>\n",
       "      <td>Mr</td>\n",
       "    </tr>\n",
       "  </tbody>\n",
       "</table>\n",
       "</div>"
      ],
      "text/plain": [
       "     Pclass   Sex   Age  SibSp  Parch  Fare Embarked Title\n",
       "152       3  male  60.5      0      0   NaN        S    Mr"
      ]
     },
     "execution_count": 30,
     "metadata": {},
     "output_type": "execute_result"
    }
   ],
   "source": [
    "df_test[df_test[\"Fare\"].isna()]"
   ]
  },
  {
   "cell_type": "markdown",
   "id": "f7c1db9c",
   "metadata": {
    "papermill": {
     "duration": 0.029711,
     "end_time": "2022-07-04T01:37:51.636771",
     "exception": false,
     "start_time": "2022-07-04T01:37:51.607060",
     "status": "completed"
    },
    "tags": []
   },
   "source": [
    "Пассажир с отсутствующим тарифом имеет Pclass = 3."
   ]
  },
  {
   "cell_type": "code",
   "execution_count": 31,
   "id": "e948e50c",
   "metadata": {
    "execution": {
     "iopub.execute_input": "2022-07-04T01:37:51.699845Z",
     "iopub.status.busy": "2022-07-04T01:37:51.699065Z",
     "iopub.status.idle": "2022-07-04T01:37:51.707121Z",
     "shell.execute_reply": "2022-07-04T01:37:51.706173Z"
    },
    "papermill": {
     "duration": 0.042878,
     "end_time": "2022-07-04T01:37:51.709685",
     "exception": false,
     "start_time": "2022-07-04T01:37:51.666807",
     "status": "completed"
    },
    "tags": []
   },
   "outputs": [],
   "source": [
    "df_test.Fare.fillna(df_train.groupby(\"Pclass\").mean()[\"Fare\"][3], inplace=True)"
   ]
  },
  {
   "cell_type": "markdown",
   "id": "ed0d164b",
   "metadata": {
    "papermill": {
     "duration": 0.02995,
     "end_time": "2022-07-04T01:37:51.770167",
     "exception": false,
     "start_time": "2022-07-04T01:37:51.740217",
     "status": "completed"
    },
    "tags": []
   },
   "source": [
    "## SibSp и Parch"
   ]
  },
  {
   "cell_type": "markdown",
   "id": "538ffa4e",
   "metadata": {
    "papermill": {
     "duration": 0.031375,
     "end_time": "2022-07-04T01:37:51.832206",
     "exception": false,
     "start_time": "2022-07-04T01:37:51.800831",
     "status": "completed"
    },
    "tags": []
   },
   "source": [
    "Мы можем создать новую переменную, которая показывает количество семей, сопровождающих их поездку, путем сложения значений переменных SibSp и Parch. А затем из этих переменных мы также можем создать переменную, указывающую, один пассажир или нет."
   ]
  },
  {
   "cell_type": "code",
   "execution_count": 32,
   "id": "ca2bcbc4",
   "metadata": {
    "execution": {
     "iopub.execute_input": "2022-07-04T01:37:51.895729Z",
     "iopub.status.busy": "2022-07-04T01:37:51.894998Z",
     "iopub.status.idle": "2022-07-04T01:37:51.905202Z",
     "shell.execute_reply": "2022-07-04T01:37:51.904318Z"
    },
    "papermill": {
     "duration": 0.045184,
     "end_time": "2022-07-04T01:37:51.907442",
     "exception": false,
     "start_time": "2022-07-04T01:37:51.862258",
     "status": "completed"
    },
    "tags": []
   },
   "outputs": [],
   "source": [
    "data = [df_train, df_test]\n",
    "for df in data:\n",
    "    df['Relatives'] = df['SibSp'] + df['Parch']\n",
    "    df.loc[df['Relatives'] > 0, 'Alone'] = 1\n",
    "    df.loc[df['Relatives'] == 0, 'Alone'] = 0"
   ]
  },
  {
   "cell_type": "markdown",
   "id": "0411c0cb",
   "metadata": {
    "papermill": {
     "duration": 0.030174,
     "end_time": "2022-07-04T01:37:51.968996",
     "exception": false,
     "start_time": "2022-07-04T01:37:51.938822",
     "status": "completed"
    },
    "tags": []
   },
   "source": [
    "Мы можем удалить переменные SIbSp и Parch, так как они нам больше не нужны."
   ]
  },
  {
   "cell_type": "code",
   "execution_count": 33,
   "id": "e22ce1e3",
   "metadata": {
    "execution": {
     "iopub.execute_input": "2022-07-04T01:37:52.033446Z",
     "iopub.status.busy": "2022-07-04T01:37:52.032652Z",
     "iopub.status.idle": "2022-07-04T01:37:52.040628Z",
     "shell.execute_reply": "2022-07-04T01:37:52.039715Z"
    },
    "papermill": {
     "duration": 0.042597,
     "end_time": "2022-07-04T01:37:52.042971",
     "exception": false,
     "start_time": "2022-07-04T01:37:52.000374",
     "status": "completed"
    },
    "tags": []
   },
   "outputs": [],
   "source": [
    "df_train.drop([\"SibSp\", \"Parch\"], axis=1, inplace=True)\n",
    "df_test.drop([\"SibSp\", \"Parch\"], axis=1, inplace=True)"
   ]
  },
  {
   "cell_type": "markdown",
   "id": "76e41424",
   "metadata": {
    "papermill": {
     "duration": 0.0307,
     "end_time": "2022-07-04T01:37:52.105495",
     "exception": false,
     "start_time": "2022-07-04T01:37:52.074795",
     "status": "completed"
    },
    "tags": []
   },
   "source": [
    "## Кодировка категориальных данных"
   ]
  },
  {
   "cell_type": "markdown",
   "id": "09a6618a",
   "metadata": {
    "papermill": {
     "duration": 0.029657,
     "end_time": "2022-07-04T01:37:52.165743",
     "exception": false,
     "start_time": "2022-07-04T01:37:52.136086",
     "status": "completed"
    },
    "tags": []
   },
   "source": [
    "Некоторые переменные, такие как «Пол», «Начало» и «Должность», являются категориальными, поэтому нам нужно сначала закодировать их, чтобы их можно было использовать в моделях машинного обучения."
   ]
  },
  {
   "cell_type": "code",
   "execution_count": 34,
   "id": "8995052a",
   "metadata": {
    "execution": {
     "iopub.execute_input": "2022-07-04T01:37:52.228724Z",
     "iopub.status.busy": "2022-07-04T01:37:52.228003Z",
     "iopub.status.idle": "2022-07-04T01:37:52.243833Z",
     "shell.execute_reply": "2022-07-04T01:37:52.242888Z"
    },
    "papermill": {
     "duration": 0.050066,
     "end_time": "2022-07-04T01:37:52.246140",
     "exception": false,
     "start_time": "2022-07-04T01:37:52.196074",
     "status": "completed"
    },
    "tags": []
   },
   "outputs": [],
   "source": [
    "df_train = pd.get_dummies(df_train, prefix=[\"Sex\", \"Embarked\", \"Title\"])\n",
    "df_test = pd.get_dummies(df_test, prefix=[\"Sex\", \"Embarked\", \"Title\"])"
   ]
  },
  {
   "cell_type": "markdown",
   "id": "5a3bd1b5",
   "metadata": {
    "papermill": {
     "duration": 0.029533,
     "end_time": "2022-07-04T01:37:52.306258",
     "exception": false,
     "start_time": "2022-07-04T01:37:52.276725",
     "status": "completed"
    },
    "tags": []
   },
   "source": [
    "# 4. Построение модели"
   ]
  },
  {
   "cell_type": "markdown",
   "id": "8df993f3",
   "metadata": {
    "papermill": {
     "duration": 0.030049,
     "end_time": "2022-07-04T01:37:52.366611",
     "exception": false,
     "start_time": "2022-07-04T01:37:52.336562",
     "status": "completed"
    },
    "tags": []
   },
   "source": [
    "## Разделение датасета на тренировочную и отложенную выборку"
   ]
  },
  {
   "cell_type": "code",
   "execution_count": 35,
   "id": "82f0be86",
   "metadata": {
    "execution": {
     "iopub.execute_input": "2022-07-04T01:37:52.428549Z",
     "iopub.status.busy": "2022-07-04T01:37:52.427876Z",
     "iopub.status.idle": "2022-07-04T01:37:52.434667Z",
     "shell.execute_reply": "2022-07-04T01:37:52.433860Z"
    },
    "papermill": {
     "duration": 0.040302,
     "end_time": "2022-07-04T01:37:52.436741",
     "exception": false,
     "start_time": "2022-07-04T01:37:52.396439",
     "status": "completed"
    },
    "tags": []
   },
   "outputs": [],
   "source": [
    "X_train = df_train.drop(\"Survived\", axis=1)\n",
    "y_train = df_train.Survived\n",
    "\n",
    "X_test = df_test.copy()"
   ]
  },
  {
   "cell_type": "markdown",
   "id": "adae917c",
   "metadata": {
    "papermill": {
     "duration": 0.030095,
     "end_time": "2022-07-04T01:37:52.496895",
     "exception": false,
     "start_time": "2022-07-04T01:37:52.466800",
     "status": "completed"
    },
    "tags": []
   },
   "source": [
    "## Масштабирование данных\n"
   ]
  },
  {
   "cell_type": "code",
   "execution_count": 36,
   "id": "2ec30613",
   "metadata": {
    "execution": {
     "iopub.execute_input": "2022-07-04T01:37:52.559536Z",
     "iopub.status.busy": "2022-07-04T01:37:52.558615Z",
     "iopub.status.idle": "2022-07-04T01:37:52.569618Z",
     "shell.execute_reply": "2022-07-04T01:37:52.568792Z"
    },
    "papermill": {
     "duration": 0.044649,
     "end_time": "2022-07-04T01:37:52.571777",
     "exception": false,
     "start_time": "2022-07-04T01:37:52.527128",
     "status": "completed"
    },
    "tags": []
   },
   "outputs": [],
   "source": [
    "scaler = StandardScaler()\n",
    "\n",
    "X_train_scaled = scaler.fit_transform(X_train)\n",
    "X_test_scaled = scaler.transform(X_test)"
   ]
  },
  {
   "cell_type": "markdown",
   "id": "1a7ae846",
   "metadata": {
    "papermill": {
     "duration": 0.0303,
     "end_time": "2022-07-04T01:37:52.632016",
     "exception": false,
     "start_time": "2022-07-04T01:37:52.601716",
     "status": "completed"
    },
    "tags": []
   },
   "source": [
    "## Построение кмодели классификации"
   ]
  },
  {
   "cell_type": "markdown",
   "id": "0a7546d3",
   "metadata": {
    "papermill": {
     "duration": 0.029516,
     "end_time": "2022-07-04T01:37:52.691547",
     "exception": false,
     "start_time": "2022-07-04T01:37:52.662031",
     "status": "completed"
    },
    "tags": []
   },
   "source": [
    "### Выбор лучшего алгоритма"
   ]
  },
  {
   "cell_type": "markdown",
   "id": "76e21cc0",
   "metadata": {
    "papermill": {
     "duration": 0.030386,
     "end_time": "2022-07-04T01:37:52.752016",
     "exception": false,
     "start_time": "2022-07-04T01:37:52.721630",
     "status": "completed"
    },
    "tags": []
   },
   "source": [
    "Следующим шагом является выбор лучшего алгоритма, который мы будем использовать для прогнозирования тестовых данных. Мы попробуем применить несколько алгоритмов к обучающим данным, используя перекрестную проверку, всего 10 раз. Помимо точности, мы также будем использовать показатель f1 для оценки производительности модели, поскольку у нас есть набор данных о дисбалансе."
   ]
  },
  {
   "cell_type": "code",
   "execution_count": 37,
   "id": "ea71d761",
   "metadata": {
    "execution": {
     "iopub.execute_input": "2022-07-04T01:37:52.814880Z",
     "iopub.status.busy": "2022-07-04T01:37:52.814162Z",
     "iopub.status.idle": "2022-07-04T01:38:09.032141Z",
     "shell.execute_reply": "2022-07-04T01:38:09.031081Z"
    },
    "papermill": {
     "duration": 16.252021,
     "end_time": "2022-07-04T01:38:09.034277",
     "exception": false,
     "start_time": "2022-07-04T01:37:52.782256",
     "status": "completed"
    },
    "tags": []
   },
   "outputs": [
    {
     "data": {
      "text/html": [
       "<div>\n",
       "<style scoped>\n",
       "    .dataframe tbody tr th:only-of-type {\n",
       "        vertical-align: middle;\n",
       "    }\n",
       "\n",
       "    .dataframe tbody tr th {\n",
       "        vertical-align: top;\n",
       "    }\n",
       "\n",
       "    .dataframe thead th {\n",
       "        text-align: right;\n",
       "    }\n",
       "</style>\n",
       "<table border=\"1\" class=\"dataframe\">\n",
       "  <thead>\n",
       "    <tr style=\"text-align: right;\">\n",
       "      <th></th>\n",
       "      <th>Classifier</th>\n",
       "      <th>Avg_Accuracy</th>\n",
       "      <th>Avg_F1_Score</th>\n",
       "      <th>Avg_Overall</th>\n",
       "    </tr>\n",
       "  </thead>\n",
       "  <tbody>\n",
       "    <tr>\n",
       "      <th>1</th>\n",
       "      <td>LR</td>\n",
       "      <td>0.830537</td>\n",
       "      <td>0.769458</td>\n",
       "      <td>0.799997</td>\n",
       "    </tr>\n",
       "    <tr>\n",
       "      <th>5</th>\n",
       "      <td>MLP</td>\n",
       "      <td>0.830574</td>\n",
       "      <td>0.760507</td>\n",
       "      <td>0.795541</td>\n",
       "    </tr>\n",
       "    <tr>\n",
       "      <th>7</th>\n",
       "      <td>LGBM</td>\n",
       "      <td>0.823833</td>\n",
       "      <td>0.76089</td>\n",
       "      <td>0.792361</td>\n",
       "    </tr>\n",
       "    <tr>\n",
       "      <th>4</th>\n",
       "      <td>SVM</td>\n",
       "      <td>0.822697</td>\n",
       "      <td>0.7475</td>\n",
       "      <td>0.785098</td>\n",
       "    </tr>\n",
       "    <tr>\n",
       "      <th>0</th>\n",
       "      <td>KNN</td>\n",
       "      <td>0.819388</td>\n",
       "      <td>0.74588</td>\n",
       "      <td>0.782634</td>\n",
       "    </tr>\n",
       "    <tr>\n",
       "      <th>6</th>\n",
       "      <td>XGB</td>\n",
       "      <td>0.810375</td>\n",
       "      <td>0.745315</td>\n",
       "      <td>0.777845</td>\n",
       "    </tr>\n",
       "    <tr>\n",
       "      <th>3</th>\n",
       "      <td>RF</td>\n",
       "      <td>0.806991</td>\n",
       "      <td>0.739583</td>\n",
       "      <td>0.773287</td>\n",
       "    </tr>\n",
       "    <tr>\n",
       "      <th>2</th>\n",
       "      <td>DT</td>\n",
       "      <td>0.790137</td>\n",
       "      <td>0.727008</td>\n",
       "      <td>0.758573</td>\n",
       "    </tr>\n",
       "  </tbody>\n",
       "</table>\n",
       "</div>"
      ],
      "text/plain": [
       "  Classifier Avg_Accuracy Avg_F1_Score Avg_Overall\n",
       "1         LR     0.830537     0.769458    0.799997\n",
       "5        MLP     0.830574     0.760507    0.795541\n",
       "7       LGBM     0.823833      0.76089    0.792361\n",
       "4        SVM     0.822697       0.7475    0.785098\n",
       "0        KNN     0.819388      0.74588    0.782634\n",
       "6        XGB     0.810375     0.745315    0.777845\n",
       "3         RF     0.806991     0.739583    0.773287\n",
       "2         DT     0.790137     0.727008    0.758573"
      ]
     },
     "execution_count": 37,
     "metadata": {},
     "output_type": "execute_result"
    }
   ],
   "source": [
    "classifiers = {\n",
    "    \"KNN\": KNeighborsClassifier(), \n",
    "    \"LR\": LogisticRegression(max_iter=1000), \n",
    "    \"DT\": DecisionTreeClassifier(),\n",
    "    \"RF\": RandomForestClassifier(),\n",
    "    \"SVM\": SVC(),\n",
    "    \"MLP\": MLPClassifier(max_iter=1000),\n",
    "    \"XGB\": XGBClassifier(),\n",
    "    \"LGBM\": LGBMClassifier()\n",
    "}\n",
    "\n",
    "results = pd.DataFrame(columns=[\"Classifier\", \"Avg_Accuracy\", \"Avg_F1_Score\"])\n",
    "for name, clf in classifiers.items():\n",
    "    model = clf\n",
    "    cv_results = cross_validate(\n",
    "        model, X_train_scaled, y_train, cv=10,\n",
    "        scoring=(['accuracy', 'f1'])\n",
    "    )\n",
    "\n",
    "    results = results.append({\n",
    "        \"Classifier\": name,\n",
    "        \"Avg_Accuracy\": cv_results['test_accuracy'].mean(),\n",
    "        \"Avg_F1_Score\": cv_results['test_f1'].mean()\n",
    "    }, ignore_index=True)\n",
    "    \n",
    "results[\"Avg_Overall\"] = (results[\"Avg_Accuracy\"] + results[\"Avg_F1_Score\"]) / 2\n",
    "results = results.sort_values(\"Avg_Overall\", ascending=False)\n",
    "results"
   ]
  },
  {
   "cell_type": "code",
   "execution_count": 38,
   "id": "9f8864bd",
   "metadata": {
    "execution": {
     "iopub.execute_input": "2022-07-04T01:38:09.097340Z",
     "iopub.status.busy": "2022-07-04T01:38:09.096646Z",
     "iopub.status.idle": "2022-07-04T01:38:09.374438Z",
     "shell.execute_reply": "2022-07-04T01:38:09.373236Z"
    },
    "papermill": {
     "duration": 0.311971,
     "end_time": "2022-07-04T01:38:09.376706",
     "exception": false,
     "start_time": "2022-07-04T01:38:09.064735",
     "status": "completed"
    },
    "tags": []
   },
   "outputs": [
    {
     "data": {
      "image/png": "[encoded data removed]",
      "text/plain": [
       "<Figure size 864x432 with 1 Axes>"
      ]
     },
     "metadata": {},
     "output_type": "display_data"
    }
   ],
   "source": [
    "plt.figure(figsize=(12, 6))\n",
    "sns.barplot(data=results, x=\"Avg_Overall\", y=\"Classifier\")\n",
    "plt.title(\"Average Overall CV Score\")\n",
    "plt.show()"
   ]
  },
  {
   "cell_type": "markdown",
   "id": "c5e347ab",
   "metadata": {
    "papermill": {
     "duration": 0.03067,
     "end_time": "2022-07-04T01:38:09.438476",
     "exception": false,
     "start_time": "2022-07-04T01:38:09.407806",
     "status": "completed"
    },
    "tags": []
   },
   "source": [
    "Похоже, логистическая регрессия — наша лучшая модель. Мы будем использовать этот алгоритм для прогнозирования тестовых данных. Но перед этим мы настроим гиперпараметры этого алгоритма с помощью кросс-валидации Grid Search."
   ]
  },
  {
   "cell_type": "markdown",
   "id": "2188b000",
   "metadata": {
    "papermill": {
     "duration": 0.031221,
     "end_time": "2022-07-04T01:38:09.501202",
     "exception": false,
     "start_time": "2022-07-04T01:38:09.469981",
     "status": "completed"
    },
    "tags": []
   },
   "source": [
    "### Подбор гиперпараметров"
   ]
  },
  {
   "cell_type": "code",
   "execution_count": 39,
   "id": "f2b5aac6",
   "metadata": {
    "execution": {
     "iopub.execute_input": "2022-07-04T01:38:09.566309Z",
     "iopub.status.busy": "2022-07-04T01:38:09.565434Z",
     "iopub.status.idle": "2022-07-04T01:38:12.613668Z",
     "shell.execute_reply": "2022-07-04T01:38:12.612340Z"
    },
    "papermill": {
     "duration": 3.087332,
     "end_time": "2022-07-04T01:38:12.619548",
     "exception": false,
     "start_time": "2022-07-04T01:38:09.532216",
     "status": "completed"
    },
    "tags": []
   },
   "outputs": [
    {
     "name": "stdout",
     "output_type": "stream",
     "text": [
      "Best hyperparameter: {'C': 1.0, 'penalty': 'l2', 'tol': 0.1}\n"
     ]
    }
   ],
   "source": [
    "lr = LogisticRegression()\n",
    "params = {\n",
    "    \"penalty\": (\"l1\", \"l2\", \"elasticnet\"),\n",
    "    \"tol\": (0.1, 0.01, 0.001, 0.0001),\n",
    "    \"C\": (10.0, 1.0, 0.1, 0.01)\n",
    "}\n",
    "clf = GridSearchCV(lr, params, cv=10)\n",
    "clf.fit(X_train_scaled, y_train)\n",
    "print(\"Best hyperparameter:\", clf.best_params_)"
   ]
  },
  {
   "cell_type": "code",
   "execution_count": 40,
   "id": "61cf39b1",
   "metadata": {
    "execution": {
     "iopub.execute_input": "2022-07-04T01:38:12.735453Z",
     "iopub.status.busy": "2022-07-04T01:38:12.734466Z",
     "iopub.status.idle": "2022-07-04T01:38:13.005832Z",
     "shell.execute_reply": "2022-07-04T01:38:13.004636Z"
    },
    "papermill": {
     "duration": 0.330902,
     "end_time": "2022-07-04T01:38:13.008808",
     "exception": false,
     "start_time": "2022-07-04T01:38:12.677906",
     "status": "completed"
    },
    "tags": []
   },
   "outputs": [
    {
     "name": "stdout",
     "output_type": "stream",
     "text": [
      "Train Accuracy: 0.8338945005611672\n",
      "Train F1-Score: 0.7771084337349397\n"
     ]
    },
    {
     "data": {
      "image/png": "[encoded data removed]",
      "text/plain": [
       "<Figure size 432x288 with 2 Axes>"
      ]
     },
     "metadata": {},
     "output_type": "display_data"
    }
   ],
   "source": [
    "y_pred = clf.predict(X_train_scaled)\n",
    "print(f\"Train Accuracy: {accuracy_score(y_train, y_pred)}\")\n",
    "print(f\"Train F1-Score: {f1_score(y_train, y_pred)}\")\n",
    "sns.heatmap(confusion_matrix(y_train, y_pred), fmt='.3g', annot=True, cmap='summer_r')\n",
    "plt.show()"
   ]
  },
  {
   "cell_type": "code",
   "execution_count": 41,
   "id": "0589b6c5",
   "metadata": {
    "execution": {
     "iopub.execute_input": "2022-07-04T01:38:13.074120Z",
     "iopub.status.busy": "2022-07-04T01:38:13.073362Z",
     "iopub.status.idle": "2022-07-04T01:38:13.085834Z",
     "shell.execute_reply": "2022-07-04T01:38:13.084550Z"
    },
    "papermill": {
     "duration": 0.048121,
     "end_time": "2022-07-04T01:38:13.088135",
     "exception": false,
     "start_time": "2022-07-04T01:38:13.040014",
     "status": "completed"
    },
    "tags": []
   },
   "outputs": [
    {
     "name": "stdout",
     "output_type": "stream",
     "text": [
      "              precision    recall  f1-score   support\n",
      "\n",
      "           0       0.85      0.88      0.87       549\n",
      "           1       0.80      0.75      0.78       342\n",
      "\n",
      "    accuracy                           0.83       891\n",
      "   macro avg       0.83      0.82      0.82       891\n",
      "weighted avg       0.83      0.83      0.83       891\n",
      "\n"
     ]
    }
   ],
   "source": [
    "print(classification_report(y_train, y_pred))"
   ]
  },
  {
   "cell_type": "markdown",
   "id": "13d551e2",
   "metadata": {
    "papermill": {
     "duration": 0.03072,
     "end_time": "2022-07-04T01:38:13.150050",
     "exception": false,
     "start_time": "2022-07-04T01:38:13.119330",
     "status": "completed"
    },
    "tags": []
   },
   "source": [
    "### Submit Test Prediction"
   ]
  },
  {
   "cell_type": "code",
   "execution_count": 42,
   "id": "e394717f",
   "metadata": {
    "execution": {
     "iopub.execute_input": "2022-07-04T01:38:13.214508Z",
     "iopub.status.busy": "2022-07-04T01:38:13.213777Z",
     "iopub.status.idle": "2022-07-04T01:38:13.230212Z",
     "shell.execute_reply": "2022-07-04T01:38:13.229285Z"
    },
    "papermill": {
     "duration": 0.051677,
     "end_time": "2022-07-04T01:38:13.232738",
     "exception": false,
     "start_time": "2022-07-04T01:38:13.181061",
     "status": "completed"
    },
    "tags": []
   },
   "outputs": [
    {
     "data": {
      "text/html": [
       "<div>\n",
       "<style scoped>\n",
       "    .dataframe tbody tr th:only-of-type {\n",
       "        vertical-align: middle;\n",
       "    }\n",
       "\n",
       "    .dataframe tbody tr th {\n",
       "        vertical-align: top;\n",
       "    }\n",
       "\n",
       "    .dataframe thead th {\n",
       "        text-align: right;\n",
       "    }\n",
       "</style>\n",
       "<table border=\"1\" class=\"dataframe\">\n",
       "  <thead>\n",
       "    <tr style=\"text-align: right;\">\n",
       "      <th></th>\n",
       "      <th>PassengerId</th>\n",
       "      <th>Survived</th>\n",
       "    </tr>\n",
       "  </thead>\n",
       "  <tbody>\n",
       "    <tr>\n",
       "      <th>0</th>\n",
       "      <td>892</td>\n",
       "      <td>0</td>\n",
       "    </tr>\n",
       "    <tr>\n",
       "      <th>1</th>\n",
       "      <td>893</td>\n",
       "      <td>1</td>\n",
       "    </tr>\n",
       "    <tr>\n",
       "      <th>2</th>\n",
       "      <td>894</td>\n",
       "      <td>0</td>\n",
       "    </tr>\n",
       "    <tr>\n",
       "      <th>3</th>\n",
       "      <td>895</td>\n",
       "      <td>0</td>\n",
       "    </tr>\n",
       "    <tr>\n",
       "      <th>4</th>\n",
       "      <td>896</td>\n",
       "      <td>1</td>\n",
       "    </tr>\n",
       "    <tr>\n",
       "      <th>...</th>\n",
       "      <td>...</td>\n",
       "      <td>...</td>\n",
       "    </tr>\n",
       "    <tr>\n",
       "      <th>413</th>\n",
       "      <td>1305</td>\n",
       "      <td>0</td>\n",
       "    </tr>\n",
       "    <tr>\n",
       "      <th>414</th>\n",
       "      <td>1306</td>\n",
       "      <td>1</td>\n",
       "    </tr>\n",
       "    <tr>\n",
       "      <th>415</th>\n",
       "      <td>1307</td>\n",
       "      <td>0</td>\n",
       "    </tr>\n",
       "    <tr>\n",
       "      <th>416</th>\n",
       "      <td>1308</td>\n",
       "      <td>0</td>\n",
       "    </tr>\n",
       "    <tr>\n",
       "      <th>417</th>\n",
       "      <td>1309</td>\n",
       "      <td>1</td>\n",
       "    </tr>\n",
       "  </tbody>\n",
       "</table>\n",
       "<p>418 rows × 2 columns</p>\n",
       "</div>"
      ],
      "text/plain": [
       "     PassengerId  Survived\n",
       "0            892         0\n",
       "1            893         1\n",
       "2            894         0\n",
       "3            895         0\n",
       "4            896         1\n",
       "..           ...       ...\n",
       "413         1305         0\n",
       "414         1306         1\n",
       "415         1307         0\n",
       "416         1308         0\n",
       "417         1309         1\n",
       "\n",
       "[418 rows x 2 columns]"
      ]
     },
     "execution_count": 42,
     "metadata": {},
     "output_type": "execute_result"
    }
   ],
   "source": [
    "y_pred = clf.predict(X_test_scaled)\n",
    "\n",
    "submission = pd.read_csv(\"gender_submission.csv\")\n",
    "submission[\"Survived\"] = y_pred\n",
    "submission"
   ]
  }
 ],
 "metadata": {
  "kernelspec": {
   "display_name": "Python 3 (ipykernel)",
   "language": "python",
   "name": "python3"
  },
  "language_info": {
   "codemirror_mode": {
    "name": "ipython",
    "version": 3
   },
   "file_extension": ".py",
   "mimetype": "text/x-python",
   "name": "python",
   "nbconvert_exporter": "python",
   "pygments_lexer": "ipython3",
   "version": "3.9.12"
  },
  "papermill": {
   "default_parameters": {},
   "duration": 47.443887,
   "end_time": "2022-07-04T01:38:14.187704",
   "environment_variables": {},
   "exception": null,
   "input_path": "__notebook__.ipynb",
   "output_path": "__notebook__.ipynb",
   "parameters": {},
   "start_time": "2022-07-04T01:37:26.743817",
   "version": "2.3.4"
  }
 },
 "nbformat": 4,
 "nbformat_minor": 5
}
