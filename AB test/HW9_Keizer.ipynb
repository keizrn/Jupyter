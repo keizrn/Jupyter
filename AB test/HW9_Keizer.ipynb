{
 "cells": [
  {
   "attachments": {},
   "cell_type": "markdown",
   "id": "6e958867",
   "metadata": {},
   "source": [
    "# Домашняя работа №9 (Итоговая)\n",
    "### Выполнила Наталья Кейзер, студентка потока от 29.03.2023\n",
    "\n",
    "#### Практическое задание:\n",
    "Проанализируйте результаты эксперимента и напишите свои рекомендации менеджеру.\n",
    "\n",
    "Mobile Games AB Testing with Cookie Cats\n",
    "\n"
   ]
  },
  {
   "cell_type": "markdown",
   "id": "18392c77",
   "metadata": {},
   "source": [
    "## Решение:\n",
    "\n",
    "### 1. Анализ данных.\n",
    "\n",
    "Сначала проанализируем данные. В том числе поищем ошибки и несоответствия в данных."
   ]
  },
  {
   "cell_type": "code",
   "execution_count": 1,
   "id": "6986dca1",
   "metadata": {},
   "outputs": [],
   "source": [
    "import pandas as pd\n",
    "import numpy as np\n",
    "import scipy.stats as stats"
   ]
  },
  {
   "cell_type": "code",
   "execution_count": 2,
   "id": "3f113c71",
   "metadata": {},
   "outputs": [
    {
     "data": {
      "text/html": [
       "<div>\n",
       "<style scoped>\n",
       "    .dataframe tbody tr th:only-of-type {\n",
       "        vertical-align: middle;\n",
       "    }\n",
       "\n",
       "    .dataframe tbody tr th {\n",
       "        vertical-align: top;\n",
       "    }\n",
       "\n",
       "    .dataframe thead th {\n",
       "        text-align: right;\n",
       "    }\n",
       "</style>\n",
       "<table border=\"1\" class=\"dataframe\">\n",
       "  <thead>\n",
       "    <tr style=\"text-align: right;\">\n",
       "      <th></th>\n",
       "      <th>userid</th>\n",
       "      <th>version</th>\n",
       "      <th>sum_gamerounds</th>\n",
       "      <th>retention_1</th>\n",
       "      <th>retention_7</th>\n",
       "    </tr>\n",
       "  </thead>\n",
       "  <tbody>\n",
       "    <tr>\n",
       "      <th>0</th>\n",
       "      <td>116</td>\n",
       "      <td>gate_30</td>\n",
       "      <td>3</td>\n",
       "      <td>0</td>\n",
       "      <td>0</td>\n",
       "    </tr>\n",
       "    <tr>\n",
       "      <th>1</th>\n",
       "      <td>337</td>\n",
       "      <td>gate_30</td>\n",
       "      <td>38</td>\n",
       "      <td>1</td>\n",
       "      <td>0</td>\n",
       "    </tr>\n",
       "    <tr>\n",
       "      <th>2</th>\n",
       "      <td>377</td>\n",
       "      <td>gate_40</td>\n",
       "      <td>165</td>\n",
       "      <td>1</td>\n",
       "      <td>0</td>\n",
       "    </tr>\n",
       "    <tr>\n",
       "      <th>3</th>\n",
       "      <td>483</td>\n",
       "      <td>gate_40</td>\n",
       "      <td>1</td>\n",
       "      <td>0</td>\n",
       "      <td>0</td>\n",
       "    </tr>\n",
       "    <tr>\n",
       "      <th>4</th>\n",
       "      <td>488</td>\n",
       "      <td>gate_40</td>\n",
       "      <td>179</td>\n",
       "      <td>1</td>\n",
       "      <td>1</td>\n",
       "    </tr>\n",
       "  </tbody>\n",
       "</table>\n",
       "</div>"
      ],
      "text/plain": [
       "   userid  version  sum_gamerounds  retention_1  retention_7\n",
       "0     116  gate_30               3            0            0\n",
       "1     337  gate_30              38            1            0\n",
       "2     377  gate_40             165            1            0\n",
       "3     483  gate_40               1            0            0\n",
       "4     488  gate_40             179            1            1"
      ]
     },
     "execution_count": 2,
     "metadata": {},
     "output_type": "execute_result"
    }
   ],
   "source": [
    "df = pd.read_csv('А_B_cookie_cats.csv')\n",
    "df.head()"
   ]
  },
  {
   "cell_type": "markdown",
   "id": "8c70b6a2",
   "metadata": {},
   "source": [
    "1.1. Посмотрим **количество пользователей** в каждой из версий:"
   ]
  },
  {
   "cell_type": "code",
   "execution_count": 3,
   "id": "eadd16f0",
   "metadata": {},
   "outputs": [
    {
     "data": {
      "text/html": [
       "<style type=\"text/css\">\n",
       "</style>\n",
       "<table id=\"T_9c3bc\">\n",
       "  <thead>\n",
       "    <tr>\n",
       "      <th class=\"blank level0\" >&nbsp;</th>\n",
       "      <th id=\"T_9c3bc_level0_col0\" class=\"col_heading level0 col0\" >gate_40</th>\n",
       "      <th id=\"T_9c3bc_level0_col1\" class=\"col_heading level0 col1\" >gate_30</th>\n",
       "    </tr>\n",
       "  </thead>\n",
       "  <tbody>\n",
       "    <tr>\n",
       "      <th id=\"T_9c3bc_level0_row0\" class=\"row_heading level0 row0\" >Quantity</th>\n",
       "      <td id=\"T_9c3bc_row0_col0\" class=\"data row0 col0\" >45 489.0</td>\n",
       "      <td id=\"T_9c3bc_row0_col1\" class=\"data row0 col1\" >44 700.0</td>\n",
       "    </tr>\n",
       "    <tr>\n",
       "      <th id=\"T_9c3bc_level0_row1\" class=\"row_heading level0 row1\" >Percentage</th>\n",
       "      <td id=\"T_9c3bc_row1_col0\" class=\"data row1 col0\" >50.4</td>\n",
       "      <td id=\"T_9c3bc_row1_col1\" class=\"data row1 col1\" >49.6</td>\n",
       "    </tr>\n",
       "  </tbody>\n",
       "</table>\n"
      ],
      "text/plain": [
       "<pandas.io.formats.style.Styler at 0x20e5eed8f70>"
      ]
     },
     "execution_count": 3,
     "metadata": {},
     "output_type": "execute_result"
    }
   ],
   "source": [
    "pd.DataFrame((df.version.value_counts().rename(\"Quantity\"), df.version.value_counts(normalize=True).rename(\"Percentage\")*100)).style \\\n",
    "    .format(precision=1, thousands=\" \")"
   ]
  },
  {
   "cell_type": "markdown",
   "id": "49d4f53b",
   "metadata": {},
   "source": [
    "**Разделение примерно поровну**.\n",
    "\n",
    "1.2. Проверим, есть ли пользователи, которые **попали сразу в обе выборки**:"
   ]
  },
  {
   "cell_type": "code",
   "execution_count": 4,
   "id": "af820a46",
   "metadata": {},
   "outputs": [
    {
     "data": {
      "text/html": [
       "<div>\n",
       "<style scoped>\n",
       "    .dataframe tbody tr th:only-of-type {\n",
       "        vertical-align: middle;\n",
       "    }\n",
       "\n",
       "    .dataframe tbody tr th {\n",
       "        vertical-align: top;\n",
       "    }\n",
       "\n",
       "    .dataframe thead th {\n",
       "        text-align: right;\n",
       "    }\n",
       "</style>\n",
       "<table border=\"1\" class=\"dataframe\">\n",
       "  <thead>\n",
       "    <tr style=\"text-align: right;\">\n",
       "      <th>version</th>\n",
       "      <th>gate_30</th>\n",
       "      <th>gate_40</th>\n",
       "      <th>All</th>\n",
       "    </tr>\n",
       "    <tr>\n",
       "      <th>userid</th>\n",
       "      <th></th>\n",
       "      <th></th>\n",
       "      <th></th>\n",
       "    </tr>\n",
       "  </thead>\n",
       "  <tbody>\n",
       "    <tr>\n",
       "      <th>116</th>\n",
       "      <td>1.0</td>\n",
       "      <td></td>\n",
       "      <td>1</td>\n",
       "    </tr>\n",
       "    <tr>\n",
       "      <th>337</th>\n",
       "      <td>1.0</td>\n",
       "      <td></td>\n",
       "      <td>1</td>\n",
       "    </tr>\n",
       "    <tr>\n",
       "      <th>377</th>\n",
       "      <td></td>\n",
       "      <td>1.0</td>\n",
       "      <td>1</td>\n",
       "    </tr>\n",
       "    <tr>\n",
       "      <th>483</th>\n",
       "      <td></td>\n",
       "      <td>1.0</td>\n",
       "      <td>1</td>\n",
       "    </tr>\n",
       "    <tr>\n",
       "      <th>488</th>\n",
       "      <td></td>\n",
       "      <td>1.0</td>\n",
       "      <td>1</td>\n",
       "    </tr>\n",
       "  </tbody>\n",
       "</table>\n",
       "</div>"
      ],
      "text/plain": [
       "version gate_30 gate_40  All\n",
       "userid                      \n",
       "116         1.0            1\n",
       "337         1.0            1\n",
       "377                 1.0    1\n",
       "483                 1.0    1\n",
       "488                 1.0    1"
      ]
     },
     "execution_count": 4,
     "metadata": {},
     "output_type": "execute_result"
    }
   ],
   "source": [
    "check1 = pd.pivot_table(df, index='userid', columns='version', values='sum_gamerounds', aggfunc=\"count\", margins=True, fill_value=\"\")\n",
    "check1.head()"
   ]
  },
  {
   "cell_type": "code",
   "execution_count": 5,
   "id": "2757b5c8",
   "metadata": {},
   "outputs": [
    {
     "data": {
      "text/html": [
       "<div>\n",
       "<style scoped>\n",
       "    .dataframe tbody tr th:only-of-type {\n",
       "        vertical-align: middle;\n",
       "    }\n",
       "\n",
       "    .dataframe tbody tr th {\n",
       "        vertical-align: top;\n",
       "    }\n",
       "\n",
       "    .dataframe thead th {\n",
       "        text-align: right;\n",
       "    }\n",
       "</style>\n",
       "<table border=\"1\" class=\"dataframe\">\n",
       "  <thead>\n",
       "    <tr style=\"text-align: right;\">\n",
       "      <th>version</th>\n",
       "      <th>gate_30</th>\n",
       "      <th>gate_40</th>\n",
       "      <th>All</th>\n",
       "    </tr>\n",
       "    <tr>\n",
       "      <th>userid</th>\n",
       "      <th></th>\n",
       "      <th></th>\n",
       "      <th></th>\n",
       "    </tr>\n",
       "  </thead>\n",
       "  <tbody>\n",
       "    <tr>\n",
       "      <th>All</th>\n",
       "      <td>44700</td>\n",
       "      <td>45489</td>\n",
       "      <td>90189</td>\n",
       "    </tr>\n",
       "  </tbody>\n",
       "</table>\n",
       "</div>"
      ],
      "text/plain": [
       "version gate_30 gate_40    All\n",
       "userid                        \n",
       "All       44700   45489  90189"
      ]
     },
     "execution_count": 5,
     "metadata": {},
     "output_type": "execute_result"
    }
   ],
   "source": [
    "check1[check1.All>1]"
   ]
  },
  {
   "cell_type": "markdown",
   "id": "f0bf7df0",
   "metadata": {},
   "source": [
    "Анализ выдает только общее значение, это означает, что каждый пользователь попал **только в одну группу** - версия 30 или версия 40.\n",
    "\n",
    "1.3. Проверим, есть ли **задвоения в id пользователей**:"
   ]
  },
  {
   "cell_type": "code",
   "execution_count": 6,
   "id": "d14556df",
   "metadata": {},
   "outputs": [
    {
     "data": {
      "text/html": [
       "<div>\n",
       "<style scoped>\n",
       "    .dataframe tbody tr th:only-of-type {\n",
       "        vertical-align: middle;\n",
       "    }\n",
       "\n",
       "    .dataframe tbody tr th {\n",
       "        vertical-align: top;\n",
       "    }\n",
       "\n",
       "    .dataframe thead th {\n",
       "        text-align: right;\n",
       "    }\n",
       "</style>\n",
       "<table border=\"1\" class=\"dataframe\">\n",
       "  <thead>\n",
       "    <tr style=\"text-align: right;\">\n",
       "      <th></th>\n",
       "      <th>userid</th>\n",
       "    </tr>\n",
       "  </thead>\n",
       "  <tbody>\n",
       "    <tr>\n",
       "      <th>116</th>\n",
       "      <td>1</td>\n",
       "    </tr>\n",
       "    <tr>\n",
       "      <th>6632278</th>\n",
       "      <td>1</td>\n",
       "    </tr>\n",
       "    <tr>\n",
       "      <th>6658202</th>\n",
       "      <td>1</td>\n",
       "    </tr>\n",
       "    <tr>\n",
       "      <th>6658194</th>\n",
       "      <td>1</td>\n",
       "    </tr>\n",
       "    <tr>\n",
       "      <th>6658134</th>\n",
       "      <td>1</td>\n",
       "    </tr>\n",
       "  </tbody>\n",
       "</table>\n",
       "</div>"
      ],
      "text/plain": [
       "         userid\n",
       "116           1\n",
       "6632278       1\n",
       "6658202       1\n",
       "6658194       1\n",
       "6658134       1"
      ]
     },
     "execution_count": 6,
     "metadata": {},
     "output_type": "execute_result"
    }
   ],
   "source": [
    "check2 = pd.DataFrame(df.userid.value_counts())\n",
    "check2.head()"
   ]
  },
  {
   "cell_type": "code",
   "execution_count": 7,
   "id": "73812431",
   "metadata": {},
   "outputs": [
    {
     "data": {
      "text/html": [
       "<div>\n",
       "<style scoped>\n",
       "    .dataframe tbody tr th:only-of-type {\n",
       "        vertical-align: middle;\n",
       "    }\n",
       "\n",
       "    .dataframe tbody tr th {\n",
       "        vertical-align: top;\n",
       "    }\n",
       "\n",
       "    .dataframe thead th {\n",
       "        text-align: right;\n",
       "    }\n",
       "</style>\n",
       "<table border=\"1\" class=\"dataframe\">\n",
       "  <thead>\n",
       "    <tr style=\"text-align: right;\">\n",
       "      <th></th>\n",
       "      <th>userid</th>\n",
       "    </tr>\n",
       "  </thead>\n",
       "  <tbody>\n",
       "  </tbody>\n",
       "</table>\n",
       "</div>"
      ],
      "text/plain": [
       "Empty DataFrame\n",
       "Columns: [userid]\n",
       "Index: []"
      ]
     },
     "execution_count": 7,
     "metadata": {},
     "output_type": "execute_result"
    }
   ],
   "source": [
    "check2[check2.userid>1]"
   ]
  },
  {
   "cell_type": "markdown",
   "id": "a34a38da",
   "metadata": {},
   "source": [
    "Задвоений пользователей в базе не найдено.\n",
    "\n",
    "#### Можно приступать к анализу полученных результатов.\n",
    "\n",
    "### 2. Анализ результатов\n",
    "\n",
    "Мы будем анализировать серии retention_1 и retention_7 (удержание пользователей через 1 и 7 дней, соответственно). \n",
    "\n",
    "2.1 Исследуем наличие корреляции между этими показателями:"
   ]
  },
  {
   "cell_type": "code",
   "execution_count": 8,
   "id": "3c30d439",
   "metadata": {},
   "outputs": [
    {
     "name": "stdout",
     "output_type": "stream",
     "text": [
      "Коэффициент корреляции между удержанием на 1-й и 7-й дни равен: 32.74%\n"
     ]
    }
   ],
   "source": [
    "corr_auto = np.corrcoef(df.retention_1, df.retention_7)\n",
    "print(\"Коэффициент корреляции между удержанием на 1-й и 7-й дни равен: {0:.2%}\".format(corr_auto[0][1]))"
   ]
  },
  {
   "cell_type": "markdown",
   "id": "0de85f63",
   "metadata": {},
   "source": [
    "Используем Шкалу Чеддока для интерпретации результатов:\n",
    "\n",
    "|Показатель корреляции|0,1-0,3|0,3-0,5|0,5-0,7|0,7-0,9|0,9-0,99|\n",
    "|---|:---:|:---:|:---:|:---:|:---:|\n",
    "|Сила связи|слабая|умеренная|заметная|высокая|весьма|высокая|\n",
    "\n",
    "Коэффициент корреляции свидетельствует о наличии умеренной зависимости между этими двумя показателями. Это означает, что нужно исследовать оба показателя, и только после этого можно интерпретировать результаты. \n",
    "\n",
    "---\n",
    "\n",
    "2.2 Проанализируем **конверсию в удержание в 1й день**.\n",
    "\n",
    "Количество пользователей в группе gate_30:"
   ]
  },
  {
   "cell_type": "code",
   "execution_count": 9,
   "id": "7042d58f",
   "metadata": {},
   "outputs": [
    {
     "data": {
      "text/plain": [
       "44700"
      ]
     },
     "execution_count": 9,
     "metadata": {},
     "output_type": "execute_result"
    }
   ],
   "source": [
    "n30 = df.userid[df.version=='gate_30'].nunique()\n",
    "n30"
   ]
  },
  {
   "cell_type": "markdown",
   "id": "0b9561f0",
   "metadata": {},
   "source": [
    "Количество пользователей в группе gate_30 с retention_1 = 1:"
   ]
  },
  {
   "cell_type": "code",
   "execution_count": 10,
   "id": "9b5a868b",
   "metadata": {},
   "outputs": [
    {
     "data": {
      "text/plain": [
       "20034"
      ]
     },
     "execution_count": 10,
     "metadata": {},
     "output_type": "execute_result"
    }
   ],
   "source": [
    "r1_30 = sum(df.retention_1[df.version=='gate_30'])\n",
    "r1_30"
   ]
  },
  {
   "cell_type": "markdown",
   "id": "25460c12",
   "metadata": {},
   "source": [
    "Количество пользователей в группе gate_40:"
   ]
  },
  {
   "cell_type": "code",
   "execution_count": 11,
   "id": "33b81984",
   "metadata": {},
   "outputs": [
    {
     "data": {
      "text/plain": [
       "45489"
      ]
     },
     "execution_count": 11,
     "metadata": {},
     "output_type": "execute_result"
    }
   ],
   "source": [
    "n40 = df.userid[df.version=='gate_40'].nunique()\n",
    "n40"
   ]
  },
  {
   "cell_type": "markdown",
   "id": "8c70df65",
   "metadata": {},
   "source": [
    "Количество пользователей в группе gate_40 с retention_1 = 1:"
   ]
  },
  {
   "cell_type": "code",
   "execution_count": 12,
   "id": "73d6dc34",
   "metadata": {},
   "outputs": [
    {
     "data": {
      "text/plain": [
       "20119"
      ]
     },
     "execution_count": 12,
     "metadata": {},
     "output_type": "execute_result"
    }
   ],
   "source": [
    "r1_40 = sum(df.retention_1[df.version=='gate_40'])\n",
    "r1_40"
   ]
  },
  {
   "cell_type": "code",
   "execution_count": 13,
   "id": "6e749e7c",
   "metadata": {},
   "outputs": [
    {
     "name": "stdout",
     "output_type": "stream",
     "text": [
      "Результаты конверсии в удержание пользователей в 1-й день:\n",
      "Конверсия в группе gate_30: 44.82%.\n",
      "Конверсия в группе gate_40: 44.23%.\n"
     ]
    }
   ],
   "source": [
    "print('Результаты конверсии в удержание пользователей в 1-й день:')\n",
    "print('Конверсия в группе gate_30: {0:.2%}.\\nКонверсия в группе gate_40: {1:.2%}.'.format(r1_30/n30, r1_40/n40))"
   ]
  },
  {
   "cell_type": "markdown",
   "id": "a43222fd",
   "metadata": {},
   "source": [
    "#### Проведем z-test:\n",
    "$H_0$: Статистические различия между выборками отсутствуют (выборки примерно одинаковы).<br>\n",
    "$H_1$: Выборки показали разные результаты, разница статистически значимая."
   ]
  },
  {
   "cell_type": "code",
   "execution_count": 14,
   "id": "92138663",
   "metadata": {},
   "outputs": [],
   "source": [
    "from statsmodels.stats import proportion"
   ]
  },
  {
   "cell_type": "code",
   "execution_count": 15,
   "id": "754f91e9",
   "metadata": {},
   "outputs": [
    {
     "name": "stdout",
     "output_type": "stream",
     "text": [
      "Result of z-test: z-score = 1.8, p-value = 0.074\n"
     ]
    }
   ],
   "source": [
    "z_score, z_pval = proportion.proportions_ztest(np.array([r1_30, r1_40]), np.array([n30, n40]))\n",
    "print('Result of z-test: z-score = {0:.2}, p-value = {1:.2}'.format(z_score, z_pval))"
   ]
  },
  {
   "cell_type": "markdown",
   "id": "2a23e3ed",
   "metadata": {},
   "source": [
    "#### Так как $p_{value} > \\alpha$ ($\\alpha = 5\\%$), то мы не можем отвергнуть $H_0$ с уровнем достоверности 95%. Таким образом, статистически значимых различий между выборками нет. "
   ]
  },
  {
   "cell_type": "code",
   "execution_count": 16,
   "id": "cc9b9fe8",
   "metadata": {},
   "outputs": [
    {
     "name": "stdout",
     "output_type": "stream",
     "text": [
      "Result of chi-test: chi-score = 3.2, p-value = 0.074\n"
     ]
    }
   ],
   "source": [
    "chisq, p_val, table = proportion.proportions_chisquare(np.array([r1_30, r1_40]), np.array([n30, n40]))\n",
    "print('Result of chi-test: chi-score = {0:.2}, p-value = {1:.2}'.format(chisq, p_val))"
   ]
  },
  {
   "cell_type": "markdown",
   "id": "4bb1841a",
   "metadata": {},
   "source": [
    "#### Результаты $\\chi$-теста подтверждают полученные ранее результаты.\n",
    "---\n",
    "2.3 Проанализируем **конверсию в удержание в 7й день**."
   ]
  },
  {
   "cell_type": "markdown",
   "id": "399a1d24",
   "metadata": {},
   "source": [
    "Количество пользователей в группе gate_30 с retention_7 = 1:"
   ]
  },
  {
   "cell_type": "code",
   "execution_count": 17,
   "id": "e7c93001",
   "metadata": {},
   "outputs": [
    {
     "data": {
      "text/plain": [
       "8502"
      ]
     },
     "execution_count": 17,
     "metadata": {},
     "output_type": "execute_result"
    }
   ],
   "source": [
    "r7_30 = sum(df.retention_7[df.version=='gate_30'])\n",
    "r7_30"
   ]
  },
  {
   "cell_type": "markdown",
   "id": "028157b2",
   "metadata": {},
   "source": [
    "Количество пользователей в группе gate_40 с retention_7 = 1:"
   ]
  },
  {
   "cell_type": "code",
   "execution_count": 18,
   "id": "9da2530b",
   "metadata": {},
   "outputs": [
    {
     "data": {
      "text/plain": [
       "8279"
      ]
     },
     "execution_count": 18,
     "metadata": {},
     "output_type": "execute_result"
    }
   ],
   "source": [
    "r7_40 = sum(df.retention_7[df.version=='gate_40'])\n",
    "r7_40"
   ]
  },
  {
   "cell_type": "code",
   "execution_count": 19,
   "id": "d61b9fe0",
   "metadata": {},
   "outputs": [
    {
     "name": "stdout",
     "output_type": "stream",
     "text": [
      "Результаты конверсии в удержание пользователей в 7-й день:\n",
      "Конверсия в группе gate_30: 19.02%.\n",
      "Конверсия в группе gate_40: 18.20%.\n"
     ]
    }
   ],
   "source": [
    "print('Результаты конверсии в удержание пользователей в 7-й день:')\n",
    "print('Конверсия в группе gate_30: {0:.2%}.\\nКонверсия в группе gate_40: {1:.2%}.'.format(r7_30/n30, r7_40/n40))"
   ]
  },
  {
   "cell_type": "markdown",
   "id": "816b984a",
   "metadata": {},
   "source": [
    "#### Проведем z-test:\n",
    "$H_0$: Статистические различия между выборками отсутствуют (выборки примерно одинаковы).<br>\n",
    "$H_1$: Выборки показали разные результаты, разница статистически значимая."
   ]
  },
  {
   "cell_type": "code",
   "execution_count": 20,
   "id": "3633a591",
   "metadata": {},
   "outputs": [
    {
     "name": "stdout",
     "output_type": "stream",
     "text": [
      "Result of z-test: z-score = 3.2, p-value = 0.0016\n"
     ]
    }
   ],
   "source": [
    "z_score, z_pval = proportion.proportions_ztest(np.array([r7_30, r7_40]), np.array([n30, n40]))\n",
    "print('Result of z-test: z-score = {0:.2}, p-value = {1:.2}'.format(z_score, z_pval))"
   ]
  },
  {
   "cell_type": "markdown",
   "id": "bf0557a5",
   "metadata": {},
   "source": [
    "#### Так как $p_{value} < \\alpha$ ($\\alpha = 5\\%$), то мы отвергаем $H_0$ с уровнем достоверности 95%. Таким образом, действительно разница между конверсией на 7-й день становится заметна и статистически значима. \n",
    "\n",
    "Важно отметить, что конверсия уменьшается. То есть, изменения в версии 40 относительно версии 30 привели к снижению возвращений пользователей на 7-й день. "
   ]
  },
  {
   "cell_type": "markdown",
   "id": "575b60eb",
   "metadata": {},
   "source": [
    "Если целью проекта было увеличение конверсии, то эффект получен противоположный.\n",
    "\n",
    "Рекомендуется доработка проекта, и дальнейшее продолжение тестирования. \n",
    "\n",
    "### На основании тестирования данную версию 40, как она есть, внедрять не рекомендуется."
   ]
  }
 ],
 "metadata": {
  "kernelspec": {
   "display_name": "Python 3 (ipykernel)",
   "language": "python",
   "name": "python3"
  },
  "language_info": {
   "codemirror_mode": {
    "name": "ipython",
    "version": 3
   },
   "file_extension": ".py",
   "mimetype": "text/x-python",
   "name": "python",
   "nbconvert_exporter": "python",
   "pygments_lexer": "ipython3",
   "version": "3.9.13"
  }
 },
 "nbformat": 4,
 "nbformat_minor": 5
}
