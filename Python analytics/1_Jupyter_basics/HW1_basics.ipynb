{
 "cells": [
  {
   "cell_type": "markdown",
   "id": "7c2cc6f3",
   "metadata": {},
   "source": [
    "# Домашняя работа № 1 - Оформление ноутбука и закрепление функций и генераторов"
   ]
  },
  {
   "attachments": {},
   "cell_type": "markdown",
   "id": "0595f761",
   "metadata": {},
   "source": [
    "## Задание 2\n",
    "На складе лежат разные фрукты в разном количестве.\n",
    "Нужно написать функцию, которая на вход принимает любое количество названий фруктов и их количество, а возвращает общее количество фруктов на складе."
   ]
  },
  {
   "cell_type": "code",
   "execution_count": 1,
   "id": "7d1255b0",
   "metadata": {},
   "outputs": [],
   "source": [
    "def total_fruits(**kwargs) -> int:\n",
    "    try:\n",
    "        return(sum(kwargs.values()))\n",
    "    except TypeError:\n",
    "        print('Ошибка в данных')"
   ]
  },
  {
   "cell_type": "code",
   "execution_count": 2,
   "id": "918d6b34",
   "metadata": {},
   "outputs": [
    {
     "data": {
      "text/plain": [
       "20"
      ]
     },
     "execution_count": 2,
     "metadata": {},
     "output_type": "execute_result"
    }
   ],
   "source": [
    "total_fruits(banana=5, mango=7, apple=8)"
   ]
  },
  {
   "cell_type": "code",
   "execution_count": 3,
   "id": "99e5b334",
   "metadata": {},
   "outputs": [
    {
     "name": "stdout",
     "output_type": "stream",
     "text": [
      "Ошибка в данных\n"
     ]
    }
   ],
   "source": [
    "total_fruits(banana='etre', mango=7, apple=8)"
   ]
  },
  {
   "attachments": {},
   "cell_type": "markdown",
   "id": "44d453da",
   "metadata": {},
   "source": [
    "## Задание 3\n",
    "Дан список с затратами на рекламу. Но в данных есть ошибки, некоторые затраты имеют отрицательную величину.<br>Удалите такие значения из списка и посчитайте суммарные затраты<br>\n",
    "[100, 125, -90, 345, 655, -1, 0, 200]\n",
    "\n",
    "Используйте list comprehensions\n"
   ]
  },
  {
   "cell_type": "code",
   "execution_count": 4,
   "id": "9ef9c626",
   "metadata": {},
   "outputs": [],
   "source": [
    "def sum_posi(list_1: list) -> int:\n",
    "    return(sum([item for item in list_1 if item > 0]))"
   ]
  },
  {
   "cell_type": "markdown",
   "id": "96aeb607",
   "metadata": {},
   "source": [
    "100, 125, -90, 345, 655, -1, 0, 200\n",
    "\n",
    "-5, -5, -5, -5, -5\n",
    "\n",
    "100, 100, 100, -100, -100, -100"
   ]
  },
  {
   "cell_type": "code",
   "execution_count": 5,
   "id": "6819c625",
   "metadata": {},
   "outputs": [
    {
     "name": "stdout",
     "output_type": "stream",
     "text": [
      "Введите числа через запятую\n",
      "1\n"
     ]
    },
    {
     "data": {
      "text/plain": [
       "1"
      ]
     },
     "execution_count": 5,
     "metadata": {},
     "output_type": "execute_result"
    }
   ],
   "source": [
    "sum_posi(map(int,input(\"Введите числа через запятую\\n\").split(',')))"
   ]
  },
  {
   "attachments": {},
   "cell_type": "markdown",
   "id": "86b0ee3e",
   "metadata": {},
   "source": [
    "## Задание 4\n",
    "Даны два списка.<br>\n",
    "Дата покупки<br>\n",
    "['2021-09-14', '2021-12-15', '2021-09-08', '2021-12-05', '2021-10-09', '2021-09-30', '2021-12-22', '2021-11-29', '2021-12-24', '2021-11-26', '2021-10-27', '2021-12-18', '2021-11-09', '2021-11-23', '2021-09-27', '2021-10-02', '2021-12-27', '2021-09-20', '2021-12-13', '2021-11-01', '2021-11-09', '2021-12-06', '2021-12-08', '2021-10-09', '2021-10-31', '2021-09-30', '2021-11-09', '2021-12-13', '2021-10-26', '2021-12-09']<br>\n",
    "\n",
    "Суммы покупок по датам<br>\n",
    "[1270, 8413, 9028, 3703, 5739, 4095, 295, 4944, 5723, 3701, 4471, 651, 7037, 4274, 6275, 4988, 6930, 2971, 6592, 2004, 2822, 519, 3406, 2732, 5015, 2008, 316, 6333, 5700, 2887]<br>\n",
    "### 4.1 Найдите, какая выручка у компании в ноябре\n",
    "Используйте list comprehensions"
   ]
  },
  {
   "cell_type": "markdown",
   "id": "4170bb2b",
   "metadata": {},
   "source": [
    "#### Данные:\n",
    "\n",
    "'2021-09-14', '2021-12-15', '2021-09-08', '2021-12-05', '2021-10-09', '2021-09-30', '2021-12-22', '2021-11-29', '2021-12-24', '2021-11-26', '2021-10-27', '2021-12-18', '2021-11-09', '2021-11-23', '2021-09-27', '2021-10-02', '2021-12-27', '2021-09-20', '2021-12-13', '2021-11-01', '2021-11-09', '2021-12-06', '2021-12-08', '2021-10-09', '2021-10-31', '2021-09-30', '2021-11-09', '2021-12-13', '2021-10-26', '2021-12-09'\n",
    "\n",
    "1270, 8413, 9028, 3703, 5739, 4095, 295, 4944, 5723, 3701, 4471, 651, 7037, 4274, 6275, 4988, 6930, 2971, 6592, 2004, 2822, 519, 3406, 2732, 5015, 2008, 316, 6333, 5700, 2887"
   ]
  },
  {
   "cell_type": "code",
   "execution_count": 6,
   "id": "652aebb4",
   "metadata": {},
   "outputs": [],
   "source": [
    "def sum_turnover(dates: list, sums: list, month0='11') -> int:\n",
    "    return(sum([sums[i] for i in range(len(sums)) if dates[i][1] == month0]))"
   ]
  },
  {
   "cell_type": "markdown",
   "id": "7312fa03",
   "metadata": {},
   "source": [
    "#### Пояснения:\n",
    "Можно просто нажать \"Enter\", тогда будут использованы значения по умолчанию.\n",
    "\n",
    "Или можно изменить данные на любом этапе."
   ]
  },
  {
   "cell_type": "code",
   "execution_count": 7,
   "id": "c78a7d06",
   "metadata": {},
   "outputs": [
    {
     "name": "stdout",
     "output_type": "stream",
     "text": [
      "Введите список дат через запятую (или нажмите Enter для использования списка по умолчанию):\n",
      "\n",
      "\n",
      "Введите суммы покупок через запятую (или нажмите Enter):\n",
      "\n",
      "\n",
      "Вы хотите изменить месяц вычислений? По умолчанию: ноябрь. y/n:\n",
      "\n",
      "\n",
      "Сумма оборотов по месяцу:  25098\n"
     ]
    }
   ],
   "source": [
    "dates_default = \"'2021-09-14', '2021-12-15', '2021-09-08', '2021-12-05', '2021-10-09', '2021-09-30', '2021-12-22', '2021-11-29', '2021-12-24', '2021-11-26', '2021-10-27', '2021-12-18', '2021-11-09', '2021-11-23', '2021-09-27', '2021-10-02', '2021-12-27', '2021-09-20', '2021-12-13', '2021-11-01', '2021-11-09', '2021-12-06', '2021-12-08', '2021-10-09', '2021-10-31', '2021-09-30', '2021-11-09', '2021-12-13', '2021-10-26', '2021-12-09'\"\n",
    "sum_default = \"1270, 8413, 9028, 3703, 5739, 4095, 295, 4944, 5723, 3701, 4471, 651, 7037, 4274, 6275, 4988, 6930, 2971, 6592, 2004, 2822, 519, 3406, 2732, 5015, 2008, 316, 6333, 5700, 2887\"\n",
    "\n",
    "list_date = (input(\"Введите список дат через запятую (или нажмите Enter для использования списка по умолчанию):\\n\") or dates_default).replace(\"'\",\"\").split(', ')\n",
    "for i in range(len(list_date)):\n",
    "    list_date[i] = list_date[i].split('-')\n",
    "\n",
    "list_sum = list(map(int, (input(\"\\nВведите суммы покупок через запятую (или нажмите Enter):\\n\") or sum_default).split(', ')))\n",
    "\n",
    "if input(\"\\nВы хотите изменить месяц вычислений? По умолчанию: ноябрь. y/n:\\n\").lower() not in ['y', 'yes', 'д', 'да']:\n",
    "    print(\"\\nСумма оборотов по месяцу: \", sum_turnover(list_date, list_sum))\n",
    "else:\n",
    "    print(\"\\nСумма оборотов по месяцу: \", sum_turnover(list_date, list_sum, input(\"Введите номер месяца, по которому вы хотите посчитать выручку:\\n\")))"
   ]
  },
  {
   "attachments": {
    "image-2.png": {
     "image/png": "[encoded data removed]"
    }
   },
   "cell_type": "markdown",
   "id": "0fb2955c",
   "metadata": {},
   "source": [
    "#### Проверка:\n",
    "![image-2.png](attachment:image-2.png)"
   ]
  },
  {
   "cell_type": "markdown",
   "id": "4a42c9ed",
   "metadata": {},
   "source": [
    "### 4.2 Найдите выручку компании в зависимости от месяца\n",
    "Для этого напишите функцию, которая на вход принимает список с датами и список с выручкой, а на выходе словарь, где ключи - это месяцы, а значения - это выручка.<br>\n",
    "Используйте аннотирование типов."
   ]
  },
  {
   "cell_type": "code",
   "execution_count": 17,
   "id": "7cb36445",
   "metadata": {},
   "outputs": [
    {
     "name": "stdout",
     "output_type": "stream",
     "text": [
      "{'09': 25647, '10': 28645, '11': 25098, '12': 45452}\n"
     ]
    }
   ],
   "source": [
    "def dict_sums(dates: list, sums: list) -> dict:\n",
    "    d1 = dict.fromkeys(tuple(sorted(set([dates[i][1] for i in range(len(dates))]))), 0)\n",
    "    for j in range(len(sums)):\n",
    "        d1[dates[j][1]] += sums[j]\n",
    "    print(d1)\n",
    "    \n",
    "dict_sums(list_date, list_sum)"
   ]
  },
  {
   "cell_type": "markdown",
   "id": "318b4042",
   "metadata": {},
   "source": [
    "#### Для иллюстрации.\n",
    "Как хранятся два списка:"
   ]
  },
  {
   "cell_type": "code",
   "execution_count": 20,
   "id": "812a0b0b",
   "metadata": {},
   "outputs": [
    {
     "name": "stdout",
     "output_type": "stream",
     "text": [
      "Список дат:\n",
      "\n",
      "[['2021', '09', '14'], ['2021', '12', '15'], ['2021', '09', '08']]\n"
     ]
    }
   ],
   "source": [
    "print(\"Список дат:\\n\", list_date[0:3], sep=\"\\n\", end=\"\\n\")"
   ]
  },
  {
   "cell_type": "code",
   "execution_count": 21,
   "id": "5c3188c4",
   "metadata": {},
   "outputs": [
    {
     "name": "stdout",
     "output_type": "stream",
     "text": [
      "Список сумм:\n",
      "\n",
      "[1270, 8413, 9028]\n"
     ]
    }
   ],
   "source": [
    "print(\"Список сумм:\\n\", list_sum[0:3], sep=\"\\n\", end=\"\\n\")"
   ]
  },
  {
   "cell_type": "code",
   "execution_count": null,
   "id": "88a59f18",
   "metadata": {},
   "outputs": [],
   "source": []
  }
 ],
 "metadata": {
  "kernelspec": {
   "display_name": "Python 3 (ipykernel)",
   "language": "python",
   "name": "python3"
  },
  "language_info": {
   "codemirror_mode": {
    "name": "ipython",
    "version": 3
   },
   "file_extension": ".py",
   "mimetype": "text/x-python",
   "name": "python",
   "nbconvert_exporter": "python",
   "pygments_lexer": "ipython3",
   "version": "3.9.13"
  }
 },
 "nbformat": 4,
 "nbformat_minor": 5
}
