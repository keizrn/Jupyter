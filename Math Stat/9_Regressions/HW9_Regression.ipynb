{
 "cells": [
  {
   "cell_type": "markdown",
   "id": "ef8746ff",
   "metadata": {},
   "source": [
    "# Домашняя работа 9. Линейная регрессия, Логистическая регрессия\n",
    "## Задача 1\n",
    "Даны значения величины заработной платы заемщиков банка (zp) и значения их поведенческого кредитного скоринга (ks): \n",
    "\n",
    "zp = [35, 45, 190, 200, 40, 70, 54, 150, 120, 110],<br>\n",
    "ks = [401, 574, 874, 919, 459, 739, 653, 902, 746, 832]. \n",
    "\n",
    "Используя математические операции, посчитать коэффициенты линейной регрессии, приняв за X заработную плату (то есть, zp - признак), а за y - значения скорингового балла (то есть, ks - целевая переменная). Произвести расчет как с использованием intercept, так и без.\n",
    "\n"
   ]
  },
  {
   "cell_type": "code",
   "execution_count": 1,
   "id": "ad467a06",
   "metadata": {},
   "outputs": [],
   "source": [
    "import numpy as np\n",
    "from scipy import stats\n",
    "from matplotlib import pyplot as plt"
   ]
  },
  {
   "cell_type": "code",
   "execution_count": 2,
   "id": "ed71b08d",
   "metadata": {},
   "outputs": [],
   "source": [
    "zp = np.array([35, 45, 190, 200, 40, 70, 54, 150, 120, 110])\n",
    "ks = np.array([401, 574, 874, 919, 459, 739, 653, 902, 746, 832])"
   ]
  },
  {
   "cell_type": "code",
   "execution_count": 3,
   "id": "45590165",
   "metadata": {},
   "outputs": [
    {
     "data": {
      "text/plain": [
       "0.8874900920739162"
      ]
     },
     "execution_count": 3,
     "metadata": {},
     "output_type": "execute_result"
    }
   ],
   "source": [
    "r = np.corrcoef(zp, ks) [1,0]\n",
    "r"
   ]
  },
  {
   "cell_type": "code",
   "execution_count": 4,
   "id": "2ae78349",
   "metadata": {},
   "outputs": [
    {
     "data": {
      "text/plain": [
       "<matplotlib.collections.PathCollection at 0x1cdf4733190>"
      ]
     },
     "execution_count": 4,
     "metadata": {},
     "output_type": "execute_result"
    },
    {
     "data": {
      "image/png": "[encoded data removed]",
      "text/plain": [
       "<Figure size 640x480 with 1 Axes>"
      ]
     },
     "metadata": {},
     "output_type": "display_data"
    }
   ],
   "source": [
    "plt.scatter(zp, ks)"
   ]
  },
  {
   "cell_type": "markdown",
   "id": "67e305fa",
   "metadata": {},
   "source": [
    "Коэффициент корреляции и график показывают высокую степень корреляции между переменными.\n",
    "#### Построим линейную регрессию"
   ]
  },
  {
   "cell_type": "code",
   "execution_count": 5,
   "id": "4c7a9baf",
   "metadata": {},
   "outputs": [],
   "source": [
    "from sklearn.linear_model import LinearRegression\n",
    "import pandas as pd"
   ]
  },
  {
   "cell_type": "code",
   "execution_count": 6,
   "id": "4f012ef8",
   "metadata": {},
   "outputs": [
    {
     "data": {
      "text/plain": [
       "array([[ 35],\n",
       "       [ 45],\n",
       "       [190],\n",
       "       [200],\n",
       "       [ 40],\n",
       "       [ 70],\n",
       "       [ 54],\n",
       "       [150],\n",
       "       [120],\n",
       "       [110]])"
      ]
     },
     "execution_count": 6,
     "metadata": {},
     "output_type": "execute_result"
    }
   ],
   "source": [
    "model = LinearRegression()\n",
    "zp_r = zp.reshape(-1, 1)\n",
    "zp_r"
   ]
  },
  {
   "cell_type": "code",
   "execution_count": 7,
   "id": "5c632fb4",
   "metadata": {},
   "outputs": [
    {
     "name": "stdout",
     "output_type": "stream",
     "text": [
      "Ответ: коэффициенты регрессии: (444.17735732435955, 2.6205388824027653)\n"
     ]
    }
   ],
   "source": [
    "regres = model.fit(zp_r, ks)\n",
    "print(f\"Ответ: коэффициенты регрессии: {regres.intercept_, regres.coef_[0]}\")"
   ]
  },
  {
   "cell_type": "code",
   "execution_count": 8,
   "id": "6f5c5073",
   "metadata": {},
   "outputs": [
    {
     "data": {
      "text/plain": [
       "array([535.89621821, 562.10160703, 942.07974498, 968.2851338 ,\n",
       "       548.99891262, 627.61507909, 585.68645697, 837.25818968,\n",
       "       758.64202321, 732.43663439])"
      ]
     },
     "execution_count": 8,
     "metadata": {},
     "output_type": "execute_result"
    }
   ],
   "source": [
    "ks_fc = model.predict(zp_r)\n",
    "ks_fc"
   ]
  },
  {
   "cell_type": "code",
   "execution_count": 9,
   "id": "62a7bd6e",
   "metadata": {},
   "outputs": [
    {
     "data": {
      "text/html": [
       "<div>\n",
       "<style scoped>\n",
       "    .dataframe tbody tr th:only-of-type {\n",
       "        vertical-align: middle;\n",
       "    }\n",
       "\n",
       "    .dataframe tbody tr th {\n",
       "        vertical-align: top;\n",
       "    }\n",
       "\n",
       "    .dataframe thead th {\n",
       "        text-align: right;\n",
       "    }\n",
       "</style>\n",
       "<table border=\"1\" class=\"dataframe\">\n",
       "  <thead>\n",
       "    <tr style=\"text-align: right;\">\n",
       "      <th></th>\n",
       "      <th>З/п</th>\n",
       "      <th>Реальный КР</th>\n",
       "      <th>Предск. КР</th>\n",
       "      <th>Разница</th>\n",
       "      <th>Разница, %</th>\n",
       "    </tr>\n",
       "  </thead>\n",
       "  <tbody>\n",
       "    <tr>\n",
       "      <th>0</th>\n",
       "      <td>35</td>\n",
       "      <td>401</td>\n",
       "      <td>535.90</td>\n",
       "      <td>134.90</td>\n",
       "      <td>33.64</td>\n",
       "    </tr>\n",
       "    <tr>\n",
       "      <th>1</th>\n",
       "      <td>45</td>\n",
       "      <td>574</td>\n",
       "      <td>562.10</td>\n",
       "      <td>-11.90</td>\n",
       "      <td>-2.07</td>\n",
       "    </tr>\n",
       "    <tr>\n",
       "      <th>2</th>\n",
       "      <td>190</td>\n",
       "      <td>874</td>\n",
       "      <td>942.08</td>\n",
       "      <td>68.08</td>\n",
       "      <td>7.79</td>\n",
       "    </tr>\n",
       "    <tr>\n",
       "      <th>3</th>\n",
       "      <td>200</td>\n",
       "      <td>919</td>\n",
       "      <td>968.29</td>\n",
       "      <td>49.29</td>\n",
       "      <td>5.36</td>\n",
       "    </tr>\n",
       "    <tr>\n",
       "      <th>4</th>\n",
       "      <td>40</td>\n",
       "      <td>459</td>\n",
       "      <td>549.00</td>\n",
       "      <td>90.00</td>\n",
       "      <td>19.61</td>\n",
       "    </tr>\n",
       "    <tr>\n",
       "      <th>5</th>\n",
       "      <td>70</td>\n",
       "      <td>739</td>\n",
       "      <td>627.62</td>\n",
       "      <td>-111.38</td>\n",
       "      <td>-15.07</td>\n",
       "    </tr>\n",
       "    <tr>\n",
       "      <th>6</th>\n",
       "      <td>54</td>\n",
       "      <td>653</td>\n",
       "      <td>585.69</td>\n",
       "      <td>-67.31</td>\n",
       "      <td>-10.31</td>\n",
       "    </tr>\n",
       "    <tr>\n",
       "      <th>7</th>\n",
       "      <td>150</td>\n",
       "      <td>902</td>\n",
       "      <td>837.26</td>\n",
       "      <td>-64.74</td>\n",
       "      <td>-7.18</td>\n",
       "    </tr>\n",
       "    <tr>\n",
       "      <th>8</th>\n",
       "      <td>120</td>\n",
       "      <td>746</td>\n",
       "      <td>758.64</td>\n",
       "      <td>12.64</td>\n",
       "      <td>1.69</td>\n",
       "    </tr>\n",
       "    <tr>\n",
       "      <th>9</th>\n",
       "      <td>110</td>\n",
       "      <td>832</td>\n",
       "      <td>732.44</td>\n",
       "      <td>-99.56</td>\n",
       "      <td>-11.97</td>\n",
       "    </tr>\n",
       "  </tbody>\n",
       "</table>\n",
       "</div>"
      ],
      "text/plain": [
       "   З/п  Реальный КР  Предск. КР  Разница  Разница, %\n",
       "0   35          401      535.90   134.90       33.64\n",
       "1   45          574      562.10   -11.90       -2.07\n",
       "2  190          874      942.08    68.08        7.79\n",
       "3  200          919      968.29    49.29        5.36\n",
       "4   40          459      549.00    90.00       19.61\n",
       "5   70          739      627.62  -111.38      -15.07\n",
       "6   54          653      585.69   -67.31      -10.31\n",
       "7  150          902      837.26   -64.74       -7.18\n",
       "8  120          746      758.64    12.64        1.69\n",
       "9  110          832      732.44   -99.56      -11.97"
      ]
     },
     "execution_count": 9,
     "metadata": {},
     "output_type": "execute_result"
    }
   ],
   "source": [
    "pd.set_option('display.float_format', '{:.2f}'.format)\n",
    "pd.DataFrame({'З/п': zp, 'Реальный КР': ks, 'Предск. КР': (ks_fc), 'Разница': (ks_fc - ks), 'Разница, %': (100*(ks_fc - ks)/ks)})"
   ]
  },
  {
   "cell_type": "code",
   "execution_count": 10,
   "id": "d87a55fa",
   "metadata": {},
   "outputs": [
    {
     "data": {
      "text/plain": [
       "Text(0.5, 1.0, 'y_fc = 444 + 3*x')"
      ]
     },
     "execution_count": 10,
     "metadata": {},
     "output_type": "execute_result"
    },
    {
     "data": {
      "image/png": "[encoded data removed]",
      "text/plain": [
       "<Figure size 640x480 with 1 Axes>"
      ]
     },
     "metadata": {},
     "output_type": "display_data"
    }
   ],
   "source": [
    "x_axis = np.arange(round(min(zp)*0.9), round(max(zp)*1.1, 1))\n",
    "y_axis = model.predict(x_axis.reshape(-1, 1))\n",
    "line_r = plt.plot(x_axis, y_axis, label='Linear Regression')\n",
    "\n",
    "plt.scatter(zp, ks, marker='D', c='m', label='Initial data')\n",
    "plt.legend()\n",
    "plt.title(f'y_fc = {round(regres.intercept_)} + {round(regres.coef_[0])}*x')"
   ]
  },
  {
   "cell_type": "markdown",
   "id": "a930d4ee",
   "metadata": {},
   "source": [
    "#### Используем матричный метод:"
   ]
  },
  {
   "cell_type": "code",
   "execution_count": 11,
   "id": "0e1ecaeb",
   "metadata": {},
   "outputs": [
    {
     "data": {
      "text/plain": [
       "array([[401],\n",
       "       [574],\n",
       "       [874],\n",
       "       [919],\n",
       "       [459],\n",
       "       [739],\n",
       "       [653],\n",
       "       [902],\n",
       "       [746],\n",
       "       [832]])"
      ]
     },
     "execution_count": 11,
     "metadata": {},
     "output_type": "execute_result"
    }
   ],
   "source": [
    "ks_r = ks.reshape(-1, 1)\n",
    "ks_r"
   ]
  },
  {
   "cell_type": "code",
   "execution_count": 12,
   "id": "6c660af5",
   "metadata": {},
   "outputs": [
    {
     "data": {
      "text/plain": [
       "array([[  1.,  35.],\n",
       "       [  1.,  45.],\n",
       "       [  1., 190.],\n",
       "       [  1., 200.],\n",
       "       [  1.,  40.],\n",
       "       [  1.,  70.],\n",
       "       [  1.,  54.],\n",
       "       [  1., 150.],\n",
       "       [  1., 120.],\n",
       "       [  1., 110.]])"
      ]
     },
     "execution_count": 12,
     "metadata": {},
     "output_type": "execute_result"
    }
   ],
   "source": [
    "zp_h = np.hstack([np.ones((len(zp), 1)), zp_r])\n",
    "zp_h"
   ]
  },
  {
   "cell_type": "code",
   "execution_count": 13,
   "id": "e99bc339",
   "metadata": {},
   "outputs": [
    {
     "data": {
      "text/plain": [
       "array([[444.17735732],\n",
       "       [  2.62053888]])"
      ]
     },
     "execution_count": 13,
     "metadata": {},
     "output_type": "execute_result"
    }
   ],
   "source": [
    "B = np.dot(np.linalg.inv(np.dot(zp_h.T, zp_h)), zp_h.T @ ks_r)\n",
    "B"
   ]
  },
  {
   "cell_type": "markdown",
   "id": "988e346a",
   "metadata": {},
   "source": [
    "Коэффициенты совпали. Осталось сделать проверки.\n",
    "#### Проверка №1. Независимость остатков\n",
    "\n",
    "С этой целью строится график зависимости остатков от теоретических значений результативного признака."
   ]
  },
  {
   "cell_type": "code",
   "execution_count": 14,
   "id": "d8839456",
   "metadata": {},
   "outputs": [
    {
     "data": {
      "text/plain": [
       "array([-134.89621821,   11.89839297,  -68.07974498,  -49.2851338 ,\n",
       "        -89.99891262,  111.38492091,   67.31354303,   64.74181032,\n",
       "        -12.64202321,   99.56336561])"
      ]
     },
     "execution_count": 14,
     "metadata": {},
     "output_type": "execute_result"
    }
   ],
   "source": [
    "resid = ks - ks_fc\n",
    "resid"
   ]
  },
  {
   "cell_type": "code",
   "execution_count": 15,
   "id": "61f803f2",
   "metadata": {},
   "outputs": [
    {
     "data": {
      "text/plain": [
       "<matplotlib.lines.Line2D at 0x1cdf6ff1760>"
      ]
     },
     "execution_count": 15,
     "metadata": {},
     "output_type": "execute_result"
    },
    {
     "data": {
      "image/png": "[encoded data removed]",
      "text/plain": [
       "<Figure size 640x480 with 1 Axes>"
      ]
     },
     "metadata": {},
     "output_type": "display_data"
    }
   ],
   "source": [
    "plt.scatter(ks_fc, resid, marker='o', c='g')\n",
    "\n",
    "plt.title(f'Зависимость остатков (resid) от ks_fc')\n",
    "plt.axhline(y=0, color='k')"
   ]
  },
  {
   "cell_type": "markdown",
   "id": "7c313756",
   "metadata": {},
   "source": [
    "Так как остатки распределены примерно одинаково в плюс и в минус в зависимости от расчетной величины кредитного скоринга, можно сделать вывод, что остатки независимы.\n",
    "#### Проверка №2. Нормальность остатков"
   ]
  },
  {
   "cell_type": "code",
   "execution_count": 16,
   "id": "e4cbf26f",
   "metadata": {},
   "outputs": [
    {
     "data": {
      "text/plain": [
       "ShapiroResult(statistic=0.9479533433914185, pvalue=0.6443524360656738)"
      ]
     },
     "execution_count": 16,
     "metadata": {},
     "output_type": "execute_result"
    }
   ],
   "source": [
    "stats.shapiro(resid)"
   ]
  },
  {
   "cell_type": "markdown",
   "id": "5d54c1f8",
   "metadata": {},
   "source": [
    "Так как p-value Теста Шапиро-Уилка больше, чем 0.05, то можно с большой долей уверенности предполагать, что остатки имеют нормальное распределение.\n",
    "#### Проверка №3. Значимость полученной модели (критерий Фишера)"
   ]
  },
  {
   "cell_type": "code",
   "execution_count": 17,
   "id": "ab5b4f8c",
   "metadata": {},
   "outputs": [
    {
     "data": {
      "text/plain": [
       "(1, 8)"
      ]
     },
     "execution_count": 17,
     "metadata": {},
     "output_type": "execute_result"
    }
   ],
   "source": [
    "n = zp.shape[0]\n",
    "m = 1\n",
    "k1 = m\n",
    "k2 = n - m - 1\n",
    "\n",
    "k1, k2"
   ]
  },
  {
   "cell_type": "code",
   "execution_count": 18,
   "id": "dcf7a340",
   "metadata": {},
   "outputs": [
    {
     "data": {
      "text/plain": [
       "5.317655071578714"
      ]
     },
     "execution_count": 18,
     "metadata": {},
     "output_type": "execute_result"
    }
   ],
   "source": [
    "alpha = 0.05\n",
    "t = stats.f.ppf(1 - alpha, k1, k2)\n",
    "t # находим t-статистику"
   ]
  },
  {
   "cell_type": "code",
   "execution_count": 19,
   "id": "d2a53ebf",
   "metadata": {},
   "outputs": [
    {
     "data": {
      "text/plain": [
       "29.671640859664432"
      ]
     },
     "execution_count": 19,
     "metadata": {},
     "output_type": "execute_result"
    }
   ],
   "source": [
    "R2 = r**2\n",
    "F = (R2 / k1) / ((1 - R2) / k2)\n",
    "F"
   ]
  },
  {
   "cell_type": "markdown",
   "id": "fd7ad5bc",
   "metadata": {},
   "source": [
    "Нулевая гипотеза (о том, что коэффициенты не имеют значения, или иными словами $R^2 = 0$) отвергается. Значит, найденные коэффициенты имеют значение.\n",
    "\n",
    "Так как статистика ($t = 5.32$) меньше, чем критическое значение ($F = 29.67$)"
   ]
  },
  {
   "cell_type": "markdown",
   "id": "da471ea3",
   "metadata": {},
   "source": [
    "## Задача 2\n",
    "Посчитать коэффициент линейной регрессии при заработной плате (zp), используя градиентный спуск (без intercept)."
   ]
  },
  {
   "cell_type": "code",
   "execution_count": 29,
   "id": "72d86559",
   "metadata": {},
   "outputs": [],
   "source": [
    "def mse2(B_1, y, x, n):\n",
    "    return np.sum((B_1 * x - y)**2)/n"
   ]
  },
  {
   "cell_type": "code",
   "execution_count": 34,
   "id": "e59fbc1a",
   "metadata": {},
   "outputs": [],
   "source": [
    "alpha = 1e-6\n",
    "B1 = 1\n",
    "n = zp.shape[0]"
   ]
  },
  {
   "cell_type": "code",
   "execution_count": 35,
   "id": "16ed48fa",
   "metadata": {},
   "outputs": [
    {
     "name": "stdout",
     "output_type": "stream",
     "text": [
      "B1 = 5.889820420132673\n"
     ]
    }
   ],
   "source": [
    "for _ in range(10000):\n",
    "    B1 -= alpha * (2/n) * np.sum((B1 * zp - ks) * zp)\n",
    "print('B1 = {}'.format(B1))"
   ]
  },
  {
   "cell_type": "code",
   "execution_count": 36,
   "id": "15ae772e",
   "metadata": {},
   "outputs": [
    {
     "name": "stdout",
     "output_type": "stream",
     "text": [
      "Iteration = 0, B1 = 1.1347302, mse = 368017.9491755833\n",
      "Iteration = 500, B1 = 5.8898163455368975, mse = 56516.85841594815\n",
      "Iteration = 1000, B1 = 5.8898204201291975, mse = 56516.8584157194\n",
      "Iteration = 1500, B1 = 5.889820420132673, mse = 56516.85841571943\n",
      "Iteration = 2000, B1 = 5.889820420132673, mse = 56516.85841571943\n",
      "Iteration = 2500, B1 = 5.889820420132673, mse = 56516.85841571943\n",
      "Iteration = 3000, B1 = 5.889820420132673, mse = 56516.85841571943\n",
      "Iteration = 3500, B1 = 5.889820420132673, mse = 56516.85841571943\n",
      "Iteration = 4000, B1 = 5.889820420132673, mse = 56516.85841571943\n",
      "Iteration = 4500, B1 = 5.889820420132673, mse = 56516.85841571943\n",
      "Iteration = 5000, B1 = 5.889820420132673, mse = 56516.85841571943\n"
     ]
    }
   ],
   "source": [
    "B1 = 1\n",
    "for i in range(5001):\n",
    "    B1 -= alpha * (2/n) * np.sum ((B1* zp - ks) * zp)\n",
    "    if i % 500 == 0:\n",
    "        print(f'Iteration = {i}, B1 = {B1}, mse = {mse2(B1, ks, zp, n)}')"
   ]
  },
  {
   "cell_type": "markdown",
   "id": "02c24f88",
   "metadata": {},
   "source": [
    "## Задача 3\n",
    "\n",
    "(Дополнительно). Произвести вычисления как в пункте 2, но с вычислением intercept. Учесть, что изменение коэффициентов должно производиться на каждом шаге одновременно (то есть изменение одного коэффициента не должно влиять на изменение другого во время одной итерации)."
   ]
  },
  {
   "cell_type": "code",
   "execution_count": 45,
   "id": "9da4ee57",
   "metadata": {},
   "outputs": [],
   "source": [
    "def mse3(B_0, B_1, y, x, n):\n",
    "    return np.sum((B_0 + B_1 * x - y)**2) / n"
   ]
  },
  {
   "cell_type": "code",
   "execution_count": 66,
   "id": "0825c563",
   "metadata": {},
   "outputs": [
    {
     "data": {
      "text/plain": [
       "10"
      ]
     },
     "execution_count": 66,
     "metadata": {},
     "output_type": "execute_result"
    }
   ],
   "source": [
    "alpha = 0.00001\n",
    "alpha2 = 0.01\n",
    "B1 = 1\n",
    "B0 = 1000\n",
    "n = zp.shape[0]\n",
    "n"
   ]
  },
  {
   "cell_type": "code",
   "execution_count": 70,
   "id": "eb64399e",
   "metadata": {},
   "outputs": [
    {
     "name": "stdout",
     "output_type": "stream",
     "text": [
      "Iteration = 0, B0 = 444.17735732436546, B1 = 2.6205388824027214, mse = 6470.41420117666\n",
      "Iteration = 500, B0 = 444.17735732436546, B1 = 2.6205388824027214, mse = 6470.41420117666\n",
      "Iteration = 1000, B0 = 444.17735732436546, B1 = 2.6205388824027214, mse = 6470.41420117666\n",
      "Iteration = 1500, B0 = 444.17735732436546, B1 = 2.6205388824027214, mse = 6470.41420117666\n",
      "Iteration = 2000, B0 = 444.17735732436546, B1 = 2.6205388824027214, mse = 6470.41420117666\n",
      "Iteration = 2500, B0 = 444.17735732436546, B1 = 2.6205388824027214, mse = 6470.41420117666\n",
      "Iteration = 3000, B0 = 444.17735732436546, B1 = 2.6205388824027214, mse = 6470.41420117666\n",
      "Iteration = 3500, B0 = 444.17735732436546, B1 = 2.6205388824027214, mse = 6470.41420117666\n",
      "Iteration = 4000, B0 = 444.17735732436546, B1 = 2.6205388824027214, mse = 6470.41420117666\n",
      "Iteration = 4500, B0 = 444.17735732436546, B1 = 2.6205388824027214, mse = 6470.41420117666\n",
      "Iteration = 5000, B0 = 444.17735732436546, B1 = 2.6205388824027214, mse = 6470.41420117666\n",
      "Iteration = 5500, B0 = 444.17735732436546, B1 = 2.6205388824027214, mse = 6470.41420117666\n",
      "Iteration = 6000, B0 = 444.17735732436546, B1 = 2.6205388824027214, mse = 6470.41420117666\n",
      "Iteration = 6500, B0 = 444.17735732436546, B1 = 2.6205388824027214, mse = 6470.41420117666\n",
      "Iteration = 7000, B0 = 444.17735732436546, B1 = 2.6205388824027214, mse = 6470.41420117666\n",
      "Iteration = 7500, B0 = 444.17735732436546, B1 = 2.6205388824027214, mse = 6470.41420117666\n",
      "Iteration = 8000, B0 = 444.17735732436546, B1 = 2.6205388824027214, mse = 6470.41420117666\n",
      "Iteration = 8500, B0 = 444.17735732436546, B1 = 2.6205388824027214, mse = 6470.41420117666\n",
      "Iteration = 9000, B0 = 444.17735732436546, B1 = 2.6205388824027214, mse = 6470.41420117666\n",
      "Iteration = 9500, B0 = 444.17735732436546, B1 = 2.6205388824027214, mse = 6470.41420117666\n",
      "Iteration = 10000, B0 = 444.17735732436546, B1 = 2.6205388824027214, mse = 6470.41420117666\n",
      "B0 = 444.17735732436546\n",
      "B1 = 2.6205388824027214\n"
     ]
    }
   ],
   "source": [
    "for i in range(10001):\n",
    "    temp = B1\n",
    "    B1 -= alpha * (2/n) * np.sum((B0 + B1 * zp - ks) * zp)\n",
    "    B0 -= alpha2 * (2/n) * np.sum(B0 + temp * zp - ks)\n",
    "    if i % 500 == 0:\n",
    "        print(f'Iteration = {i}, B0 = {B0}, B1 = {B1}, mse = {mse3(B0, B1, ks, zp, n)}')\n",
    "print('B0 = {}'.format(B0), 'B1 = {}'.format(B1), sep='\\n')"
   ]
  },
  {
   "cell_type": "code",
   "execution_count": null,
   "id": "017eae41",
   "metadata": {},
   "outputs": [],
   "source": []
  }
 ],
 "metadata": {
  "kernelspec": {
   "display_name": "Python 3 (ipykernel)",
   "language": "python",
   "name": "python3"
  },
  "language_info": {
   "codemirror_mode": {
    "name": "ipython",
    "version": 3
   },
   "file_extension": ".py",
   "mimetype": "text/x-python",
   "name": "python",
   "nbconvert_exporter": "python",
   "pygments_lexer": "ipython3",
   "version": "3.9.13"
  }
 },
 "nbformat": 4,
 "nbformat_minor": 5
}
