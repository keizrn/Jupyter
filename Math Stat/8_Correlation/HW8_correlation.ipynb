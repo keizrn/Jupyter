{
 "cells": [
  {
   "cell_type": "markdown",
   "id": "46c88e56",
   "metadata": {},
   "source": [
    "### Задача 1\n",
    "Даны значения величины заработной платы заемщиков банка (zp) и значения их поведенческого кредитного скоринга (ks):\n",
    "zp = [35, 45, 190, 200, 40, 70, 54, 150, 120, 110],\n",
    "\n",
    "ks = [401, 574, 874, 919, 459, 739, 653, 902, 746, 832].\n",
    "\n",
    "Найдите ковариацию этих двух величин с помощью элементарных действий, а затем с помощью функции cov из numpy\n",
    "\n",
    "Полученные значения должны быть равны.\n",
    "\n",
    "Найдите коэффициент корреляции Пирсона с помощью ковариации и среднеквадратичных отклонений двух признаков, а затем с использованием функций из библиотек numpy и pandas.\n"
   ]
  },
  {
   "cell_type": "code",
   "execution_count": 1,
   "id": "e8f4b636",
   "metadata": {},
   "outputs": [],
   "source": [
    "import numpy as np\n",
    "import math\n",
    "from matplotlib import pyplot as plt\n",
    "from scipy import stats"
   ]
  },
  {
   "cell_type": "code",
   "execution_count": 2,
   "id": "c1b8ee19",
   "metadata": {},
   "outputs": [
    {
     "name": "stdout",
     "output_type": "stream",
     "text": [
      "[ 35  45 190 200  40  70  54 150 120 110]\n",
      "[401 574 874 919 459 739 653 902 746 832]\n"
     ]
    }
   ],
   "source": [
    "zp = np.array([35, 45, 190, 200, 40, 70, 54, 150, 120, 110])\n",
    "ks = np.array([401, 574, 874, 919, 459, 739, 653, 902, 746, 832])\n",
    "print(zp, ks, sep='\\n')"
   ]
  },
  {
   "cell_type": "code",
   "execution_count": 3,
   "id": "aff1ef86",
   "metadata": {},
   "outputs": [
    {
     "data": {
      "text/plain": [
       "(101.4, True)"
      ]
     },
     "execution_count": 3,
     "metadata": {},
     "output_type": "execute_result"
    }
   ],
   "source": [
    "mu1 = sum(zp) / len(zp) # Находим среднее значение (мат. ожидание) з/п\n",
    "mu1, (mu1 == np.mean(zp)) # и проверяем"
   ]
  },
  {
   "cell_type": "code",
   "execution_count": 4,
   "id": "d13819c4",
   "metadata": {},
   "outputs": [
    {
     "data": {
      "text/plain": [
       "(709.9, True)"
      ]
     },
     "execution_count": 4,
     "metadata": {},
     "output_type": "execute_result"
    }
   ],
   "source": [
    "mu2 = sum(ks) / len(ks) # находим мат.ожидание по кредитному рейтингу\n",
    "mu2, (mu2 == np.mean(ks)) # и проверям/"
   ]
  },
  {
   "cell_type": "code",
   "execution_count": 5,
   "id": "078978bb",
   "metadata": {},
   "outputs": [
    {
     "data": {
      "text/plain": [
       "array([ 14035,  25830, 166060, 183800,  18360,  51730,  35262, 135300,\n",
       "        89520,  91520])"
      ]
     },
     "execution_count": 5,
     "metadata": {},
     "output_type": "execute_result"
    }
   ],
   "source": [
    "multip = zp*ks # Перемножаем два списка по-элементно\n",
    "multip"
   ]
  },
  {
   "cell_type": "code",
   "execution_count": 6,
   "id": "34f23671",
   "metadata": {},
   "outputs": [
    {
     "data": {
      "text/plain": [
       "(81141.7, True)"
      ]
     },
     "execution_count": 6,
     "metadata": {},
     "output_type": "execute_result"
    }
   ],
   "source": [
    "mu_mult = sum(multip) / len(multip) # находим мат. ожидание списка-произведения\n",
    "mu_mult, (mu_mult == np.mean(multip)) # и проверяем"
   ]
  },
  {
   "cell_type": "code",
   "execution_count": 7,
   "id": "ad00e740",
   "metadata": {},
   "outputs": [
    {
     "data": {
      "text/plain": [
       "9157.839999999997"
      ]
     },
     "execution_count": 7,
     "metadata": {},
     "output_type": "execute_result"
    }
   ],
   "source": [
    "covar = mu_mult - mu1 * mu2 # находим смещенную ковариацию (хотя зачем?)\n",
    "covar"
   ]
  },
  {
   "cell_type": "code",
   "execution_count": 8,
   "id": "60e119b9",
   "metadata": {},
   "outputs": [
    {
     "data": {
      "text/plain": [
       "array([[ 3494.64,  9157.84],\n",
       "       [ 9157.84, 30468.89]])"
      ]
     },
     "execution_count": 8,
     "metadata": {},
     "output_type": "execute_result"
    }
   ],
   "source": [
    "covar_auto = np.cov(zp, ks, ddof=0) # смещенная ковариация\n",
    "covar_auto"
   ]
  },
  {
   "cell_type": "code",
   "execution_count": 9,
   "id": "96030690",
   "metadata": {},
   "outputs": [
    {
     "name": "stdout",
     "output_type": "stream",
     "text": [
      "Проверим, что найденная вручную смещенная ковариация верна: True\n"
     ]
    }
   ],
   "source": [
    "print(f\"Проверим, что найденная вручную смещенная ковариация верна: {round(covar, 2) == round(covar_auto[0][1], 2)}\")"
   ]
  },
  {
   "cell_type": "markdown",
   "id": "e7029d7f",
   "metadata": {},
   "source": [
    "#### Теперь найдем несмещенную ковариацию:"
   ]
  },
  {
   "cell_type": "code",
   "execution_count": 10,
   "id": "574516d2",
   "metadata": {},
   "outputs": [
    {
     "data": {
      "text/plain": [
       "[-66.4,\n",
       " -56.400000000000006,\n",
       " 88.6,\n",
       " 98.6,\n",
       " -61.400000000000006,\n",
       " -31.400000000000006,\n",
       " -47.400000000000006,\n",
       " 48.599999999999994,\n",
       " 18.599999999999994,\n",
       " 8.599999999999994]"
      ]
     },
     "execution_count": 10,
     "metadata": {},
     "output_type": "execute_result"
    }
   ],
   "source": [
    "zp_diff = list(map(lambda m: m-mu1, zp)) # составляем список из разностей (элемент - мат.ожидание)\n",
    "zp_diff"
   ]
  },
  {
   "cell_type": "code",
   "execution_count": 11,
   "id": "f8d8917d",
   "metadata": {},
   "outputs": [
    {
     "data": {
      "text/plain": [
       "[-308.9,\n",
       " -135.89999999999998,\n",
       " 164.10000000000002,\n",
       " 209.10000000000002,\n",
       " -250.89999999999998,\n",
       " 29.100000000000023,\n",
       " -56.89999999999998,\n",
       " 192.10000000000002,\n",
       " 36.10000000000002,\n",
       " 122.10000000000002]"
      ]
     },
     "execution_count": 11,
     "metadata": {},
     "output_type": "execute_result"
    }
   ],
   "source": [
    "ks_diff = list(map(lambda n: n-mu2, ks))\n",
    "ks_diff"
   ]
  },
  {
   "cell_type": "code",
   "execution_count": 12,
   "id": "72d7b69e",
   "metadata": {},
   "outputs": [
    {
     "data": {
      "text/plain": [
       "[20510.96,\n",
       " 7664.759999999999,\n",
       " 14539.26,\n",
       " 20617.260000000002,\n",
       " 15405.26,\n",
       " -913.7400000000009,\n",
       " 2697.059999999999,\n",
       " 9336.06,\n",
       " 671.4600000000003,\n",
       " 1050.0599999999995]"
      ]
     },
     "execution_count": 12,
     "metadata": {},
     "output_type": "execute_result"
    }
   ],
   "source": [
    "mult_diff = [zp_diff[i] * ks_diff[i] for i in range(len(zp))] # составляем список произведений разностей\n",
    "mult_diff"
   ]
  },
  {
   "cell_type": "code",
   "execution_count": 13,
   "id": "28b17899",
   "metadata": {},
   "outputs": [
    {
     "data": {
      "text/plain": [
       "10175.377777777776"
      ]
     },
     "execution_count": 13,
     "metadata": {},
     "output_type": "execute_result"
    }
   ],
   "source": [
    "covar_1 = (1/(len(zp) - 1))*sum(mult_diff) # несмещенная ковариация\n",
    "covar_1"
   ]
  },
  {
   "cell_type": "code",
   "execution_count": 14,
   "id": "130093be",
   "metadata": {},
   "outputs": [
    {
     "data": {
      "text/plain": [
       "array([[ 3882.93333333, 10175.37777778],\n",
       "       [10175.37777778, 33854.32222222]])"
      ]
     },
     "execution_count": 14,
     "metadata": {},
     "output_type": "execute_result"
    }
   ],
   "source": [
    "covar_auto_1 = np.cov(zp, ks, ddof=1)\n",
    "covar_auto_1"
   ]
  },
  {
   "cell_type": "code",
   "execution_count": 15,
   "id": "9b473362",
   "metadata": {},
   "outputs": [
    {
     "name": "stdout",
     "output_type": "stream",
     "text": [
      "Проверим, что найденная вручную несмещенная ковариация верна: True\n"
     ]
    }
   ],
   "source": [
    "print(f\"Проверим, что найденная вручную несмещенная ковариация верна: {round(covar_1, 2) == round(covar_auto_1[0][1], 2)}\")"
   ]
  },
  {
   "cell_type": "code",
   "execution_count": 16,
   "id": "8a2809a2",
   "metadata": {},
   "outputs": [
    {
     "name": "stdout",
     "output_type": "stream",
     "text": [
      "Ответ: несмещенная ковариация равна = 10175.378\n"
     ]
    }
   ],
   "source": [
    "print(f\"Ответ: несмещенная ковариация равна = {round(covar_1, 3)}\")"
   ]
  },
  {
   "cell_type": "markdown",
   "id": "105766ed",
   "metadata": {},
   "source": [
    "#### Найдем коэффициент корреляции Пирсона:"
   ]
  },
  {
   "cell_type": "code",
   "execution_count": 17,
   "id": "c7ca752b",
   "metadata": {},
   "outputs": [
    {
     "data": {
      "text/plain": [
       "[4408.960000000001,\n",
       " 3180.9600000000005,\n",
       " 7849.959999999999,\n",
       " 9721.96,\n",
       " 3769.9600000000005,\n",
       " 985.9600000000004,\n",
       " 2246.7600000000007,\n",
       " 2361.9599999999996,\n",
       " 345.9599999999998,\n",
       " 73.95999999999991]"
      ]
     },
     "execution_count": 17,
     "metadata": {},
     "output_type": "execute_result"
    }
   ],
   "source": [
    "zp_diffsq = list(map(lambda k: k**2, zp_diff))\n",
    "zp_diffsq"
   ]
  },
  {
   "cell_type": "code",
   "execution_count": 18,
   "id": "3951153d",
   "metadata": {},
   "outputs": [
    {
     "data": {
      "text/plain": [
       "(3882.9333333333334, 62.31318747531162)"
      ]
     },
     "execution_count": 18,
     "metadata": {},
     "output_type": "execute_result"
    }
   ],
   "source": [
    "var_zp = sum(zp_diffsq) / (len(zp) - 1) # работаем с несмещенными показателями\n",
    "sd_zp = math.sqrt(var_zp)\n",
    "var_zp, sd_zp"
   ]
  },
  {
   "cell_type": "code",
   "execution_count": 19,
   "id": "a616e841",
   "metadata": {},
   "outputs": [
    {
     "data": {
      "text/plain": [
       "[95419.20999999999,\n",
       " 18468.809999999994,\n",
       " 26928.81000000001,\n",
       " 43722.81000000001,\n",
       " 62950.80999999999,\n",
       " 846.8100000000013,\n",
       " 3237.6099999999974,\n",
       " 36902.41000000001,\n",
       " 1303.2100000000016,\n",
       " 14908.410000000005]"
      ]
     },
     "execution_count": 19,
     "metadata": {},
     "output_type": "execute_result"
    }
   ],
   "source": [
    "ks_diffsq = list(map(lambda k: k**2, ks_diff))\n",
    "ks_diffsq"
   ]
  },
  {
   "cell_type": "code",
   "execution_count": 20,
   "id": "a698022f",
   "metadata": {},
   "outputs": [
    {
     "data": {
      "text/plain": [
       "(33854.32222222223, 183.99544076477068)"
      ]
     },
     "execution_count": 20,
     "metadata": {},
     "output_type": "execute_result"
    }
   ],
   "source": [
    "var_ks = sum(ks_diffsq) / (len(ks) - 1)\n",
    "sd_ks = math.sqrt(var_ks)\n",
    "var_ks, sd_ks"
   ]
  },
  {
   "cell_type": "code",
   "execution_count": 21,
   "id": "c5c1d60c",
   "metadata": {},
   "outputs": [
    {
     "data": {
      "text/plain": [
       "0.887490092073916"
      ]
     },
     "execution_count": 21,
     "metadata": {},
     "output_type": "execute_result"
    }
   ],
   "source": [
    "corr_1 = covar_1 / (sd_zp * sd_ks)\n",
    "corr_1"
   ]
  },
  {
   "cell_type": "code",
   "execution_count": 22,
   "id": "67ab39a9",
   "metadata": {},
   "outputs": [
    {
     "data": {
      "text/plain": [
       "array([[1.        , 0.88749009],\n",
       "       [0.88749009, 1.        ]])"
      ]
     },
     "execution_count": 22,
     "metadata": {},
     "output_type": "execute_result"
    }
   ],
   "source": [
    "corr_auto_1 = np.corrcoef(zp, ks)\n",
    "corr_auto_1"
   ]
  },
  {
   "cell_type": "code",
   "execution_count": 23,
   "id": "518ce0d6",
   "metadata": {},
   "outputs": [
    {
     "name": "stdout",
     "output_type": "stream",
     "text": [
      "Проверим, что коэффициент корреляции, найденный вручную, верен: True\n"
     ]
    }
   ],
   "source": [
    "print(f\"Проверим, что коэффициент корреляции, найденный вручную, верен: {round(corr_1, 2) == round(corr_auto_1[0][1], 2)}\")"
   ]
  },
  {
   "cell_type": "code",
   "execution_count": 24,
   "id": "d8443a83",
   "metadata": {},
   "outputs": [
    {
     "name": "stdout",
     "output_type": "stream",
     "text": [
      "Ответ: коэффициент корреляции Пирсона = 0.887\n"
     ]
    }
   ],
   "source": [
    "print(f\"Ответ: коэффициент корреляции Пирсона = {round(corr_1, 3)}\")"
   ]
  },
  {
   "cell_type": "markdown",
   "id": "ab95b1c8",
   "metadata": {},
   "source": [
    "### Задача 2\n",
    "Измерены значения IQ выборки студентов,\n",
    "обучающихся в местных технических вузах:\n",
    "\n",
    "131, 125, 115, 122, 131, 115, 107, 99, 125, 111.\n",
    "\n",
    "Известно, что в генеральной совокупности IQ распределен нормально.\n",
    "\n",
    "Найдите доверительный интервал для математического ожидания с надежностью 0.95.\n",
    "\n",
    "### Решение\n",
    "используем в данном случае распределение Стьюдента, так как дисперсия генеральной совокупности нам неизвестна, и размер выборки относительно мал."
   ]
  },
  {
   "cell_type": "code",
   "execution_count": 25,
   "id": "28d6d615",
   "metadata": {},
   "outputs": [
    {
     "data": {
      "text/plain": [
       "(-2.262157162740992, 2.2621571627409915)"
      ]
     },
     "execution_count": 25,
     "metadata": {},
     "output_type": "execute_result"
    }
   ],
   "source": [
    "iq = np.array([131, 125, 115, 122, 131, 115, 107, 99, 125, 111])\n",
    "alpha = 0.05\n",
    "mu_iq = np.mean(iq)\n",
    "sd_iq = np.std(iq, ddof=1)\n",
    "len_iq = len(iq)\n",
    "\n",
    "t_cr1 = stats.t.ppf(alpha/2, df=(len(iq) - 1))\n",
    "t_cr2 = stats.t.ppf(1 - alpha/2, df=(len(iq) - 1))\n",
    "t_cr1, t_cr2"
   ]
  },
  {
   "cell_type": "code",
   "execution_count": 26,
   "id": "69b4f882",
   "metadata": {},
   "outputs": [
    {
     "name": "stdout",
     "output_type": "stream",
     "text": [
      "Доверительный интервал: (110.56 : 125.64) \n"
     ]
    }
   ],
   "source": [
    "l_1 = mu_iq + t_cr1 * sd_iq/math.sqrt(len_iq)\n",
    "u_1 = mu_iq + t_cr2 * sd_iq/math.sqrt(len_iq)\n",
    "print(f\"Доверительный интервал: ({round(l_1, 2)} : {round(u_1, 2)}) \")"
   ]
  },
  {
   "cell_type": "code",
   "execution_count": 27,
   "id": "d8b6f703",
   "metadata": {},
   "outputs": [
    {
     "data": {
      "text/plain": [
       "15.087832696825501"
      ]
     },
     "execution_count": 27,
     "metadata": {},
     "output_type": "execute_result"
    }
   ],
   "source": [
    "u_1 - l_1"
   ]
  },
  {
   "cell_type": "code",
   "execution_count": 28,
   "id": "750b1825",
   "metadata": {},
   "outputs": [
    {
     "data": {
      "text/plain": [
       "(110.55608365158724, 125.64391634841274)"
      ]
     },
     "execution_count": 28,
     "metadata": {},
     "output_type": "execute_result"
    }
   ],
   "source": [
    "stats.t.interval(1 - alpha, df=len(iq)-1, loc=mu_iq, scale=stats.sem(iq)) # проверим"
   ]
  },
  {
   "cell_type": "code",
   "execution_count": 29,
   "id": "113ae81a",
   "metadata": {},
   "outputs": [
    {
     "data": {
      "text/plain": [
       "Text(118.1, 0.018914984086593045, 'Доверительный\\n интервал')"
      ]
     },
     "execution_count": 29,
     "metadata": {},
     "output_type": "execute_result"
    },
    {
     "data": {
      "image/png": "[encoded data removed]",
      "text/plain": [
       "<Figure size 640x480 with 1 Axes>"
      ]
     },
     "metadata": {},
     "output_type": "display_data"
    }
   ],
   "source": [
    "x_axis = np.arange(min(iq), max(iq), 0.1)\n",
    "y_axis = stats.norm.pdf(x_axis, mu_iq, sd_iq)\n",
    "plt.plot(x_axis, y_axis)\n",
    "iq_normal = np.random.normal(loc=mu_iq, scale=stats.sem(iq), size=100) # случайные нормально распределенные значения с mu & sem\n",
    "# так как значения разные, то нужно перезапускать эту часть, каждый раз немного по-разному\n",
    "# но не более 5 значений из 100 выпадает, что подтверждает 95% доверительный интервал\n",
    "\n",
    "plt.scatter(iq_normal, stats.norm.pdf(iq_normal, mu_iq, sd_iq), alpha=0.5, color='orange')\n",
    "plt.scatter(iq, stats.norm.pdf(iq, mu_iq, sd_iq), color='darkblue')\n",
    "plt.axvline(l_1, color='darkorchid')\n",
    "plt.axvline(u_1, color='darkorchid')\n",
    "plt.fill_between(x_axis, y_axis,\n",
    "                where=(x_axis>l_1) & (x_axis < u_1),\n",
    "                color='slateblue', alpha=0.4)\n",
    "plt.annotate('Доверительный\\n интервал', xy=(mu_iq, max(y_axis)/2), horizontalalignment='center',\n",
    "            bbox=dict(facecolor=\"lightblue\"))\n"
   ]
  },
  {
   "cell_type": "code",
   "execution_count": 30,
   "id": "773ba944",
   "metadata": {},
   "outputs": [
    {
     "name": "stdout",
     "output_type": "stream",
     "text": [
      "Ответ: Доверительный интервал: (110.56 : 125.64) \n"
     ]
    }
   ],
   "source": [
    "print(f\"Ответ: Доверительный интервал: ({round(l_1, 2)} : {round(u_1, 2)}) \")"
   ]
  },
  {
   "cell_type": "markdown",
   "id": "0ffcac03",
   "metadata": {},
   "source": [
    "### Задача 3\n",
    "Известно, что рост футболистов в сборной распределен нормально с дисперсией генеральной совокупности, равной 25 кв.см. Объем выборки равен 27, среднее выборочное составляет 174.2. Найдите доверительный интервал для математического ожидания с надежностью 0.95.\n",
    "\n",
    "### Решение\n",
    "Будем использовать нормальное распределение, так как известна дисперсия генеральной совокупности."
   ]
  },
  {
   "cell_type": "code",
   "execution_count": 31,
   "id": "6c24591b",
   "metadata": {},
   "outputs": [
    {
     "name": "stdout",
     "output_type": "stream",
     "text": [
      "Доверительный интервал: (172.31 : 176.09) \n"
     ]
    }
   ],
   "source": [
    "alpha = 0.05\n",
    "len_f = 27\n",
    "var_f = 25\n",
    "mu_f = 174.2\n",
    "sd_f = math.sqrt(var_f)\n",
    "\n",
    "z_cr1 = stats.norm.ppf(alpha/2)\n",
    "z_cr2 = stats.norm.ppf(1 - alpha/2)\n",
    "lf_3 = mu_f + z_cr1 * (math.sqrt(var_f / len_f))\n",
    "uf_3 = mu_f + z_cr2 * (math.sqrt(var_f / len_f))\n",
    "print(f\"Доверительный интервал: ({round(lf_3, 2)} : {round(uf_3, 2)}) \")"
   ]
  },
  {
   "cell_type": "markdown",
   "id": "5bccf6ab",
   "metadata": {},
   "source": [
    "С другой стороны, выборка слишком мала (встречала в литературе, что выборка должна быть >30). Попробуем использовать критерий Стьюдента:"
   ]
  },
  {
   "cell_type": "code",
   "execution_count": 32,
   "id": "94ca48ae",
   "metadata": {},
   "outputs": [
    {
     "name": "stdout",
     "output_type": "stream",
     "text": [
      "Доверительный интервал: (172.22 : 176.18) \n"
     ]
    }
   ],
   "source": [
    "tf_cr1 = stats.t.ppf(alpha/2, df=len_f - 1)\n",
    "tf_cr2 = stats.t.ppf(1 - alpha/2, df=len_f - 1)\n",
    "lf_3a = mu_f + tf_cr1 * (math.sqrt(var_f / len_f))\n",
    "uf_3a = mu_f + tf_cr2 * (math.sqrt(var_f / len_f))\n",
    "print(f\"Доверительный интервал: ({round(lf_3a, 2)} : {round(uf_3a, 2)}) \")"
   ]
  },
  {
   "cell_type": "markdown",
   "id": "05f0ff73",
   "metadata": {},
   "source": [
    "Разница между нормальным и распределением Стьюдента незначительна. Продолжим работу с нормальным."
   ]
  },
  {
   "cell_type": "code",
   "execution_count": 33,
   "id": "1fd64386",
   "metadata": {},
   "outputs": [
    {
     "data": {
      "text/plain": [
       "<matplotlib.collections.PathCollection at 0x1f3bb530c40>"
      ]
     },
     "execution_count": 33,
     "metadata": {},
     "output_type": "execute_result"
    },
    {
     "data": {
      "image/png": "[encoded data removed]",
      "text/plain": [
       "<Figure size 640x480 with 1 Axes>"
      ]
     },
     "metadata": {},
     "output_type": "display_data"
    }
   ],
   "source": [
    "players = np.random.normal(loc=mu_f, scale=math.sqrt(var_f), size=100)\n",
    "plt.scatter(range(len(players)), players)"
   ]
  },
  {
   "cell_type": "code",
   "execution_count": 34,
   "id": "fa9a1932",
   "metadata": {},
   "outputs": [
    {
     "data": {
      "text/plain": [
       "(172.3140237765397, 176.08597622346028)"
      ]
     },
     "execution_count": 34,
     "metadata": {},
     "output_type": "execute_result"
    }
   ],
   "source": [
    "stats.norm.interval(1 - alpha, loc=mu_f, scale=math.sqrt(var_f/len_f))"
   ]
  },
  {
   "cell_type": "code",
   "execution_count": 35,
   "id": "66eccdc9",
   "metadata": {},
   "outputs": [
    {
     "data": {
      "text/plain": [
       "<matplotlib.lines.Line2D at 0x1f3bb5abc70>"
      ]
     },
     "execution_count": 35,
     "metadata": {},
     "output_type": "execute_result"
    },
    {
     "data": {
      "image/png": "[encoded data removed]",
      "text/plain": [
       "<Figure size 640x480 with 1 Axes>"
      ]
     },
     "metadata": {},
     "output_type": "display_data"
    }
   ],
   "source": [
    "x_axis = np.arange(lf_3-(uf_3 - lf_3)/2, uf_3+(uf_3 - lf_3)/2, 0.1)\n",
    "y_axis = stats.norm.pdf(x_axis, mu_f, math.sqrt(var_f))\n",
    "plt.plot(x_axis, y_axis)\n",
    "f_normal = np.random.normal(loc=mu_f, scale=math.sqrt(var_f/len_f), size=100)\n",
    "plt.scatter(f_normal, stats.norm.pdf(f_normal, mu_f, sd_f), alpha=0.5, color='orange')\n",
    "plt.axvline(lf_3, color='magenta')\n",
    "plt.axvline(uf_3, color='magenta')\n"
   ]
  },
  {
   "cell_type": "code",
   "execution_count": 36,
   "id": "7a596538",
   "metadata": {},
   "outputs": [
    {
     "name": "stdout",
     "output_type": "stream",
     "text": [
      "Ответ: Доверительный интервал: (172.31 : 176.09) \n"
     ]
    }
   ],
   "source": [
    "print(f\"Ответ: Доверительный интервал: ({round(lf_3, 2)} : {round(uf_3, 2)}) \")"
   ]
  },
  {
   "cell_type": "code",
   "execution_count": null,
   "id": "c8e8fd99",
   "metadata": {},
   "outputs": [],
   "source": []
  }
 ],
 "metadata": {
  "kernelspec": {
   "display_name": "Python 3 (ipykernel)",
   "language": "python",
   "name": "python3"
  },
  "language_info": {
   "codemirror_mode": {
    "name": "ipython",
    "version": 3
   },
   "file_extension": ".py",
   "mimetype": "text/x-python",
   "name": "python",
   "nbconvert_exporter": "python",
   "pygments_lexer": "ipython3",
   "version": "3.9.13"
  }
 },
 "nbformat": 4,
 "nbformat_minor": 5
}
