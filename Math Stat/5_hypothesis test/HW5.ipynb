{
 "cells": [
  {
   "cell_type": "markdown",
   "id": "06b294d3",
   "metadata": {},
   "source": [
    "### Задача 1\n",
    "Когда используется критерий Стьюдента, а когда Z –критерий?"
   ]
  },
  {
   "cell_type": "markdown",
   "id": "46c9b14a",
   "metadata": {},
   "source": [
    "Распределение Стьюдента используется для оценки критического значения при использовании выборочных данных, особенно в тех случаях, когда размер выборки маленький и неизвестно стандартное отклонение генеральной совокупности.\n",
    "\n",
    "Нормальное распределение, с другой стороны, используется при больших выборках, когда известно стандартное отклонение генеральной совокупности."
   ]
  },
  {
   "cell_type": "markdown",
   "id": "78af5ef3",
   "metadata": {},
   "source": [
    "Задачи 2,3 решать вручную\n",
    "### Задача 2\n",
    "Проведите тест гипотезы. Утверждается, что шарики для подшипников, изготовленные\n",
    "автоматическим станком, имеют средний диаметр 17 мм.\n",
    "Используя односторонний критерий с α=0,05, проверить эту гипотезу, если в выборке из\n",
    "n=100 шариков средний диаметр\n",
    "оказался равным 17.5 мм, а дисперсия известна и равна 4 кв. мм"
   ]
  },
  {
   "cell_type": "code",
   "execution_count": 5,
   "id": "eb069c2b",
   "metadata": {},
   "outputs": [],
   "source": [
    "import math\n",
    "import numpy as np\n",
    "from scipy import stats"
   ]
  },
  {
   "cell_type": "code",
   "execution_count": 6,
   "id": "265062e7",
   "metadata": {},
   "outputs": [
    {
     "data": {
      "text/plain": [
       "2.5"
      ]
     },
     "execution_count": 6,
     "metadata": {},
     "output_type": "execute_result"
    }
   ],
   "source": [
    "# односторонняя гипотеза в большую сторону\n",
    "# H0: Ev = 17  H1: Ev > 17\n",
    "\n",
    "Ev2 = 17.5\n",
    "Var2 = 4\n",
    "len2 = 100\n",
    "alpha2 = 0.05\n",
    "t_2 = (Ev2 - 17) / (math.sqrt(Var2) / math.sqrt(len2))\n",
    "t_2"
   ]
  },
  {
   "cell_type": "code",
   "execution_count": 7,
   "id": "87fd74e9",
   "metadata": {},
   "outputs": [
    {
     "data": {
      "text/plain": [
       "1.6448536269514722"
      ]
     },
     "execution_count": 7,
     "metadata": {},
     "output_type": "execute_result"
    }
   ],
   "source": [
    "t_cr2 = stats.norm.ppf(1 - alpha2)\n",
    "t_cr2"
   ]
  },
  {
   "cell_type": "code",
   "execution_count": 8,
   "id": "f9515747",
   "metadata": {},
   "outputs": [
    {
     "name": "stdout",
     "output_type": "stream",
     "text": [
      "Гипотеза отвергается\n"
     ]
    }
   ],
   "source": [
    "print('Гипотеза принимается') if t_2 < t_cr2 else print('Гипотеза отвергается')"
   ]
  },
  {
   "cell_type": "markdown",
   "id": "7c3fa0ce",
   "metadata": {},
   "source": [
    "### Задача 3\n",
    "Проведите тест гипотезы. Продавец утверждает, что средний вес пачки печенья\n",
    "составляет 200 г.\n",
    "Из партии извлечена выборка из 10 пачек. Вес каждой пачки составляет:\n",
    "\n",
    "202, 203, 199, 197, 195, 201, 200, 204, 194, 190.\n",
    "\n",
    "Известно, что их веса распределены нормально.\n",
    "\n",
    "Верно ли утверждение продавца, если учитывать, что доверительная вероятность равна\n",
    "99%? (Провести двусторонний тест.)\n"
   ]
  },
  {
   "cell_type": "code",
   "execution_count": 9,
   "id": "56014239",
   "metadata": {},
   "outputs": [
    {
     "name": "stdout",
     "output_type": "stream",
     "text": [
      "202\n",
      "203\n",
      "199\n",
      "197\n",
      "195\n",
      "201\n",
      "200\n",
      "204\n",
      "194\n",
      "190\n"
     ]
    }
   ],
   "source": [
    "x = np.array([202, 203, 199, 197, 195, 201, 200, 204, 194, 190])\n",
    "for item in x:\n",
    "    print(item)"
   ]
  },
  {
   "cell_type": "code",
   "execution_count": 19,
   "id": "e9f4917c",
   "metadata": {},
   "outputs": [
    {
     "data": {
      "text/plain": [
       "-1.0651074037450896"
      ]
     },
     "execution_count": 19,
     "metadata": {},
     "output_type": "execute_result"
    }
   ],
   "source": [
    "Ev3 = sum(x) / len(x)\n",
    "len_3 = len(x)\n",
    "Var3 = sum(list(map(lambda m: (m - Ev3)**2, x))) / (len_3 - 1)\n",
    "alpha3 = 0.01\n",
    "t_3 = (Ev3 - 200) / (math.sqrt(Var3) / math.sqrt(len_3))\n",
    "t_3"
   ]
  },
  {
   "cell_type": "code",
   "execution_count": 21,
   "id": "d3817558",
   "metadata": {},
   "outputs": [
    {
     "data": {
      "text/plain": [
       "(-2.575829303548901, 2.5758293035489004)"
      ]
     },
     "execution_count": 21,
     "metadata": {},
     "output_type": "execute_result"
    }
   ],
   "source": [
    "t_cr3_1 = stats.norm.ppf(alpha3 / 2)\n",
    "t_cr3_2 = stats.norm.ppf(1 - alpha3 / 2)\n",
    "t_cr3_1, t_cr3_2"
   ]
  },
  {
   "cell_type": "code",
   "execution_count": 22,
   "id": "0cdae476",
   "metadata": {},
   "outputs": [
    {
     "name": "stdout",
     "output_type": "stream",
     "text": [
      "Гипотеза принимается\n"
     ]
    }
   ],
   "source": [
    "print('Гипотеза принимается') if t_cr3_1 < t_3 < t_cr3_2 else print('Гипотеза отвергается')"
   ]
  },
  {
   "cell_type": "markdown",
   "id": "e9b4b745",
   "metadata": {},
   "source": [
    "Задачу 4 решать с помощью функции.\n",
    "### Задача 4\n",
    "Есть ли статистически значимые различия между средним ростом\n",
    "дочерей и матерей?\n",
    "Рост матерей 172, 177, 158, 170, 178,175, 164, 160, 169, 165\n",
    "Рост взрослых дочерей: 173, 175, 162, 174, 175, 168, 155, 170, 160, 163"
   ]
  },
  {
   "cell_type": "code",
   "execution_count": 27,
   "id": "8736b433",
   "metadata": {},
   "outputs": [
    {
     "data": {
      "text/plain": [
       "0.41384114976800535"
      ]
     },
     "execution_count": 27,
     "metadata": {},
     "output_type": "execute_result"
    }
   ],
   "source": [
    "x4 = np.array([172, 177, 158, 170, 178,175, 164, 160, 169, 165])\n",
    "y4 = np.array([173, 175, 162, 174, 175, 168, 155, 170, 160, 163])\n",
    "# гипотеза 0: среднее по x4 равно среднему по y4\n",
    "# гипотеза 1: не равно (двусторонняя)\n",
    "\n",
    "Ev_x4 = np.mean(x4)\n",
    "Var_x4 = np.var(x4, ddof=1)\n",
    "len_x4 = len(x4)\n",
    "Ev_y4 = np.mean(y4)\n",
    "Var_y4 = np.var(y4, ddof=1)\n",
    "len_y4 = len(y4)\n",
    "alpha4 = 0.05\n",
    "\n",
    "t_4 = (Ev_x4 - Ev_y4) / math.sqrt(Var_x4 / len_x4 + Var_y4 / len_y4)\n",
    "t_4"
   ]
  },
  {
   "cell_type": "code",
   "execution_count": 32,
   "id": "59af4156",
   "metadata": {},
   "outputs": [
    {
     "data": {
      "text/plain": [
       "(-2.10092204024096, 2.10092204024096)"
      ]
     },
     "execution_count": 32,
     "metadata": {},
     "output_type": "execute_result"
    }
   ],
   "source": [
    "t_cr4_1 = stats.t.ppf(alpha4 / 2, df=(len_x4 + len_y4 - 2))\n",
    "t_cr4_2 = stats.t.ppf(1 - alpha4 / 2, df=(len_x4 + len_y4 - 2))\n",
    "t_cr4_1, t_cr4_2"
   ]
  },
  {
   "cell_type": "code",
   "execution_count": 33,
   "id": "3dc6e58d",
   "metadata": {},
   "outputs": [
    {
     "name": "stdout",
     "output_type": "stream",
     "text": [
      "Гипотеза принимается\n"
     ]
    }
   ],
   "source": [
    "print('Гипотеза принимается') if t_cr4_1 < t_4 < t_cr4_2 else print('Гипотеза отвергается')"
   ]
  },
  {
   "cell_type": "code",
   "execution_count": null,
   "id": "93bf86c3",
   "metadata": {},
   "outputs": [],
   "source": []
  }
 ],
 "metadata": {
  "kernelspec": {
   "display_name": "Python 3 (ipykernel)",
   "language": "python",
   "name": "python3"
  },
  "language_info": {
   "codemirror_mode": {
    "name": "ipython",
    "version": 3
   },
   "file_extension": ".py",
   "mimetype": "text/x-python",
   "name": "python",
   "nbconvert_exporter": "python",
   "pygments_lexer": "ipython3",
   "version": "3.9.13"
  }
 },
 "nbformat": 4,
 "nbformat_minor": 5
}
