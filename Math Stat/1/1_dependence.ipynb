{
 "cells": [
  {
   "attachments": {
    "image-2.png": {
     "image/png": "[encoded data removed]"
    }
   },
   "cell_type": "markdown",
   "id": "02d96637",
   "metadata": {},
   "source": [
    "Вероятность одновременного появления двух независимых событий :\n",
    "![image-2.png](attachment:image-2.png)"
   ]
  },
  {
   "attachments": {
    "image.png": {
     "image/png": "[encoded data removed]"
    }
   },
   "cell_type": "markdown",
   "id": "c2507a86",
   "metadata": {},
   "source": [
    "Вероятность наступления двух зависимых событий:\n",
    "![image.png](attachment:image.png)\n",
    "Выражение P(B|A) означает вероятность наступления события 𝐵 при том, что событие 𝐴 уже наступило."
   ]
  },
  {
   "attachments": {},
   "cell_type": "markdown",
   "id": "f35f3aa1",
   "metadata": {},
   "source": [
    "### Задача 1\n",
    "В ящике лежат 3 фиолетовых и 2 черных шара. Найти вероятность, что подряд вытащат фиолетовый и черный шар."
   ]
  },
  {
   "cell_type": "code",
   "execution_count": 1,
   "id": "6f064efd",
   "metadata": {},
   "outputs": [
    {
     "data": {
      "text/plain": [
       "0.6"
      ]
     },
     "execution_count": 1,
     "metadata": {},
     "output_type": "execute_result"
    }
   ],
   "source": [
    "black = 2\n",
    "viol = 3\n",
    "p_viol1 = viol / (viol + black)\n",
    "p_viol1"
   ]
  },
  {
   "cell_type": "code",
   "execution_count": 2,
   "id": "4d7f4f54",
   "metadata": {},
   "outputs": [
    {
     "data": {
      "text/plain": [
       "0.5"
      ]
     },
     "execution_count": 2,
     "metadata": {},
     "output_type": "execute_result"
    }
   ],
   "source": [
    "p_bl_after_viol1 = black /(viol + black - 1)\n",
    "p_bl_after_viol1"
   ]
  },
  {
   "cell_type": "code",
   "execution_count": 4,
   "id": "d125085e",
   "metadata": {},
   "outputs": [
    {
     "data": {
      "text/plain": [
       "0.3"
      ]
     },
     "execution_count": 4,
     "metadata": {},
     "output_type": "execute_result"
    }
   ],
   "source": [
    "p_viol1_bl1 = p_viol1 * p_bl_after_viol1\n",
    "p_viol1_bl1"
   ]
  },
  {
   "cell_type": "code",
   "execution_count": null,
   "id": "63a98a53",
   "metadata": {},
   "outputs": [],
   "source": []
  }
 ],
 "metadata": {
  "kernelspec": {
   "display_name": "Python 3 (ipykernel)",
   "language": "python",
   "name": "python3"
  },
  "language_info": {
   "codemirror_mode": {
    "name": "ipython",
    "version": 3
   },
   "file_extension": ".py",
   "mimetype": "text/x-python",
   "name": "python",
   "nbconvert_exporter": "python",
   "pygments_lexer": "ipython3",
   "version": "3.9.13"
  }
 },
 "nbformat": 4,
 "nbformat_minor": 5
}
