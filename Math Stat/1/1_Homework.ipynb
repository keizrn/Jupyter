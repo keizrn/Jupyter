{
 "cells": [
  {
   "cell_type": "markdown",
   "id": "f7a47489",
   "metadata": {},
   "source": [
    "### Задача 1\n",
    "\n",
    "Из колоды в 52 карты извлекаются случайным образом 4 карты. \n",
    "\n",
    "#### a) Найти вероятность того, что все карты – крести."
   ]
  },
  {
   "cell_type": "code",
   "execution_count": 1,
   "id": "e179899c",
   "metadata": {},
   "outputs": [],
   "source": [
    "from math import factorial as fct"
   ]
  },
  {
   "cell_type": "code",
   "execution_count": 2,
   "id": "1917eadc",
   "metadata": {},
   "outputs": [],
   "source": [
    "def combinations(n1, k1):\n",
    "    return fct(n1)//(fct(k1)*fct(n1-k1))"
   ]
  },
  {
   "cell_type": "code",
   "execution_count": 3,
   "id": "65c50931",
   "metadata": {},
   "outputs": [
    {
     "data": {
      "text/plain": [
       "270725"
      ]
     },
     "execution_count": 3,
     "metadata": {},
     "output_type": "execute_result"
    }
   ],
   "source": [
    "all = combinations(52, 4)\n",
    "all"
   ]
  },
  {
   "cell_type": "code",
   "execution_count": 4,
   "id": "ddd8c32e",
   "metadata": {},
   "outputs": [
    {
     "data": {
      "text/plain": [
       "715"
      ]
     },
     "execution_count": 4,
     "metadata": {},
     "output_type": "execute_result"
    }
   ],
   "source": [
    "clubs = 52 // 4\n",
    "clubs_4 = combinations(clubs, 4)\n",
    "clubs_4"
   ]
  },
  {
   "cell_type": "code",
   "execution_count": 5,
   "id": "5f776ee5",
   "metadata": {},
   "outputs": [
    {
     "data": {
      "text/plain": [
       "0.0026410564225690276"
      ]
     },
     "execution_count": 5,
     "metadata": {},
     "output_type": "execute_result"
    }
   ],
   "source": [
    "p_4clubs_ofall = clubs_4 / all\n",
    "p_4clubs_ofall"
   ]
  },
  {
   "cell_type": "code",
   "execution_count": 6,
   "id": "7e8167d8",
   "metadata": {},
   "outputs": [
    {
     "name": "stdout",
     "output_type": "stream",
     "text": [
      "Ответ: вероятность того, что все карты – крести: 0.3 %.\n"
     ]
    }
   ],
   "source": [
    "print(f\"Ответ: вероятность того, что все карты – крести: {round(p_4clubs_ofall*100, 1)} %.\")"
   ]
  },
  {
   "cell_type": "markdown",
   "id": "8e744514",
   "metadata": {},
   "source": [
    "Проверка: по сути это вероятность одновременного наступления 4 событий:\n",
    "1. первая карта треф (из 52 карт, в которых 13 карт треф)\n",
    "2. вторая карта треф (из оставшей 51 карты, в которых только 12 треф)\n",
    "3. третья карта треф (из колоды 50, 11 треф)\n",
    "4. треф (из 49, 10 треф)"
   ]
  },
  {
   "cell_type": "code",
   "execution_count": 7,
   "id": "cf67c705",
   "metadata": {},
   "outputs": [
    {
     "data": {
      "text/plain": [
       "0.0026410564225690276"
      ]
     },
     "execution_count": 7,
     "metadata": {},
     "output_type": "execute_result"
    }
   ],
   "source": [
    "p_check_1 = (13 / 52) * (12 / 51) * (11 / 50) * (10 / 49)\n",
    "p_check_1"
   ]
  },
  {
   "cell_type": "markdown",
   "id": "46047c1e",
   "metadata": {},
   "source": [
    "#### б) Найти вероятность, что среди 4-х карт окажется хотя бы один туз."
   ]
  },
  {
   "cell_type": "code",
   "execution_count": 8,
   "id": "111f9600",
   "metadata": {},
   "outputs": [
    {
     "data": {
      "text/plain": [
       "194580"
      ]
     },
     "execution_count": 8,
     "metadata": {},
     "output_type": "execute_result"
    }
   ],
   "source": [
    "noace = combinations(48, 4)\n",
    "noace"
   ]
  },
  {
   "cell_type": "code",
   "execution_count": 9,
   "id": "ba23f25c",
   "metadata": {},
   "outputs": [
    {
     "data": {
      "text/plain": [
       "0.7187367254594146"
      ]
     },
     "execution_count": 9,
     "metadata": {},
     "output_type": "execute_result"
    }
   ],
   "source": [
    "p_noace = noace / all\n",
    "p_noace"
   ]
  },
  {
   "cell_type": "code",
   "execution_count": 10,
   "id": "1e27ad60",
   "metadata": {},
   "outputs": [
    {
     "data": {
      "text/plain": [
       "0.2812632745405854"
      ]
     },
     "execution_count": 10,
     "metadata": {},
     "output_type": "execute_result"
    }
   ],
   "source": [
    "p_oneace = 1 - p_noace\n",
    "p_oneace"
   ]
  },
  {
   "cell_type": "code",
   "execution_count": 11,
   "id": "2189311c",
   "metadata": {},
   "outputs": [
    {
     "name": "stdout",
     "output_type": "stream",
     "text": [
      "Ответ: вероятность, что среди 4-х карт окажется хотя бы один туз: 28.1 %.\n"
     ]
    }
   ],
   "source": [
    "print(f\"Ответ: вероятность, что среди 4-х карт окажется хотя бы один туз: {round(p_oneace*100, 1)} %.\")"
   ]
  },
  {
   "cell_type": "markdown",
   "id": "40fcd361",
   "metadata": {},
   "source": [
    "Проверка: проверим через прямое сложение вероятностей. Должно случиться одно из следующих событий:\n",
    "1. Либо из колоды достанем только 1 туза. И остальные 3 - не тузы.\n",
    "2. Либо 2 туза и 2 не туза.\n",
    "3. Либо 3 туза и 1 не туз.\n",
    "4. Либо все 4 туза"
   ]
  },
  {
   "cell_type": "code",
   "execution_count": 12,
   "id": "3e96fd16",
   "metadata": {},
   "outputs": [
    {
     "data": {
      "text/plain": [
       "0.2812632745405855"
      ]
     },
     "execution_count": 12,
     "metadata": {},
     "output_type": "execute_result"
    }
   ],
   "source": [
    "comb2 = (combinations(4,1) * combinations(48,3)) + (combinations(4,2) * combinations(48,2)) + (combinations(4,3) * combinations(48,1)) + (combinations(4,4) * combinations(48,0)) \n",
    "p_check2 = comb2 / all\n",
    "p_check2"
   ]
  },
  {
   "cell_type": "markdown",
   "id": "4c7d4906",
   "metadata": {},
   "source": [
    "### Задача 2\n",
    "На входной двери подъезда установлен кодовый замок, содержащий десять кнопок с цифрами от 0 до 9. Код содержит три цифры, которые нужно нажать одновременно. Какова вероятность того, что человек, не знающий код, откроет дверь с первой попытки?"
   ]
  },
  {
   "cell_type": "code",
   "execution_count": 13,
   "id": "0a7f91ce",
   "metadata": {},
   "outputs": [
    {
     "data": {
      "text/plain": [
       "120"
      ]
     },
     "execution_count": 13,
     "metadata": {},
     "output_type": "execute_result"
    }
   ],
   "source": [
    "all_code = combinations(10,3)\n",
    "all_code"
   ]
  },
  {
   "cell_type": "code",
   "execution_count": 14,
   "id": "5c5126ee",
   "metadata": {},
   "outputs": [
    {
     "data": {
      "text/plain": [
       "0.008333333333333333"
      ]
     },
     "execution_count": 14,
     "metadata": {},
     "output_type": "execute_result"
    }
   ],
   "source": [
    "p_firsttry = 1/120\n",
    "p_firsttry"
   ]
  },
  {
   "cell_type": "code",
   "execution_count": 15,
   "id": "a9cc0214",
   "metadata": {},
   "outputs": [
    {
     "name": "stdout",
     "output_type": "stream",
     "text": [
      "Ответ: вероятность того, что человек, не знающий код, откроет дверь с первой попытки: 0.8 %.\n"
     ]
    }
   ],
   "source": [
    "print(f\"Ответ: вероятность того, что человек, не знающий код, откроет дверь с первой попытки: {round(p_firsttry*100, 1)} %.\")"
   ]
  },
  {
   "cell_type": "markdown",
   "id": "0d98a419",
   "metadata": {},
   "source": [
    "### Задача 3\n",
    "В ящике имеется 15 деталей, из которых 9 окрашены. Рабочий случайным образом извлекает 3 детали. Какова вероятность того, что все извлеченные детали окрашены?"
   ]
  },
  {
   "cell_type": "code",
   "execution_count": 16,
   "id": "531e042b",
   "metadata": {},
   "outputs": [
    {
     "data": {
      "text/plain": [
       "0.18461538461538463"
      ]
     },
     "execution_count": 16,
     "metadata": {},
     "output_type": "execute_result"
    }
   ],
   "source": [
    "all_det = combinations(15,3)\n",
    "all_painted = combinations(9,3)\n",
    "p_all3painted = all_painted / all_det\n",
    "p_all3painted"
   ]
  },
  {
   "cell_type": "code",
   "execution_count": 17,
   "id": "1eeb9827",
   "metadata": {},
   "outputs": [
    {
     "name": "stdout",
     "output_type": "stream",
     "text": [
      "Ответ: вероятность того, что все извлеченные детали окрашены: 18.5 %.\n"
     ]
    }
   ],
   "source": [
    "print(f\"Ответ: вероятность того, что все извлеченные детали окрашены: {round(p_all3painted*100, 1)} %.\")"
   ]
  },
  {
   "cell_type": "markdown",
   "id": "6be4c91b",
   "metadata": {},
   "source": [
    "### Задача 4\n",
    "В лотерее 100 билетов. Из них 2 выигрышных. Какова вероятность того, что 2 приобретенных билета окажутся выигрышными?"
   ]
  },
  {
   "cell_type": "code",
   "execution_count": 18,
   "id": "deaabfcb",
   "metadata": {},
   "outputs": [
    {
     "data": {
      "text/plain": [
       "0.00020202020202020202"
      ]
     },
     "execution_count": 18,
     "metadata": {},
     "output_type": "execute_result"
    }
   ],
   "source": [
    "all_tickets = combinations(100, 2)\n",
    "tickets_2 = 1\n",
    "p_2tickets = tickets_2 / all_tickets\n",
    "p_2tickets"
   ]
  },
  {
   "cell_type": "code",
   "execution_count": 19,
   "id": "66264220",
   "metadata": {},
   "outputs": [
    {
     "name": "stdout",
     "output_type": "stream",
     "text": [
      "Ответ: вероятность того, что 2 приобретенных билета окажутся выигрышными: 0.02 %.\n"
     ]
    }
   ],
   "source": [
    "print(f\"Ответ: вероятность того, что 2 приобретенных билета окажутся выигрышными: {round(p_2tickets*100, 3)} %.\")"
   ]
  }
 ],
 "metadata": {
  "kernelspec": {
   "display_name": "Python 3 (ipykernel)",
   "language": "python",
   "name": "python3"
  },
  "language_info": {
   "codemirror_mode": {
    "name": "ipython",
    "version": 3
   },
   "file_extension": ".py",
   "mimetype": "text/x-python",
   "name": "python",
   "nbconvert_exporter": "python",
   "pygments_lexer": "ipython3",
   "version": "3.9.13"
  }
 },
 "nbformat": 4,
 "nbformat_minor": 5
}
