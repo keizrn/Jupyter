{
 "cells": [
  {
   "cell_type": "code",
   "execution_count": 1,
   "id": "caa22e71",
   "metadata": {},
   "outputs": [],
   "source": [
    "import numpy as np"
   ]
  },
  {
   "cell_type": "code",
   "execution_count": 2,
   "id": "d68c0ed4",
   "metadata": {},
   "outputs": [],
   "source": [
    "np.random.seed(1)"
   ]
  },
  {
   "cell_type": "code",
   "execution_count": 3,
   "id": "6c456221",
   "metadata": {},
   "outputs": [
    {
     "data": {
      "text/plain": [
       "array([6, 4, 5, 1, 2, 4, 6, 1, 1, 2, 5, 6, 5, 2, 3, 5, 6, 3, 5, 4, 5, 3,\n",
       "       5, 6, 3, 5, 2, 2, 1, 6, 2, 2, 6, 2, 2, 1, 5, 2, 1, 1, 6, 4, 3, 2,\n",
       "       1, 4, 6, 2, 2, 4, 5, 1, 2, 4, 5, 3, 5, 1, 6, 4])"
      ]
     },
     "execution_count": 3,
     "metadata": {},
     "output_type": "execute_result"
    }
   ],
   "source": [
    "n = 60\n",
    "b = np.random.randint(1, 7, n)\n",
    "b"
   ]
  },
  {
   "cell_type": "code",
   "execution_count": 4,
   "id": "c40eb8fe",
   "metadata": {},
   "outputs": [
    {
     "data": {
      "text/plain": [
       "array([3, 3, 3, 3, 3, 3])"
      ]
     },
     "execution_count": 4,
     "metadata": {},
     "output_type": "execute_result"
    }
   ],
   "source": [
    "a = b [b == 3]\n",
    "a"
   ]
  },
  {
   "cell_type": "code",
   "execution_count": 5,
   "id": "0237f4b7",
   "metadata": {},
   "outputs": [
    {
     "data": {
      "text/plain": [
       "6"
      ]
     },
     "execution_count": 5,
     "metadata": {},
     "output_type": "execute_result"
    }
   ],
   "source": [
    "m = len(a)\n",
    "m"
   ]
  },
  {
   "cell_type": "markdown",
   "id": "50ee3ea9",
   "metadata": {},
   "source": [
    "Теперь мы можем вычислить относительную частоту события А:"
   ]
  },
  {
   "cell_type": "code",
   "execution_count": 6,
   "id": "d2c84625",
   "metadata": {},
   "outputs": [
    {
     "data": {
      "text/plain": [
       "0.1"
      ]
     },
     "execution_count": 6,
     "metadata": {},
     "output_type": "execute_result"
    }
   ],
   "source": [
    "W = m/n\n",
    "W"
   ]
  },
  {
   "cell_type": "markdown",
   "id": "acb9f458",
   "metadata": {},
   "source": [
    "Другой вариант:"
   ]
  },
  {
   "cell_type": "code",
   "execution_count": 7,
   "id": "0abe88f1",
   "metadata": {},
   "outputs": [
    {
     "data": {
      "text/plain": [
       "array([6, 4, 5, 6, 4, 5, 6, 2, 1, 2, 2, 6, 6, 1, 3, 5, 1, 5, 1, 3, 5, 2,\n",
       "       3, 2, 5, 2, 6, 3, 3, 4, 4, 4, 4, 6, 5, 5, 5, 4, 3, 6, 3, 2, 6, 1,\n",
       "       6, 4, 1, 1, 3, 1, 1, 4, 6, 3, 5, 6, 5, 4, 3, 4], dtype=int64)"
      ]
     },
     "execution_count": 7,
     "metadata": {},
     "output_type": "execute_result"
    }
   ],
   "source": [
    "rng = np.random.default_rng(seed=7)\n",
    "dice_60 = rng.integers(low=1, high=7, size=n)\n",
    "dice_60"
   ]
  },
  {
   "cell_type": "code",
   "execution_count": 8,
   "id": "e5ef6cf0",
   "metadata": {},
   "outputs": [
    {
     "data": {
      "text/plain": [
       "10"
      ]
     },
     "execution_count": 8,
     "metadata": {},
     "output_type": "execute_result"
    }
   ],
   "source": [
    "m_a = len(dice_60 [dice_60 == 3])\n",
    "m_a"
   ]
  },
  {
   "cell_type": "markdown",
   "id": "1992a7d3",
   "metadata": {},
   "source": [
    "Относительная частота события:"
   ]
  },
  {
   "cell_type": "code",
   "execution_count": 9,
   "id": "e12f68fb",
   "metadata": {},
   "outputs": [
    {
     "data": {
      "text/plain": [
       "0.16666666666666666"
      ]
     },
     "execution_count": 9,
     "metadata": {},
     "output_type": "execute_result"
    }
   ],
   "source": [
    "W_a = m_a/n\n",
    "W_a"
   ]
  },
  {
   "cell_type": "markdown",
   "id": "05997049",
   "metadata": {},
   "source": [
    "## 2 dices"
   ]
  },
  {
   "cell_type": "code",
   "execution_count": 17,
   "id": "9d78bb76",
   "metadata": {},
   "outputs": [
    {
     "data": {
      "text/plain": [
       "array([6, 4, 5, 1, 2, 4, 6, 1, 1, 2, 5, 6, 5, 2, 3, 5, 6, 3, 5, 4, 5, 3,\n",
       "       5, 6, 3, 5, 2, 2, 1, 6, 2, 2, 6, 2, 2, 1, 5, 2, 1, 1, 6, 4, 3, 2,\n",
       "       1, 4, 6, 2, 2, 4, 5, 1, 2, 4, 5, 3, 5, 1, 6, 4, 2, 3, 1, 5, 2, 3,\n",
       "       3, 2, 1, 2, 4, 6, 5, 4, 6, 2, 4, 1, 1, 3, 3, 2, 4, 5, 3, 1, 1, 2,\n",
       "       2, 6, 4, 1, 1, 6, 6, 5, 6, 3, 5, 4, 6, 4, 6, 1, 4, 5, 4, 5, 5, 6,\n",
       "       5, 2, 1, 5, 3, 1, 6, 3, 5, 2, 2, 1, 3, 5, 5, 1, 5, 2, 5, 2, 1, 3,\n",
       "       4, 2, 3, 5, 5, 3, 3, 1, 2, 3, 3, 1, 6, 2, 3, 5, 1, 6, 6, 2, 3, 2,\n",
       "       6, 5, 3, 1, 6, 1, 2, 6, 1, 2, 4, 2, 2, 6, 5, 5, 4, 6, 1, 4, 1, 4,\n",
       "       2, 3, 6, 6, 5, 6, 1, 6, 1, 6, 4, 2, 2, 6, 1, 6, 1, 5, 3, 6, 4, 5,\n",
       "       3, 1, 6, 4, 4, 6, 6, 2, 3, 5, 4, 1, 1, 6, 5, 3, 5, 3, 1, 6, 4, 1,\n",
       "       1, 5, 6, 3, 2, 1, 5, 4, 1, 2, 3, 5, 5, 4, 4, 4, 4, 3, 4, 4, 6, 5,\n",
       "       4, 3, 5, 5, 1, 4, 4, 1, 4, 6, 6, 2, 1, 3, 3, 3, 1, 3, 2, 5, 1, 5,\n",
       "       5, 2, 4, 2, 5, 2, 3, 6, 2, 1, 1, 3, 5, 2, 1, 1, 4, 2, 1, 5, 4, 3,\n",
       "       4, 5, 6, 5, 4, 1, 1, 1, 5, 6, 2, 6, 5, 2, 3, 6, 3, 6, 5, 6, 4, 5,\n",
       "       5, 1, 4, 3, 5, 6, 4, 5, 3, 4, 1, 6, 6, 3, 2, 4, 3, 1, 6, 2, 5, 2,\n",
       "       4, 4, 2, 3, 1, 3, 5, 1, 3, 5, 4, 5, 4, 1, 6, 6, 5, 3, 3, 5, 2, 3,\n",
       "       6, 2, 2, 2, 1, 6, 6, 5])"
      ]
     },
     "execution_count": 17,
     "metadata": {},
     "output_type": "execute_result"
    }
   ],
   "source": [
    "np.random.seed(1)\n",
    "n2 = 360\n",
    "c2 = np.random.randint(1, 7, size=n2)\n",
    "d2 = np.random.randint(1, 7, size=n2)\n",
    "c2"
   ]
  },
  {
   "cell_type": "code",
   "execution_count": 18,
   "id": "9208ce83",
   "metadata": {},
   "outputs": [
    {
     "data": {
      "text/plain": [
       "array([5, 3, 3, 4, 2, 5, 1, 1, 4, 3, 5, 2, 4, 2, 2, 3, 6, 6, 5, 6, 1, 4,\n",
       "       1, 5, 3, 4, 6, 2, 2, 5, 5, 1, 3, 2, 4, 1, 2, 1, 6, 3, 3, 5, 4, 3,\n",
       "       3, 3, 1, 6, 3, 1, 5, 6, 2, 6, 1, 3, 4, 1, 5, 4, 4, 4, 1, 4, 2, 3,\n",
       "       1, 2, 5, 3, 4, 5, 6, 5, 3, 2, 3, 6, 1, 6, 4, 6, 4, 3, 1, 1, 1, 1,\n",
       "       3, 5, 1, 5, 2, 3, 2, 3, 5, 2, 4, 6, 2, 6, 2, 3, 5, 2, 1, 3, 6, 2,\n",
       "       3, 1, 1, 6, 4, 5, 2, 6, 1, 5, 1, 4, 3, 5, 4, 3, 5, 3, 5, 1, 1, 6,\n",
       "       5, 3, 3, 5, 3, 4, 6, 1, 1, 5, 4, 5, 4, 4, 5, 1, 6, 4, 6, 2, 5, 5,\n",
       "       4, 3, 3, 3, 3, 3, 1, 3, 2, 6, 3, 4, 6, 1, 1, 6, 6, 6, 2, 2, 4, 4,\n",
       "       6, 4, 2, 4, 4, 4, 2, 4, 1, 5, 6, 1, 6, 6, 3, 5, 5, 3, 1, 4, 6, 3,\n",
       "       5, 6, 1, 5, 6, 3, 4, 5, 3, 5, 2, 4, 5, 4, 1, 4, 1, 5, 4, 1, 6, 4,\n",
       "       2, 5, 5, 6, 3, 6, 6, 3, 5, 3, 2, 3, 4, 2, 6, 6, 4, 4, 1, 5, 4, 4,\n",
       "       6, 4, 4, 1, 3, 4, 6, 2, 6, 4, 3, 6, 4, 3, 6, 3, 1, 5, 1, 2, 4, 1,\n",
       "       1, 1, 2, 3, 5, 5, 3, 1, 2, 1, 1, 6, 3, 6, 5, 4, 1, 3, 2, 4, 4, 2,\n",
       "       5, 5, 5, 6, 1, 2, 1, 2, 3, 3, 5, 6, 6, 3, 5, 6, 1, 6, 3, 6, 5, 5,\n",
       "       2, 2, 2, 2, 6, 5, 6, 4, 5, 2, 2, 6, 2, 3, 5, 4, 3, 4, 4, 3, 4, 1,\n",
       "       3, 1, 2, 6, 1, 6, 1, 4, 5, 1, 1, 6, 1, 1, 2, 1, 6, 2, 4, 4, 5, 6,\n",
       "       1, 2, 6, 1, 4, 3, 2, 2])"
      ]
     },
     "execution_count": 18,
     "metadata": {},
     "output_type": "execute_result"
    }
   ],
   "source": [
    "d2"
   ]
  },
  {
   "cell_type": "code",
   "execution_count": 19,
   "id": "1fb62976",
   "metadata": {},
   "outputs": [
    {
     "data": {
      "text/plain": [
       "array([1, 1, 1, 1, 1, 1, 1, 1, 1, 1, 1, 1])"
      ]
     },
     "execution_count": 19,
     "metadata": {},
     "output_type": "execute_result"
    }
   ],
   "source": [
    "a2 = c2 [(c2 == 1) & (d2 == 2)]\n",
    "a2"
   ]
  },
  {
   "cell_type": "code",
   "execution_count": 20,
   "id": "a459caa5",
   "metadata": {},
   "outputs": [
    {
     "data": {
      "text/plain": [
       "12"
      ]
     },
     "execution_count": 20,
     "metadata": {},
     "output_type": "execute_result"
    }
   ],
   "source": [
    "m2 = len(a2)\n",
    "m2"
   ]
  },
  {
   "cell_type": "code",
   "execution_count": 21,
   "id": "20747670",
   "metadata": {},
   "outputs": [
    {
     "data": {
      "text/plain": [
       "0.03333333333333333"
      ]
     },
     "execution_count": 21,
     "metadata": {},
     "output_type": "execute_result"
    }
   ],
   "source": [
    "W2 = m2 / n2\n",
    "W2"
   ]
  },
  {
   "cell_type": "markdown",
   "id": "cb43a0c0",
   "metadata": {},
   "source": []
  }
 ],
 "metadata": {
  "kernelspec": {
   "display_name": "Python 3 (ipykernel)",
   "language": "python",
   "name": "python3"
  },
  "language_info": {
   "codemirror_mode": {
    "name": "ipython",
    "version": 3
   },
   "file_extension": ".py",
   "mimetype": "text/x-python",
   "name": "python",
   "nbconvert_exporter": "python",
   "pygments_lexer": "ipython3",
   "version": "3.9.13"
  }
 },
 "nbformat": 4,
 "nbformat_minor": 5
}
