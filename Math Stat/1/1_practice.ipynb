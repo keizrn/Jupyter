{
 "cells": [
  {
   "cell_type": "code",
   "execution_count": 1,
   "id": "58ea4b2b",
   "metadata": {},
   "outputs": [],
   "source": [
    "import numpy as np\n",
    "from math import factorial as fct"
   ]
  },
  {
   "cell_type": "code",
   "execution_count": 2,
   "id": "d8dc69c6",
   "metadata": {},
   "outputs": [],
   "source": [
    "def combinations(n1, k1):\n",
    "    return fct(n1) // (fct(k1) * fct(n1 - k1))"
   ]
  },
  {
   "cell_type": "markdown",
   "id": "c94a7d2a",
   "metadata": {},
   "source": [
    "### Задача 1\n",
    "В партии 10 деталей. Среди них 3 бракованные. Какова вероятность, что среди\n",
    "5 ,взятых на удачу, 4 хорошие детали?"
   ]
  },
  {
   "cell_type": "code",
   "execution_count": 3,
   "id": "6b9092c8",
   "metadata": {},
   "outputs": [
    {
     "data": {
      "text/plain": [
       "0.4166666666666667"
      ]
     },
     "execution_count": 3,
     "metadata": {},
     "output_type": "execute_result"
    }
   ],
   "source": [
    "res1 = combinations(7, 4)*combinations(3, 1)/combinations(10, 5)\n",
    "res1"
   ]
  },
  {
   "cell_type": "markdown",
   "id": "d332dcd0",
   "metadata": {},
   "source": [
    "### Задача 2\n",
    "Разработали спам-фильтр на основании часто встречающихся фраз. 70% всех писем –это\n",
    "спам. В 10 % писем со спамом встречается фраза: «вся правда о» и в 0.5% она встречается\n",
    "в хороших письмах. Какова вероятность, что пришедшее на почту письмо является спамом,\n",
    "если в нем есть данная фраза?"
   ]
  },
  {
   "cell_type": "code",
   "execution_count": 4,
   "id": "d0c3ab7b",
   "metadata": {},
   "outputs": [
    {
     "data": {
      "text/plain": [
       "0.979020979020979"
      ]
     },
     "execution_count": 4,
     "metadata": {},
     "output_type": "execute_result"
    }
   ],
   "source": [
    "p_spam = 0.7\n",
    "p_truth = 0.7 * 0.1 + 0.3 * 0.005\n",
    "p_tr_if_sp = 0.1\n",
    "p_sp_if_tr = p_tr_if_sp * p_spam / p_truth\n",
    "p_sp_if_tr"
   ]
  },
  {
   "cell_type": "markdown",
   "id": "11215762",
   "metadata": {},
   "source": [
    "### Задача 3\n",
    "В ящике находится 10 красных, 5 черных, 5 зеленых шаров. Наудачу вынимают 6 шаров.\n",
    "Какова вероятность, что вынуты 3 красных, 2 черных, 1 зеленый?"
   ]
  },
  {
   "cell_type": "code",
   "execution_count": 5,
   "id": "682f6e2e",
   "metadata": {},
   "outputs": [
    {
     "data": {
      "text/plain": [
       "0.15479876160990713"
      ]
     },
     "execution_count": 5,
     "metadata": {},
     "output_type": "execute_result"
    }
   ],
   "source": [
    "res2 = combinations(10, 3)*combinations(5, 2)*combinations(5,1)/combinations(20, 6)\n",
    "res2"
   ]
  },
  {
   "cell_type": "markdown",
   "id": "d424c2fb",
   "metadata": {},
   "source": [
    "### Задача 4\n",
    "На 5 одинаковых карточках написаны буквы Ч, А, Й ,К, И\n",
    "Какова вероятность, что получится слова ЧАЙКИ"
   ]
  },
  {
   "cell_type": "code",
   "execution_count": 6,
   "id": "01fd0f28",
   "metadata": {},
   "outputs": [],
   "source": [
    "def permutations(n2):\n",
    "    return fct(n2)"
   ]
  },
  {
   "cell_type": "code",
   "execution_count": 7,
   "id": "7d958a6d",
   "metadata": {},
   "outputs": [
    {
     "data": {
      "text/plain": [
       "0.008333333333333333"
      ]
     },
     "execution_count": 7,
     "metadata": {},
     "output_type": "execute_result"
    }
   ],
   "source": [
    "res3 = 1 / permutations(5)\n",
    "res3"
   ]
  },
  {
   "cell_type": "markdown",
   "id": "8915dcda",
   "metadata": {},
   "source": [
    "### Задача 5\n",
    "Какое количество семизначных номеров можно придумать, если в качестве первой цифры\n",
    "не может быть 0,1,7"
   ]
  },
  {
   "attachments": {
    "image.png": {
     "image/png": "[encoded data removed]"
    }
   },
   "cell_type": "markdown",
   "id": "c65fc0fa",
   "metadata": {},
   "source": [
    "Первую цифру можно составить 7 разными способами.\n",
    "остальные 6 - это размещения с повторениями.\n",
    "<img src=\"attachment:image.png\" alt= “formula” width=\"20%\">\n",
    "10 вариантов на 6 позициях. Значит, 10 в 6 степени вариантов, или 1 000 000.\n",
    "Перемножаем результаты. 7 * 1 000 000 = 7 000 000 семизначных номеров можно придумать при заданных условиях"
   ]
  },
  {
   "cell_type": "code",
   "execution_count": null,
   "id": "18de71f9",
   "metadata": {},
   "outputs": [],
   "source": []
  }
 ],
 "metadata": {
  "kernelspec": {
   "display_name": "Python 3 (ipykernel)",
   "language": "python",
   "name": "python3"
  },
  "language_info": {
   "codemirror_mode": {
    "name": "ipython",
    "version": 3
   },
   "file_extension": ".py",
   "mimetype": "text/x-python",
   "name": "python",
   "nbconvert_exporter": "python",
   "pygments_lexer": "ipython3",
   "version": "3.9.13"
  }
 },
 "nbformat": 4,
 "nbformat_minor": 5
}
