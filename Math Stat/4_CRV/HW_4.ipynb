{
 "cells": [
  {
   "cell_type": "markdown",
   "id": "4389319d",
   "metadata": {},
   "source": [
    "## Домашняя работа 4\n",
    "\n",
    "### Задача 1\n",
    "Случайная непрерывная величина A имеет равномерное распределение на промежутке (200, 800].\n",
    "Найдите ее среднее значение и дисперсию."
   ]
  },
  {
   "cell_type": "code",
   "execution_count": 1,
   "id": "490b0800",
   "metadata": {},
   "outputs": [
    {
     "data": {
      "text/plain": [
       "(500.0, 30000.0)"
      ]
     },
     "execution_count": 1,
     "metadata": {},
     "output_type": "execute_result"
    }
   ],
   "source": [
    "Ev_1 = (800 + 200)/2\n",
    "Var_1 = (800 - 200)**2 / 12\n",
    "Ev_1, Var_1"
   ]
  },
  {
   "cell_type": "markdown",
   "id": "98fe1dea",
   "metadata": {},
   "source": [
    "### Задача 2\n",
    "О случайной непрерывной равномерно распределенной величине B известно, что ее дисперсия равна 0.2.\n",
    "Можно ли найти правую границу величины B и ее среднее значение зная, что левая граница равна 0.5?\n",
    "\n",
    "Если да, найдите ее."
   ]
  },
  {
   "cell_type": "code",
   "execution_count": 2,
   "id": "14366451",
   "metadata": {},
   "outputs": [],
   "source": [
    "import math\n",
    "import numpy as np\n",
    "from scipy import stats"
   ]
  },
  {
   "cell_type": "code",
   "execution_count": 3,
   "id": "4fa31918",
   "metadata": {},
   "outputs": [
    {
     "data": {
      "text/plain": [
       "(2.049193338482967, 1.2745966692414834)"
      ]
     },
     "execution_count": 3,
     "metadata": {},
     "output_type": "execute_result"
    }
   ],
   "source": [
    "Var_2 = 0.2\n",
    "a_2 = 0.5\n",
    "b_2 = math.sqrt(Var_2 * 12) + a_2\n",
    "Ev_2 = (a_2 + b_2 ) / 2\n",
    "b_2, Ev_2"
   ]
  },
  {
   "cell_type": "markdown",
   "id": "fa33a2a0",
   "metadata": {},
   "source": [
    "### Задача 3\n",
    "Непрерывная случайная величина X распределена нормально и задана плотностью распределения\n",
    "f(x) = (1 / (4 * sqrt(2pi))) * exp((-(x+2)**2) / 32)\n",
    "\n",
    "Найдите:\n",
    "\n",
    "а). M(X)\n",
    "\n",
    "б). D(X)\n",
    "\n",
    "в). std(X) (среднее квадратичное отклонение)"
   ]
  },
  {
   "cell_type": "code",
   "execution_count": 4,
   "id": "501c64ef",
   "metadata": {},
   "outputs": [
    {
     "data": {
      "text/plain": [
       "(-2, 16.0, 4.0)"
      ]
     },
     "execution_count": 4,
     "metadata": {},
     "output_type": "execute_result"
    }
   ],
   "source": [
    "Ev_3 = -2\n",
    "Var_2 = 32 / 2\n",
    "Sd_2 = math.sqrt(Var_2)\n",
    "Ev_3, Var_2, Sd_2"
   ]
  },
  {
   "cell_type": "markdown",
   "id": "a040cf5e",
   "metadata": {},
   "source": [
    "### Задача 4\n",
    "Рост взрослого населения города X имеет нормальное распределение.\n",
    "Причем, средний рост равен 174 см, а среднее квадратичное отклонение равно 8 см.\n",
    "\n",
    "Какова вероятность того, что случайным образом выбранный взрослый человек имеет рост:\n",
    "\n",
    "а). больше 182 см\n",
    "\n",
    "б). больше 190 см\n",
    "\n",
    "в). от 166 см до 190 см\n",
    "\n",
    "г). от 166 см до 182 см\n",
    "\n",
    "д). от 158 см до 190 см\n",
    "\n",
    "е). не выше 150 см или не ниже 190 см\n",
    "\n",
    "ё). не выше 150 см или не ниже 198 см\n",
    "\n",
    "ж). ниже 166 см."
   ]
  },
  {
   "cell_type": "code",
   "execution_count": 8,
   "id": "5e568349",
   "metadata": {},
   "outputs": [],
   "source": [
    "Ev_4 = 174\n",
    "Sd_4 = 8\n",
    "list_1 = []\n",
    "list_1.append(1 - stats.norm.cdf(182, Ev_4, Sd_4))\n",
    "list_1.append(1 - stats.norm.cdf(190, Ev_4, Sd_4))\n",
    "list_1.append(stats.norm.cdf(190, Ev_4, Sd_4) - stats.norm.cdf(166, Ev_4, Sd_4))\n",
    "list_1.append(stats.norm.cdf(182, Ev_4, Sd_4) - stats.norm.cdf(166, Ev_4, Sd_4))\n",
    "list_1.append(stats.norm.cdf(190, Ev_4, Sd_4) - stats.norm.cdf(158, Ev_4, Sd_4))\n",
    "list_1.append(stats.norm.cdf(150, Ev_4, Sd_4) + (1 - stats.norm.cdf(190, Ev_4, Sd_4)))\n",
    "list_1.append(stats.norm.cdf(150, Ev_4, Sd_4) + (1 - stats.norm.cdf(198, Ev_4, Sd_4)))"
   ]
  },
  {
   "cell_type": "code",
   "execution_count": 9,
   "id": "41b6dbab",
   "metadata": {},
   "outputs": [
    {
     "name": "stdout",
     "output_type": "stream",
     "text": [
      "0.15865525393145707\n",
      "0.02275013194817921\n",
      "0.8185946141203637\n",
      "0.6826894921370859\n",
      "0.9544997361036416\n",
      "0.0241000299798093\n",
      "0.0026997960632601965\n"
     ]
    }
   ],
   "source": [
    "for item in list_1:\n",
    "    print(item)"
   ]
  },
  {
   "cell_type": "markdown",
   "id": "a8c9ab56",
   "metadata": {},
   "source": [
    "### Задача 5\n",
    "На сколько сигм (средних квадратичных отклонений) отклоняется рост человека, равный 190 см, от математического ожидания роста в популяции, в которой M(X) = 178 см и D(X) = 25 кв.см?"
   ]
  },
  {
   "cell_type": "code",
   "execution_count": 10,
   "id": "69381c15",
   "metadata": {},
   "outputs": [
    {
     "data": {
      "text/plain": [
       "2.4"
      ]
     },
     "execution_count": 10,
     "metadata": {},
     "output_type": "execute_result"
    }
   ],
   "source": [
    "Ev_5 = 178\n",
    "Var_5 = 25\n",
    "Sd_5 = math.sqrt(Var_5)\n",
    "(190 - Ev_5) / Sd_5"
   ]
  },
  {
   "cell_type": "code",
   "execution_count": null,
   "id": "ca66cba9",
   "metadata": {},
   "outputs": [],
   "source": []
  }
 ],
 "metadata": {
  "kernelspec": {
   "display_name": "Python 3 (ipykernel)",
   "language": "python",
   "name": "python3"
  },
  "language_info": {
   "codemirror_mode": {
    "name": "ipython",
    "version": 3
   },
   "file_extension": ".py",
   "mimetype": "text/x-python",
   "name": "python",
   "nbconvert_exporter": "python",
   "pygments_lexer": "ipython3",
   "version": "3.9.13"
  }
 },
 "nbformat": 4,
 "nbformat_minor": 5
}
