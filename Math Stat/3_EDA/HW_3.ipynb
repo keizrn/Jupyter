{
 "cells": [
  {
   "cell_type": "markdown",
   "id": "9adde65e",
   "metadata": {},
   "source": [
    "### Задача 1\n",
    "Даны значения зарплат из выборки выпускников: 100, 80, 75, 77, 89, 33, 45, 25, 65, 17, 30, 24, 57, 55, 70, 75, 65, 84, 90, 150. Посчитать (желательно без использования статистических методов наподобие std, var, mean) среднее арифметическое, среднее квадратичное отклонение, смещенную и несмещенную оценки дисперсий для данной выборки.\n"
   ]
  },
  {
   "cell_type": "code",
   "execution_count": 1,
   "id": "33120111",
   "metadata": {},
   "outputs": [],
   "source": [
    "import numpy as np\n",
    "import math\n",
    "from matplotlib import pyplot as plt"
   ]
  },
  {
   "cell_type": "code",
   "execution_count": 2,
   "id": "69116e1e",
   "metadata": {},
   "outputs": [
    {
     "data": {
      "text/plain": [
       "array([100,  80,  75,  77,  89,  33,  45,  25,  65,  17,  30,  24,  57,\n",
       "        55,  70,  75,  65,  84,  90, 150])"
      ]
     },
     "execution_count": 2,
     "metadata": {},
     "output_type": "execute_result"
    }
   ],
   "source": [
    "salary_1 = np.array([100, 80, 75, 77, 89, 33, 45, 25, 65, 17, 30, 24, 57, 55, 70, 75, 65, 84, 90, 150])\n",
    "salary_1"
   ]
  },
  {
   "cell_type": "code",
   "execution_count": 3,
   "id": "f47f9401",
   "metadata": {},
   "outputs": [
    {
     "data": {
      "text/plain": [
       "65.3"
      ]
     },
     "execution_count": 3,
     "metadata": {},
     "output_type": "execute_result"
    }
   ],
   "source": [
    "mo_1 = sum(salary_1) / len(salary_1)\n",
    "mo_1"
   ]
  },
  {
   "cell_type": "code",
   "execution_count": 4,
   "id": "a95c7d4b",
   "metadata": {},
   "outputs": [
    {
     "name": "stdout",
     "output_type": "stream",
     "text": [
      "Check MO: 65.3\n"
     ]
    }
   ],
   "source": [
    "print(f'Check MO: {salary_1.mean()}')"
   ]
  },
  {
   "cell_type": "code",
   "execution_count": 5,
   "id": "c9f9009f",
   "metadata": {},
   "outputs": [
    {
     "data": {
      "text/plain": [
       "array([1.20409e+03, 2.16090e+02, 9.40900e+01, 1.36890e+02, 5.61690e+02,\n",
       "       1.04329e+03, 4.12090e+02, 1.62409e+03, 9.00000e-02, 2.33289e+03,\n",
       "       1.24609e+03, 1.70569e+03, 6.88900e+01, 1.06090e+02, 2.20900e+01,\n",
       "       9.40900e+01, 9.00000e-02, 3.49690e+02, 6.10090e+02, 7.17409e+03])"
      ]
     },
     "execution_count": 5,
     "metadata": {},
     "output_type": "execute_result"
    }
   ],
   "source": [
    "salary_diff = np.array(list(map(lambda x: (x - mo_1)**2, salary_1)))\n",
    "salary_diff"
   ]
  },
  {
   "cell_type": "code",
   "execution_count": 6,
   "id": "191d4081",
   "metadata": {},
   "outputs": [
    {
     "data": {
      "text/plain": [
       "1000.1157894736842"
      ]
     },
     "execution_count": 6,
     "metadata": {},
     "output_type": "execute_result"
    }
   ],
   "source": [
    "var_1 = sum(salary_diff) / (len(salary_1) - 1)\n",
    "var_1"
   ]
  },
  {
   "cell_type": "code",
   "execution_count": 7,
   "id": "ed7e9e05",
   "metadata": {},
   "outputs": [
    {
     "name": "stdout",
     "output_type": "stream",
     "text": [
      "Check variance(dispersion) non-biased: 1000.1157894736842\n"
     ]
    }
   ],
   "source": [
    "print(f'Check variance(dispersion) non-biased: {salary_1.var(ddof=1)}')"
   ]
  },
  {
   "cell_type": "code",
   "execution_count": 8,
   "id": "6922f853",
   "metadata": {},
   "outputs": [
    {
     "data": {
      "text/plain": [
       "950.11"
      ]
     },
     "execution_count": 8,
     "metadata": {},
     "output_type": "execute_result"
    }
   ],
   "source": [
    "var_1a = sum(salary_diff) / len(salary_1)\n",
    "var_1a"
   ]
  },
  {
   "cell_type": "code",
   "execution_count": 9,
   "id": "d1787b0e",
   "metadata": {},
   "outputs": [
    {
     "name": "stdout",
     "output_type": "stream",
     "text": [
      "Check biased variance: 950.11\n"
     ]
    }
   ],
   "source": [
    "print(f'Check biased variance: {salary_1.var(ddof=0)}')"
   ]
  },
  {
   "cell_type": "code",
   "execution_count": 10,
   "id": "a52c6293",
   "metadata": {},
   "outputs": [
    {
     "data": {
      "text/plain": [
       "31.624607341019814"
      ]
     },
     "execution_count": 10,
     "metadata": {},
     "output_type": "execute_result"
    }
   ],
   "source": [
    "std_1 = math.sqrt(sum(salary_diff) / (len(salary_1) - 1))\n",
    "std_1"
   ]
  },
  {
   "cell_type": "code",
   "execution_count": 11,
   "id": "ec3fa3a5",
   "metadata": {},
   "outputs": [
    {
     "name": "stdout",
     "output_type": "stream",
     "text": [
      "Check non-biased std deviation: 31.624607341019814\n"
     ]
    }
   ],
   "source": [
    "print(f'Check non-biased std deviation: {salary_1.std(ddof=1)}')"
   ]
  },
  {
   "cell_type": "code",
   "execution_count": 12,
   "id": "5954b124",
   "metadata": {},
   "outputs": [
    {
     "data": {
      "text/plain": [
       "<matplotlib.lines.Line2D at 0x24e222631f0>"
      ]
     },
     "execution_count": 12,
     "metadata": {},
     "output_type": "execute_result"
    },
    {
     "data": {
      "image/png": "[encoded data removed]",
      "text/plain": [
       "<Figure size 640x480 with 1 Axes>"
      ]
     },
     "metadata": {},
     "output_type": "display_data"
    }
   ],
   "source": [
    "plt.hist(salary_1)\n",
    "plt.axvline(x=mo_1, color='m')"
   ]
  },
  {
   "cell_type": "markdown",
   "id": "95d5ab14",
   "metadata": {},
   "source": [
    "### Задача 2\n",
    "В первом ящике находится 8 мячей, из которых 5 - белые. Во втором ящике - 12 мячей, из которых 5 белых. Из первого ящика вытаскивают случайным образом два мяча, из второго - 4. Какова вероятность того, что 3 мяча белые?"
   ]
  },
  {
   "cell_type": "code",
   "execution_count": 13,
   "id": "8ec336f8",
   "metadata": {},
   "outputs": [],
   "source": [
    "def combinations(n, k):\n",
    "    return math.factorial(n) // (math.factorial(k) * math.factorial(n-k))"
   ]
  },
  {
   "cell_type": "code",
   "execution_count": 28,
   "id": "0f6ac028",
   "metadata": {},
   "outputs": [
    {
     "data": {
      "text/plain": [
       "0.12626262626262627"
      ]
     },
     "execution_count": 28,
     "metadata": {},
     "output_type": "execute_result"
    }
   ],
   "source": [
    "# 2 from 1st, 1 from 2nd\n",
    "p_2from1 = (combinations(5, 2) / combinations(8, 2))\n",
    "p_1from2 = (combinations(5, 1) * combinations(7, 3) / combinations(12, 4))\n",
    "p_2from1 * p_1from2"
   ]
  },
  {
   "cell_type": "code",
   "execution_count": 29,
   "id": "e523b82c",
   "metadata": {},
   "outputs": [
    {
     "data": {
      "text/plain": [
       "0.22727272727272727"
      ]
     },
     "execution_count": 29,
     "metadata": {},
     "output_type": "execute_result"
    }
   ],
   "source": [
    "# 1 from 1st, 2 from 2nd\n",
    "p_1from1 = (combinations(5, 1) * combinations(3, 1) / combinations(8, 2))\n",
    "p_2from2 = (combinations(5, 2) * combinations(7, 2) / combinations(12, 4))\n",
    "p_1from1 * p_2from2"
   ]
  },
  {
   "cell_type": "code",
   "execution_count": 30,
   "id": "789756d4",
   "metadata": {},
   "outputs": [
    {
     "data": {
      "text/plain": [
       "0.01515151515151515"
      ]
     },
     "execution_count": 30,
     "metadata": {},
     "output_type": "execute_result"
    }
   ],
   "source": [
    "# 0 from 1st, 3 from 2nd\n",
    "p_0from1 = (combinations(3, 2) / combinations(8, 2))\n",
    "p_3from2 = (combinations(5, 3) * combinations(7, 1) / combinations(12, 4))\n",
    "p_0from1 * p_3from2"
   ]
  },
  {
   "cell_type": "code",
   "execution_count": 31,
   "id": "6b15d024",
   "metadata": {},
   "outputs": [
    {
     "data": {
      "text/plain": [
       "0.3686868686868687"
      ]
     },
     "execution_count": 31,
     "metadata": {},
     "output_type": "execute_result"
    }
   ],
   "source": [
    "p_2from1 * p_1from2 + p_1from1 * p_2from2 + p_0from1 * p_3from2"
   ]
  },
  {
   "cell_type": "markdown",
   "id": "71a1e98b",
   "metadata": {},
   "source": [
    "### Задача 3\n",
    "На соревновании по биатлону один из трех спортсменов стреляет и попадает в мишень. Вероятность попадания для первого спортсмена равна 0.9, для второго — 0.8, для третьего — 0.6. Найти вероятность того, что выстрел произведен: a). первым спортсменом б). вторым спортсменом в). третьим спортсменом.\n"
   ]
  },
  {
   "cell_type": "code",
   "execution_count": 16,
   "id": "53157380",
   "metadata": {},
   "outputs": [
    {
     "data": {
      "text/plain": [
       "0.391304347826087"
      ]
     },
     "execution_count": 16,
     "metadata": {},
     "output_type": "execute_result"
    }
   ],
   "source": [
    "# используем формулу Байеса\n",
    "p_hit = 0.9*(1/3) + 0.8*(1/3) + 0.6*(1/3)\n",
    "p_3_1 = (0.9 * (1/3)) / p_hit\n",
    "p_3_1"
   ]
  },
  {
   "cell_type": "code",
   "execution_count": 17,
   "id": "4ac05baf",
   "metadata": {},
   "outputs": [
    {
     "data": {
      "text/plain": [
       "0.3478260869565218"
      ]
     },
     "execution_count": 17,
     "metadata": {},
     "output_type": "execute_result"
    }
   ],
   "source": [
    "p_3_2 = (0.8 * (1/3)) / p_hit\n",
    "p_3_2"
   ]
  },
  {
   "cell_type": "code",
   "execution_count": 18,
   "id": "bbcdd111",
   "metadata": {},
   "outputs": [
    {
     "data": {
      "text/plain": [
       "0.2608695652173913"
      ]
     },
     "execution_count": 18,
     "metadata": {},
     "output_type": "execute_result"
    }
   ],
   "source": [
    "p_3_3 = (0.6 * (1/3)) / p_hit\n",
    "p_3_3"
   ]
  },
  {
   "cell_type": "markdown",
   "id": "86ab623d",
   "metadata": {},
   "source": [
    "### Задача 4\n",
    "В университет на факультеты A и B поступило равное количество студентов, а на факультет C студентов поступило столько же, сколько на A и B вместе. Вероятность того, что студент факультета A сдаст первую сессию, равна 0.8. Для студента факультета B эта вероятность равна 0.7, а для студента факультета C - 0.9. Студент сдал первую сессию. Какова вероятность, что он учится: a). на факультете A б). на факультете B в). на факультете C?\n"
   ]
  },
  {
   "cell_type": "code",
   "execution_count": 19,
   "id": "eeaf76a2",
   "metadata": {},
   "outputs": [
    {
     "data": {
      "text/plain": [
       "0.24242424242424246"
      ]
     },
     "execution_count": 19,
     "metadata": {},
     "output_type": "execute_result"
    }
   ],
   "source": [
    "# используем формулу Байеса\n",
    "p_pass = 0.8*0.25 + 0.7*0.25 + 0.9*0.5\n",
    "p_f1 = 0.8*0.25 / p_pass\n",
    "p_f1"
   ]
  },
  {
   "cell_type": "code",
   "execution_count": 20,
   "id": "9e3c2fb6",
   "metadata": {},
   "outputs": [
    {
     "data": {
      "text/plain": [
       "0.21212121212121213"
      ]
     },
     "execution_count": 20,
     "metadata": {},
     "output_type": "execute_result"
    }
   ],
   "source": [
    "p_f2 = 0.7*0.25 / p_pass\n",
    "p_f2"
   ]
  },
  {
   "cell_type": "code",
   "execution_count": 21,
   "id": "690bc489",
   "metadata": {},
   "outputs": [
    {
     "data": {
      "text/plain": [
       "0.5454545454545455"
      ]
     },
     "execution_count": 21,
     "metadata": {},
     "output_type": "execute_result"
    }
   ],
   "source": [
    "p_f3 = 0.9*0.5 / p_pass\n",
    "p_f3"
   ]
  },
  {
   "cell_type": "markdown",
   "id": "1ecc2d8a",
   "metadata": {},
   "source": [
    "### Задача 5\n",
    "Устройство состоит из трех деталей. Для первой детали вероятность выйти из строя в первый месяц равна 0.1, для второй - 0.2, для третьей - 0.25. Какова вероятность того, что в первый месяц выйдут из строя: а). все детали б). только две детали в). хотя бы одна деталь г). от одной до двух деталей?"
   ]
  },
  {
   "cell_type": "code",
   "execution_count": 22,
   "id": "14dd52b5",
   "metadata": {},
   "outputs": [
    {
     "data": {
      "text/plain": [
       "0.005000000000000001"
      ]
     },
     "execution_count": 22,
     "metadata": {},
     "output_type": "execute_result"
    }
   ],
   "source": [
    "p_p1 = 0.1\n",
    "p_p2 = 0.2\n",
    "p_p3 = 0.25\n",
    "\n",
    "all_det = p_p1 * p_p2 * p_p3\n",
    "all_det"
   ]
  },
  {
   "cell_type": "code",
   "execution_count": 23,
   "id": "b198f22c",
   "metadata": {},
   "outputs": [
    {
     "data": {
      "text/plain": [
       "0.08000000000000002"
      ]
     },
     "execution_count": 23,
     "metadata": {},
     "output_type": "execute_result"
    }
   ],
   "source": [
    "p_2parts = p_p1*p_p2*(1-p_p3) + p_p2*p_p3*(1-p_p1) + p_p1*p_p3*(1-p_p2)\n",
    "p_2parts"
   ]
  },
  {
   "cell_type": "code",
   "execution_count": 24,
   "id": "e7307c5c",
   "metadata": {},
   "outputs": [
    {
     "data": {
      "text/plain": [
       "0.45999999999999996"
      ]
     },
     "execution_count": 24,
     "metadata": {},
     "output_type": "execute_result"
    }
   ],
   "source": [
    "p_0parts = (1-p_p1)*(1-p_p2)*(1-p_p3)\n",
    "p_atleast1 = 1 - p_0parts\n",
    "p_atleast1"
   ]
  },
  {
   "cell_type": "code",
   "execution_count": 25,
   "id": "6bc2200a",
   "metadata": {},
   "outputs": [
    {
     "data": {
      "text/plain": [
       "0.455"
      ]
     },
     "execution_count": 25,
     "metadata": {},
     "output_type": "execute_result"
    }
   ],
   "source": [
    "p_1part = p_p1*(1-p_p2)*(1-p_p3) + p_p2*(1-p_p1)*(1-p_p3) + p_p3*(1-p_p1)*(1-p_p2)\n",
    "p_1or2 = p_1part + p_2parts\n",
    "p_1or2"
   ]
  },
  {
   "cell_type": "code",
   "execution_count": 26,
   "id": "02946f49",
   "metadata": {},
   "outputs": [
    {
     "data": {
      "text/plain": [
       "1.0"
      ]
     },
     "execution_count": 26,
     "metadata": {},
     "output_type": "execute_result"
    }
   ],
   "source": [
    "#CHECK\n",
    "all_det + p_0parts + p_1part + p_2parts"
   ]
  },
  {
   "cell_type": "code",
   "execution_count": null,
   "id": "a296d362",
   "metadata": {},
   "outputs": [],
   "source": []
  }
 ],
 "metadata": {
  "kernelspec": {
   "display_name": "Python 3 (ipykernel)",
   "language": "python",
   "name": "python3"
  },
  "language_info": {
   "codemirror_mode": {
    "name": "ipython",
    "version": 3
   },
   "file_extension": ".py",
   "mimetype": "text/x-python",
   "name": "python",
   "nbconvert_exporter": "python",
   "pygments_lexer": "ipython3",
   "version": "3.9.13"
  }
 },
 "nbformat": 4,
 "nbformat_minor": 5
}
